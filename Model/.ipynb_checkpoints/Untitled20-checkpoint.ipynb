{
  "nbformat": 4,
  "nbformat_minor": 0,
  "metadata": {
    "colab": {
      "provenance": []
    },
    "kernelspec": {
      "name": "python3",
      "display_name": "Python 3"
    },
    "language_info": {
      "name": "python"
    }
  },
  "cells": [
    {
      "cell_type": "code",
      "execution_count": 13,
      "metadata": {
        "id": "VP8pGVjERn9t"
      },
      "outputs": [],
      "source": [
        "import pandas as pd\n",
        "import joblib\n",
        "import time\n",
        "import numpy as np\n",
        "import matplotlib.pyplot as plt\n",
        "import seaborn as sns\n",
        "\n",
        "from sklearn.model_selection import train_test_split,GridSearchCV\n",
        "from sklearn.preprocessing import StandardScaler\n",
        "from sklearn.metrics import accuracy_score,mean_absolute_error,mean_squared_error,mean_squared_log_error,r2_score\n",
        "\n",
        "from sklearn.svm import SVR\n",
        "from sklearn.linear_model import LinearRegression\n",
        "from sklearn.tree import DecisionTreeRegressor\n",
        "from sklearn.linear_model import Lasso\n",
        "from sklearn.ensemble import RandomForestRegressor"
      ]
    },
    {
      "cell_type": "code",
      "source": [
        "df=pd.read_csv(\"sample_data/df3.csv\")"
      ],
      "metadata": {
        "id": "ebvdZI4PRrMK"
      },
      "execution_count": 4,
      "outputs": []
    },
    {
      "cell_type": "code",
      "source": [
        "df.head()"
      ],
      "metadata": {
        "colab": {
          "base_uri": "https://localhost:8080/",
          "height": 243
        },
        "id": "7M7HLKQNSAib",
        "outputId": "728372c9-df5d-468a-d79b-48766e95ccbb"
      },
      "execution_count": 5,
      "outputs": [
        {
          "output_type": "execute_result",
          "data": {
            "text/plain": [
              "   Unnamed: 0  week  center_id  meal_id  checkout_price  num_orders  \\\n",
              "0           0     1         55     1885          136.83         177   \n",
              "1           1     2         55     1885          135.83         323   \n",
              "2           2     3         55     1885          132.92          96   \n",
              "3           3     4         55     1885          135.86         163   \n",
              "4           4     5         55     1885          146.50         215   \n",
              "\n",
              "   region_code  op_area  discount_perc  discount y/n  featured_promotion  \\\n",
              "0           56     2.25         151.39           1.0                 0.0   \n",
              "1           56     2.25         151.40           1.0                 0.0   \n",
              "2           56     2.25         132.93           1.0                 0.0   \n",
              "3           56     2.25         133.85           1.0                 0.0   \n",
              "4           56     2.25         146.51           1.0                 0.0   \n",
              "\n",
              "   new_category_cuisine  new_center_type_city_code  \n",
              "0                   3.0                       57.0  \n",
              "1                   3.0                       57.0  \n",
              "2                   3.0                       57.0  \n",
              "3                   3.0                       57.0  \n",
              "4                   3.0                       57.0  "
            ],
            "text/html": [
              "\n",
              "  <div id=\"df-e157a252-851f-4c02-bf0a-90bf3ea2619c\" class=\"colab-df-container\">\n",
              "    <div>\n",
              "<style scoped>\n",
              "    .dataframe tbody tr th:only-of-type {\n",
              "        vertical-align: middle;\n",
              "    }\n",
              "\n",
              "    .dataframe tbody tr th {\n",
              "        vertical-align: top;\n",
              "    }\n",
              "\n",
              "    .dataframe thead th {\n",
              "        text-align: right;\n",
              "    }\n",
              "</style>\n",
              "<table border=\"1\" class=\"dataframe\">\n",
              "  <thead>\n",
              "    <tr style=\"text-align: right;\">\n",
              "      <th></th>\n",
              "      <th>Unnamed: 0</th>\n",
              "      <th>week</th>\n",
              "      <th>center_id</th>\n",
              "      <th>meal_id</th>\n",
              "      <th>checkout_price</th>\n",
              "      <th>num_orders</th>\n",
              "      <th>region_code</th>\n",
              "      <th>op_area</th>\n",
              "      <th>discount_perc</th>\n",
              "      <th>discount y/n</th>\n",
              "      <th>featured_promotion</th>\n",
              "      <th>new_category_cuisine</th>\n",
              "      <th>new_center_type_city_code</th>\n",
              "    </tr>\n",
              "  </thead>\n",
              "  <tbody>\n",
              "    <tr>\n",
              "      <th>0</th>\n",
              "      <td>0</td>\n",
              "      <td>1</td>\n",
              "      <td>55</td>\n",
              "      <td>1885</td>\n",
              "      <td>136.83</td>\n",
              "      <td>177</td>\n",
              "      <td>56</td>\n",
              "      <td>2.25</td>\n",
              "      <td>151.39</td>\n",
              "      <td>1.0</td>\n",
              "      <td>0.0</td>\n",
              "      <td>3.0</td>\n",
              "      <td>57.0</td>\n",
              "    </tr>\n",
              "    <tr>\n",
              "      <th>1</th>\n",
              "      <td>1</td>\n",
              "      <td>2</td>\n",
              "      <td>55</td>\n",
              "      <td>1885</td>\n",
              "      <td>135.83</td>\n",
              "      <td>323</td>\n",
              "      <td>56</td>\n",
              "      <td>2.25</td>\n",
              "      <td>151.40</td>\n",
              "      <td>1.0</td>\n",
              "      <td>0.0</td>\n",
              "      <td>3.0</td>\n",
              "      <td>57.0</td>\n",
              "    </tr>\n",
              "    <tr>\n",
              "      <th>2</th>\n",
              "      <td>2</td>\n",
              "      <td>3</td>\n",
              "      <td>55</td>\n",
              "      <td>1885</td>\n",
              "      <td>132.92</td>\n",
              "      <td>96</td>\n",
              "      <td>56</td>\n",
              "      <td>2.25</td>\n",
              "      <td>132.93</td>\n",
              "      <td>1.0</td>\n",
              "      <td>0.0</td>\n",
              "      <td>3.0</td>\n",
              "      <td>57.0</td>\n",
              "    </tr>\n",
              "    <tr>\n",
              "      <th>3</th>\n",
              "      <td>3</td>\n",
              "      <td>4</td>\n",
              "      <td>55</td>\n",
              "      <td>1885</td>\n",
              "      <td>135.86</td>\n",
              "      <td>163</td>\n",
              "      <td>56</td>\n",
              "      <td>2.25</td>\n",
              "      <td>133.85</td>\n",
              "      <td>1.0</td>\n",
              "      <td>0.0</td>\n",
              "      <td>3.0</td>\n",
              "      <td>57.0</td>\n",
              "    </tr>\n",
              "    <tr>\n",
              "      <th>4</th>\n",
              "      <td>4</td>\n",
              "      <td>5</td>\n",
              "      <td>55</td>\n",
              "      <td>1885</td>\n",
              "      <td>146.50</td>\n",
              "      <td>215</td>\n",
              "      <td>56</td>\n",
              "      <td>2.25</td>\n",
              "      <td>146.51</td>\n",
              "      <td>1.0</td>\n",
              "      <td>0.0</td>\n",
              "      <td>3.0</td>\n",
              "      <td>57.0</td>\n",
              "    </tr>\n",
              "  </tbody>\n",
              "</table>\n",
              "</div>\n",
              "    <div class=\"colab-df-buttons\">\n",
              "\n",
              "  <div class=\"colab-df-container\">\n",
              "    <button class=\"colab-df-convert\" onclick=\"convertToInteractive('df-e157a252-851f-4c02-bf0a-90bf3ea2619c')\"\n",
              "            title=\"Convert this dataframe to an interactive table.\"\n",
              "            style=\"display:none;\">\n",
              "\n",
              "  <svg xmlns=\"http://www.w3.org/2000/svg\" height=\"24px\" viewBox=\"0 -960 960 960\">\n",
              "    <path d=\"M120-120v-720h720v720H120Zm60-500h600v-160H180v160Zm220 220h160v-160H400v160Zm0 220h160v-160H400v160ZM180-400h160v-160H180v160Zm440 0h160v-160H620v160ZM180-180h160v-160H180v160Zm440 0h160v-160H620v160Z\"/>\n",
              "  </svg>\n",
              "    </button>\n",
              "\n",
              "  <style>\n",
              "    .colab-df-container {\n",
              "      display:flex;\n",
              "      gap: 12px;\n",
              "    }\n",
              "\n",
              "    .colab-df-convert {\n",
              "      background-color: #E8F0FE;\n",
              "      border: none;\n",
              "      border-radius: 50%;\n",
              "      cursor: pointer;\n",
              "      display: none;\n",
              "      fill: #1967D2;\n",
              "      height: 32px;\n",
              "      padding: 0 0 0 0;\n",
              "      width: 32px;\n",
              "    }\n",
              "\n",
              "    .colab-df-convert:hover {\n",
              "      background-color: #E2EBFA;\n",
              "      box-shadow: 0px 1px 2px rgba(60, 64, 67, 0.3), 0px 1px 3px 1px rgba(60, 64, 67, 0.15);\n",
              "      fill: #174EA6;\n",
              "    }\n",
              "\n",
              "    .colab-df-buttons div {\n",
              "      margin-bottom: 4px;\n",
              "    }\n",
              "\n",
              "    [theme=dark] .colab-df-convert {\n",
              "      background-color: #3B4455;\n",
              "      fill: #D2E3FC;\n",
              "    }\n",
              "\n",
              "    [theme=dark] .colab-df-convert:hover {\n",
              "      background-color: #434B5C;\n",
              "      box-shadow: 0px 1px 3px 1px rgba(0, 0, 0, 0.15);\n",
              "      filter: drop-shadow(0px 1px 2px rgba(0, 0, 0, 0.3));\n",
              "      fill: #FFFFFF;\n",
              "    }\n",
              "  </style>\n",
              "\n",
              "    <script>\n",
              "      const buttonEl =\n",
              "        document.querySelector('#df-e157a252-851f-4c02-bf0a-90bf3ea2619c button.colab-df-convert');\n",
              "      buttonEl.style.display =\n",
              "        google.colab.kernel.accessAllowed ? 'block' : 'none';\n",
              "\n",
              "      async function convertToInteractive(key) {\n",
              "        const element = document.querySelector('#df-e157a252-851f-4c02-bf0a-90bf3ea2619c');\n",
              "        const dataTable =\n",
              "          await google.colab.kernel.invokeFunction('convertToInteractive',\n",
              "                                                    [key], {});\n",
              "        if (!dataTable) return;\n",
              "\n",
              "        const docLinkHtml = 'Like what you see? Visit the ' +\n",
              "          '<a target=\"_blank\" href=https://colab.research.google.com/notebooks/data_table.ipynb>data table notebook</a>'\n",
              "          + ' to learn more about interactive tables.';\n",
              "        element.innerHTML = '';\n",
              "        dataTable['output_type'] = 'display_data';\n",
              "        await google.colab.output.renderOutput(dataTable, element);\n",
              "        const docLink = document.createElement('div');\n",
              "        docLink.innerHTML = docLinkHtml;\n",
              "        element.appendChild(docLink);\n",
              "      }\n",
              "    </script>\n",
              "  </div>\n",
              "\n",
              "\n",
              "<div id=\"df-4dceba3d-d671-43ac-8d27-b6ebf343affc\">\n",
              "  <button class=\"colab-df-quickchart\" onclick=\"quickchart('df-4dceba3d-d671-43ac-8d27-b6ebf343affc')\"\n",
              "            title=\"Suggest charts\"\n",
              "            style=\"display:none;\">\n",
              "\n",
              "<svg xmlns=\"http://www.w3.org/2000/svg\" height=\"24px\"viewBox=\"0 0 24 24\"\n",
              "     width=\"24px\">\n",
              "    <g>\n",
              "        <path d=\"M19 3H5c-1.1 0-2 .9-2 2v14c0 1.1.9 2 2 2h14c1.1 0 2-.9 2-2V5c0-1.1-.9-2-2-2zM9 17H7v-7h2v7zm4 0h-2V7h2v10zm4 0h-2v-4h2v4z\"/>\n",
              "    </g>\n",
              "</svg>\n",
              "  </button>\n",
              "\n",
              "<style>\n",
              "  .colab-df-quickchart {\n",
              "      --bg-color: #E8F0FE;\n",
              "      --fill-color: #1967D2;\n",
              "      --hover-bg-color: #E2EBFA;\n",
              "      --hover-fill-color: #174EA6;\n",
              "      --disabled-fill-color: #AAA;\n",
              "      --disabled-bg-color: #DDD;\n",
              "  }\n",
              "\n",
              "  [theme=dark] .colab-df-quickchart {\n",
              "      --bg-color: #3B4455;\n",
              "      --fill-color: #D2E3FC;\n",
              "      --hover-bg-color: #434B5C;\n",
              "      --hover-fill-color: #FFFFFF;\n",
              "      --disabled-bg-color: #3B4455;\n",
              "      --disabled-fill-color: #666;\n",
              "  }\n",
              "\n",
              "  .colab-df-quickchart {\n",
              "    background-color: var(--bg-color);\n",
              "    border: none;\n",
              "    border-radius: 50%;\n",
              "    cursor: pointer;\n",
              "    display: none;\n",
              "    fill: var(--fill-color);\n",
              "    height: 32px;\n",
              "    padding: 0;\n",
              "    width: 32px;\n",
              "  }\n",
              "\n",
              "  .colab-df-quickchart:hover {\n",
              "    background-color: var(--hover-bg-color);\n",
              "    box-shadow: 0 1px 2px rgba(60, 64, 67, 0.3), 0 1px 3px 1px rgba(60, 64, 67, 0.15);\n",
              "    fill: var(--button-hover-fill-color);\n",
              "  }\n",
              "\n",
              "  .colab-df-quickchart-complete:disabled,\n",
              "  .colab-df-quickchart-complete:disabled:hover {\n",
              "    background-color: var(--disabled-bg-color);\n",
              "    fill: var(--disabled-fill-color);\n",
              "    box-shadow: none;\n",
              "  }\n",
              "\n",
              "  .colab-df-spinner {\n",
              "    border: 2px solid var(--fill-color);\n",
              "    border-color: transparent;\n",
              "    border-bottom-color: var(--fill-color);\n",
              "    animation:\n",
              "      spin 1s steps(1) infinite;\n",
              "  }\n",
              "\n",
              "  @keyframes spin {\n",
              "    0% {\n",
              "      border-color: transparent;\n",
              "      border-bottom-color: var(--fill-color);\n",
              "      border-left-color: var(--fill-color);\n",
              "    }\n",
              "    20% {\n",
              "      border-color: transparent;\n",
              "      border-left-color: var(--fill-color);\n",
              "      border-top-color: var(--fill-color);\n",
              "    }\n",
              "    30% {\n",
              "      border-color: transparent;\n",
              "      border-left-color: var(--fill-color);\n",
              "      border-top-color: var(--fill-color);\n",
              "      border-right-color: var(--fill-color);\n",
              "    }\n",
              "    40% {\n",
              "      border-color: transparent;\n",
              "      border-right-color: var(--fill-color);\n",
              "      border-top-color: var(--fill-color);\n",
              "    }\n",
              "    60% {\n",
              "      border-color: transparent;\n",
              "      border-right-color: var(--fill-color);\n",
              "    }\n",
              "    80% {\n",
              "      border-color: transparent;\n",
              "      border-right-color: var(--fill-color);\n",
              "      border-bottom-color: var(--fill-color);\n",
              "    }\n",
              "    90% {\n",
              "      border-color: transparent;\n",
              "      border-bottom-color: var(--fill-color);\n",
              "    }\n",
              "  }\n",
              "</style>\n",
              "\n",
              "  <script>\n",
              "    async function quickchart(key) {\n",
              "      const quickchartButtonEl =\n",
              "        document.querySelector('#' + key + ' button');\n",
              "      quickchartButtonEl.disabled = true;  // To prevent multiple clicks.\n",
              "      quickchartButtonEl.classList.add('colab-df-spinner');\n",
              "      try {\n",
              "        const charts = await google.colab.kernel.invokeFunction(\n",
              "            'suggestCharts', [key], {});\n",
              "      } catch (error) {\n",
              "        console.error('Error during call to suggestCharts:', error);\n",
              "      }\n",
              "      quickchartButtonEl.classList.remove('colab-df-spinner');\n",
              "      quickchartButtonEl.classList.add('colab-df-quickchart-complete');\n",
              "    }\n",
              "    (() => {\n",
              "      let quickchartButtonEl =\n",
              "        document.querySelector('#df-4dceba3d-d671-43ac-8d27-b6ebf343affc button');\n",
              "      quickchartButtonEl.style.display =\n",
              "        google.colab.kernel.accessAllowed ? 'block' : 'none';\n",
              "    })();\n",
              "  </script>\n",
              "</div>\n",
              "\n",
              "    </div>\n",
              "  </div>\n"
            ],
            "application/vnd.google.colaboratory.intrinsic+json": {
              "type": "dataframe",
              "variable_name": "df",
              "summary": "{\n  \"name\": \"df\",\n  \"rows\": 62239,\n  \"fields\": [\n    {\n      \"column\": \"Unnamed: 0\",\n      \"properties\": {\n        \"dtype\": \"number\",\n        \"std\": 17966,\n        \"min\": 0,\n        \"max\": 62238,\n        \"num_unique_values\": 62239,\n        \"samples\": [\n          59405,\n          38898,\n          35511\n        ],\n        \"semantic_type\": \"\",\n        \"description\": \"\"\n      }\n    },\n    {\n      \"column\": \"week\",\n      \"properties\": {\n        \"dtype\": \"number\",\n        \"std\": 41,\n        \"min\": 1,\n        \"max\": 145,\n        \"num_unique_values\": 145,\n        \"samples\": [\n          70,\n          141,\n          28\n        ],\n        \"semantic_type\": \"\",\n        \"description\": \"\"\n      }\n    },\n    {\n      \"column\": \"center_id\",\n      \"properties\": {\n        \"dtype\": \"number\",\n        \"std\": 45,\n        \"min\": 10,\n        \"max\": 186,\n        \"num_unique_values\": 77,\n        \"samples\": [\n          32,\n          64,\n          146\n        ],\n        \"semantic_type\": \"\",\n        \"description\": \"\"\n      }\n    },\n    {\n      \"column\": \"meal_id\",\n      \"properties\": {\n        \"dtype\": \"number\",\n        \"std\": 453,\n        \"min\": 1248,\n        \"max\": 2631,\n        \"num_unique_values\": 7,\n        \"samples\": [\n          1885,\n          1993,\n          1248\n        ],\n        \"semantic_type\": \"\",\n        \"description\": \"\"\n      }\n    },\n    {\n      \"column\": \"checkout_price\",\n      \"properties\": {\n        \"dtype\": \"number\",\n        \"std\": 70.26700614238977,\n        \"min\": 45.62,\n        \"max\": 456.93,\n        \"num_unique_values\": 729,\n        \"samples\": [\n          367.63,\n          106.7,\n          392.88\n        ],\n        \"semantic_type\": \"\",\n        \"description\": \"\"\n      }\n    },\n    {\n      \"column\": \"num_orders\",\n      \"properties\": {\n        \"dtype\": \"number\",\n        \"std\": 252,\n        \"min\": 13,\n        \"max\": 729,\n        \"num_unique_values\": 161,\n        \"samples\": [\n          580,\n          674,\n          593\n        ],\n        \"semantic_type\": \"\",\n        \"description\": \"\"\n      }\n    },\n    {\n      \"column\": \"region_code\",\n      \"properties\": {\n        \"dtype\": \"number\",\n        \"std\": 17,\n        \"min\": 23,\n        \"max\": 93,\n        \"num_unique_values\": 8,\n        \"samples\": [\n          85,\n          71,\n          56\n        ],\n        \"semantic_type\": \"\",\n        \"description\": \"\"\n      }\n    },\n    {\n      \"column\": \"op_area\",\n      \"properties\": {\n        \"dtype\": \"number\",\n        \"std\": 0.8752277043072446,\n        \"min\": 2.25,\n        \"max\": 5.85,\n        \"num_unique_values\": 26,\n        \"samples\": [\n          3.4,\n          4.5,\n          2.25\n        ],\n        \"semantic_type\": \"\",\n        \"description\": \"\"\n      }\n    },\n    {\n      \"column\": \"discount_perc\",\n      \"properties\": {\n        \"dtype\": \"number\",\n        \"std\": 73.18209476972405,\n        \"min\": 64.04,\n        \"max\": 456.47,\n        \"num_unique_values\": 3456,\n        \"samples\": [\n          306.58,\n          142.56,\n          118.52\n        ],\n        \"semantic_type\": \"\",\n        \"description\": \"\"\n      }\n    },\n    {\n      \"column\": \"discount y/n\",\n      \"properties\": {\n        \"dtype\": \"number\",\n        \"std\": 0.0,\n        \"min\": 1.0,\n        \"max\": 1.0,\n        \"num_unique_values\": 1,\n        \"samples\": [\n          1.0\n        ],\n        \"semantic_type\": \"\",\n        \"description\": \"\"\n      }\n    },\n    {\n      \"column\": \"featured_promotion\",\n      \"properties\": {\n        \"dtype\": \"number\",\n        \"std\": 0.7831950942922017,\n        \"min\": 0.0,\n        \"max\": 3.0,\n        \"num_unique_values\": 4,\n        \"samples\": [\n          2.0\n        ],\n        \"semantic_type\": \"\",\n        \"description\": \"\"\n      }\n    },\n    {\n      \"column\": \"new_category_cuisine\",\n      \"properties\": {\n        \"dtype\": \"number\",\n        \"std\": 0.9962676135446149,\n        \"min\": 1.0,\n        \"max\": 3.0,\n        \"num_unique_values\": 3,\n        \"samples\": [\n          3.0\n        ],\n        \"semantic_type\": \"\",\n        \"description\": \"\"\n      }\n    },\n    {\n      \"column\": \"new_center_type_city_code\",\n      \"properties\": {\n        \"dtype\": \"number\",\n        \"std\": 18.745454050873093,\n        \"min\": 0.0,\n        \"max\": 62.0,\n        \"num_unique_values\": 63,\n        \"samples\": [\n          22.0\n        ],\n        \"semantic_type\": \"\",\n        \"description\": \"\"\n      }\n    }\n  ]\n}"
            }
          },
          "metadata": {},
          "execution_count": 5
        }
      ]
    },
    {
      "cell_type": "code",
      "source": [
        "X=df.drop(['num_orders'],axis=1)\n",
        "y=df['num_orders']"
      ],
      "metadata": {
        "id": "F-qFJRIJSqIb"
      },
      "execution_count": 8,
      "outputs": []
    },
    {
      "cell_type": "code",
      "source": [
        "\n",
        "scaler = StandardScaler()\n",
        "\n",
        "scaled_x = scaler.fit_transform(X)\n"
      ],
      "metadata": {
        "id": "hHxqmShYS-4K"
      },
      "execution_count": 9,
      "outputs": []
    },
    {
      "cell_type": "code",
      "source": [
        "x_train,x_test,y_train,y_test=train_test_split(X,y,test_size=0.2,shuffle=False)"
      ],
      "metadata": {
        "id": "c54BsBHTTIDD"
      },
      "execution_count": 12,
      "outputs": []
    },
    {
      "cell_type": "code",
      "source": [
        "# SVR\n",
        "svr = SVR()\n",
        "svr_params = {\n",
        "    'kernel': ['linear', 'poly', 'rbf'],\n",
        "    'C': [0.1, 1, 10],\n",
        "    'epsilon': [0.1, 0.2, 0.5]\n",
        "}\n",
        "\n",
        "# Linear Regression\n",
        "lr = LinearRegression()\n",
        "lr_params = {\n",
        "    'fit_intercept': [True, False],\n",
        "    'normalize': [True, False]\n",
        "}\n",
        "\n",
        "# Decision Tree Regressor\n",
        "dt = DecisionTreeRegressor()\n",
        "dt_params = {\n",
        "    'criterion': ['squared_error', 'friedman_mse', 'absolute_error', 'poisson'],\n",
        "    'max_depth': [None, 10, 20, 30],\n",
        "    'min_samples_split': [2, 5, 10],\n",
        "    'min_samples_leaf': [1, 2, 4]\n",
        "}\n",
        "\n",
        "# Lasso\n",
        "lasso = Lasso()\n",
        "lasso_params = {\n",
        "    'alpha': [0.1, 1, 10],\n",
        "    'fit_intercept': [True, False],\n",
        "    'normalize': [True, False],\n",
        "    'max_iter': [1000, 2000, 3000]\n",
        "}\n",
        "\n",
        "# Random Forest Regressor\n",
        "rf = RandomForestRegressor()\n",
        "rf_params = {\n",
        "    'n_estimators': [100, 200, 500],\n",
        "    'max_depth': [None, 10, 20],\n",
        "    'min_samples_split': [2, 5, 10],\n",
        "    'min_samples_leaf': [1, 2, 4]\n",
        "}\n"
      ],
      "metadata": {
        "id": "-_I8SWpzTQ4H"
      },
      "execution_count": 14,
      "outputs": []
    },
    {
      "cell_type": "code",
      "source": [
        "best_estimators={}"
      ],
      "metadata": {
        "id": "n72KdBvGTxoI"
      },
      "execution_count": 15,
      "outputs": []
    },
    {
      "cell_type": "code",
      "source": [
        "data= {\n",
        "    'Model':[],\n",
        "    'MAE':[],\n",
        "    'MSE':[],\n",
        "    'R2_score':[],\n",
        "    'parameters':[]\n",
        "}"
      ],
      "metadata": {
        "id": "eXGurpzTUeRM"
      },
      "execution_count": 16,
      "outputs": []
    },
    {
      "cell_type": "code",
      "source": [],
      "metadata": {
        "id": "5xCCCPdGUdBd"
      },
      "execution_count": null,
      "outputs": []
    },
    {
      "cell_type": "markdown",
      "source": [
        "### SVR"
      ],
      "metadata": {
        "id": "LsZzkaPkUIy5"
      }
    },
    {
      "cell_type": "code",
      "source": [
        "\n",
        "grid_search = GridSearchCV(svr, svr_params, cv=5, scoring='neg_mean_squared_error', n_jobs=-1)\n",
        "grid_search.fit(x_train, y_train)\n",
        "best_estimators['svr'] = grid_search.best_estimator_\n",
        "print(f'SVR Best Params: {grid_search.best_params_}')\n",
        "print(f'SVR Best MSE: {-grid_search.best_score_}')"
      ],
      "metadata": {
        "id": "QBfEekrrT0uH"
      },
      "execution_count": null,
      "outputs": []
    },
    {
      "cell_type": "code",
      "source": [
        "y_pred = best_estimators['svr'].predict(x_test)\n",
        "print('mean_absolute_error:',mean_absolute_error(y_pred,y_test))\n",
        "print('mean_squared_error:',mean_squared_error(y_pred,y_test))\n",
        "print('r2_score:',r2_score(y_test,y_pred))"
      ],
      "metadata": {
        "id": "zBDN4A6JUG-5"
      },
      "execution_count": null,
      "outputs": []
    },
    {
      "cell_type": "code",
      "source": [
        "joblib.dump(best_estimators['svr'], 'svr.pkl')"
      ],
      "metadata": {
        "id": "aonJAE-lUO0a"
      },
      "execution_count": null,
      "outputs": []
    },
    {
      "cell_type": "code",
      "source": [
        "data['Model'].append('SVR')\n",
        "data['MAE'].append(mean_absolute_error(y_pred,y_test))\n",
        "data['MSE'].append(mean_squared_error(y_pred,y_test))\n",
        "data['R2_score'].append(r2_score(y_test,y_pred))\n",
        "data['parameters'].append(best_estimators['svr'].get_params())\n",
        "print(data)"
      ],
      "metadata": {
        "id": "xQFQvWkaUaSN"
      },
      "execution_count": null,
      "outputs": []
    },
    {
      "cell_type": "code",
      "source": [
        "pd.DataFrame(data).to_csv('modelinfo1.csv', index=False)"
      ],
      "metadata": {
        "id": "ldkzTR_3VmT0"
      },
      "execution_count": null,
      "outputs": []
    },
    {
      "cell_type": "markdown",
      "source": [
        "#### decision Tree"
      ],
      "metadata": {
        "id": "xxRZ5hdIU7Lf"
      }
    },
    {
      "cell_type": "code",
      "source": [
        "start=time.time()\n",
        "grid_search = GridSearchCV(dt, dt_params, cv=5, scoring='neg_mean_squared_error', n_jobs=-1)\n",
        "grid_search.fit(x_train, y_train)\n",
        "end=time.time()\n",
        "print(f'Time taken: {end-start}')\n",
        "best_estimators['decision_tree'] = grid_search.best_estimator_\n",
        "print(f'decision tree Best Params: {grid_search.best_params_}')\n",
        "print(f'decision tree Best MSE: {-grid_search.best_score_}')"
      ],
      "metadata": {
        "id": "GM-EHH9WU5xw"
      },
      "execution_count": null,
      "outputs": []
    },
    {
      "cell_type": "code",
      "source": [
        "y_pred = best_estimators['decision_tree'].predict(x_test)\n",
        "print('mean_absolute_error:',mean_absolute_error(y_pred,y_test))\n",
        "print('mean_squared_error:',mean_squared_error(y_pred,y_test))\n",
        "print('r2_score:',r2_score(y_test,y_pred))"
      ],
      "metadata": {
        "id": "siWAIghJVLYT"
      },
      "execution_count": null,
      "outputs": []
    },
    {
      "cell_type": "code",
      "source": [
        "joblib.dump(best_estimators['decision_tree'], 'decision_tree.pkl')"
      ],
      "metadata": {
        "id": "4FRMbRLZVQSl"
      },
      "execution_count": null,
      "outputs": []
    },
    {
      "cell_type": "code",
      "source": [
        "data['Model'].append('decision_tree')\n",
        "data['MAE'].append(mean_absolute_error(y_pred,y_test))\n",
        "data['MSE'].append(mean_squared_error(y_pred,y_test))\n",
        "data['R2_score'].append(r2_score(y_test,y_pred))\n",
        "data['parameter'].append(best_estimators['decision_tree'].get_params())\n",
        "print(data)"
      ],
      "metadata": {
        "id": "m4pMf0SeVSqo"
      },
      "execution_count": null,
      "outputs": []
    },
    {
      "cell_type": "code",
      "source": [
        "pd.DataFrame(data).to_csv('modelinfo2.csv', index=False)"
      ],
      "metadata": {
        "id": "7oGN1o15WCqt"
      },
      "execution_count": null,
      "outputs": []
    }
  ]
}