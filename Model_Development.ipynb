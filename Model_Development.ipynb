{
 "cells": [
  {
   "cell_type": "markdown",
   "id": "8f451ded-ddae-41a4-b7ce-212b49f270d3",
   "metadata": {},
   "source": [
    "## Model Development"
   ]
  },
  {
   "cell_type": "markdown",
   "id": "185a58f3-cae9-42f4-8dfd-c42985fee145",
   "metadata": {},
   "source": [
    "#### importing labraries"
   ]
  },
  {
   "cell_type": "code",
   "execution_count": 1,
   "id": "db335c18-86c3-4779-aa0d-b7d9a4243bc1",
   "metadata": {},
   "outputs": [
    {
     "name": "stderr",
     "output_type": "stream",
     "text": [
      "2024-08-18 21:50:08.425724: I tensorflow/core/util/port.cc:113] oneDNN custom operations are on. You may see slightly different numerical results due to floating-point round-off errors from different computation orders. To turn them off, set the environment variable `TF_ENABLE_ONEDNN_OPTS=0`.\n",
      "2024-08-18 21:50:08.429400: I external/local_tsl/tsl/cuda/cudart_stub.cc:32] Could not find cuda drivers on your machine, GPU will not be used.\n",
      "2024-08-18 21:50:08.535741: I external/local_tsl/tsl/cuda/cudart_stub.cc:32] Could not find cuda drivers on your machine, GPU will not be used.\n",
      "2024-08-18 21:50:08.986869: I tensorflow/core/platform/cpu_feature_guard.cc:210] This TensorFlow binary is optimized to use available CPU instructions in performance-critical operations.\n",
      "To enable the following instructions: AVX2 AVX512F AVX512_VNNI FMA, in other operations, rebuild TensorFlow with the appropriate compiler flags.\n",
      "2024-08-18 21:50:11.615446: W tensorflow/compiler/tf2tensorrt/utils/py_utils.cc:38] TF-TRT Warning: Could not find TensorRT\n"
     ]
    }
   ],
   "source": [
    "import pandas as pd\n",
    "import joblib\n",
    "import time\n",
    "import numpy as np\n",
    "import matplotlib.pyplot as plt\n",
    "import seaborn as sns\n",
    "\n",
    "from sklearn.model_selection import train_test_split,GridSearchCV\n",
    "from sklearn.preprocessing import StandardScaler\n",
    "from sklearn.metrics import accuracy_score,mean_absolute_error,mean_squared_error,mean_squared_log_error,r2_score\n",
    "\n",
    "from sklearn.svm import SVR\n",
    "from sklearn.linear_model import LinearRegression\n",
    "from sklearn.tree import DecisionTreeRegressor\n",
    "from sklearn.linear_model import Lasso\n",
    "from sklearn.ensemble import RandomForestRegressor\n",
    "\n",
    "\n",
    "import tensorflow\n",
    "\n",
    "from tensorflow import keras\n",
    "from keras import layers\n",
    "from keras.layers import LSTM,Dense\n",
    "from keras.models import Sequential"
   ]
  },
  {
   "cell_type": "code",
   "execution_count": 8,
   "id": "22b6a297-7053-4200-a6a5-a20518301d0c",
   "metadata": {},
   "outputs": [],
   "source": [
    "df=pd.read_csv(\"DATA/df3.csv\")"
   ]
  },
  {
   "cell_type": "code",
   "execution_count": 2,
   "id": "5adf7253-5f98-4a9c-94d9-7da8ca39f570",
   "metadata": {},
   "outputs": [],
   "source": [
    "df=pd.read_csv(\"DATA/df7.csv\")"
   ]
  },
  {
   "cell_type": "code",
   "execution_count": 3,
   "id": "e37a8756-768f-4793-b73c-dd550050b939",
   "metadata": {},
   "outputs": [
    {
     "data": {
      "text/html": [
       "<div>\n",
       "<style scoped>\n",
       "    .dataframe tbody tr th:only-of-type {\n",
       "        vertical-align: middle;\n",
       "    }\n",
       "\n",
       "    .dataframe tbody tr th {\n",
       "        vertical-align: top;\n",
       "    }\n",
       "\n",
       "    .dataframe thead th {\n",
       "        text-align: right;\n",
       "    }\n",
       "</style>\n",
       "<table border=\"1\" class=\"dataframe\">\n",
       "  <thead>\n",
       "    <tr style=\"text-align: right;\">\n",
       "      <th></th>\n",
       "      <th>Unnamed: 0</th>\n",
       "      <th>week</th>\n",
       "      <th>center_id</th>\n",
       "      <th>meal_id</th>\n",
       "      <th>checkout_price</th>\n",
       "      <th>num_orders</th>\n",
       "      <th>region_code</th>\n",
       "      <th>op_area</th>\n",
       "      <th>discount_perc</th>\n",
       "      <th>discount y/n</th>\n",
       "      <th>featured_promotion</th>\n",
       "      <th>new_category_cuisine</th>\n",
       "      <th>new_center_type_city_code</th>\n",
       "    </tr>\n",
       "  </thead>\n",
       "  <tbody>\n",
       "    <tr>\n",
       "      <th>0</th>\n",
       "      <td>0</td>\n",
       "      <td>1</td>\n",
       "      <td>55</td>\n",
       "      <td>1885</td>\n",
       "      <td>136.83</td>\n",
       "      <td>177</td>\n",
       "      <td>56</td>\n",
       "      <td>2.0</td>\n",
       "      <td>0.10</td>\n",
       "      <td>1</td>\n",
       "      <td>0</td>\n",
       "      <td>3</td>\n",
       "      <td>57</td>\n",
       "    </tr>\n",
       "    <tr>\n",
       "      <th>1</th>\n",
       "      <td>1</td>\n",
       "      <td>2</td>\n",
       "      <td>55</td>\n",
       "      <td>1885</td>\n",
       "      <td>135.83</td>\n",
       "      <td>323</td>\n",
       "      <td>56</td>\n",
       "      <td>2.0</td>\n",
       "      <td>0.11</td>\n",
       "      <td>1</td>\n",
       "      <td>0</td>\n",
       "      <td>3</td>\n",
       "      <td>57</td>\n",
       "    </tr>\n",
       "    <tr>\n",
       "      <th>2</th>\n",
       "      <td>2</td>\n",
       "      <td>3</td>\n",
       "      <td>55</td>\n",
       "      <td>1885</td>\n",
       "      <td>132.92</td>\n",
       "      <td>96</td>\n",
       "      <td>56</td>\n",
       "      <td>2.0</td>\n",
       "      <td>0.01</td>\n",
       "      <td>1</td>\n",
       "      <td>0</td>\n",
       "      <td>3</td>\n",
       "      <td>57</td>\n",
       "    </tr>\n",
       "    <tr>\n",
       "      <th>3</th>\n",
       "      <td>3</td>\n",
       "      <td>4</td>\n",
       "      <td>55</td>\n",
       "      <td>1885</td>\n",
       "      <td>135.86</td>\n",
       "      <td>163</td>\n",
       "      <td>56</td>\n",
       "      <td>2.0</td>\n",
       "      <td>-0.01</td>\n",
       "      <td>0</td>\n",
       "      <td>0</td>\n",
       "      <td>3</td>\n",
       "      <td>57</td>\n",
       "    </tr>\n",
       "    <tr>\n",
       "      <th>4</th>\n",
       "      <td>4</td>\n",
       "      <td>5</td>\n",
       "      <td>55</td>\n",
       "      <td>1885</td>\n",
       "      <td>146.50</td>\n",
       "      <td>215</td>\n",
       "      <td>56</td>\n",
       "      <td>2.0</td>\n",
       "      <td>0.01</td>\n",
       "      <td>1</td>\n",
       "      <td>0</td>\n",
       "      <td>3</td>\n",
       "      <td>57</td>\n",
       "    </tr>\n",
       "  </tbody>\n",
       "</table>\n",
       "</div>"
      ],
      "text/plain": [
       "   Unnamed: 0  week  center_id  meal_id  checkout_price  num_orders  \\\n",
       "0           0     1         55     1885          136.83         177   \n",
       "1           1     2         55     1885          135.83         323   \n",
       "2           2     3         55     1885          132.92          96   \n",
       "3           3     4         55     1885          135.86         163   \n",
       "4           4     5         55     1885          146.50         215   \n",
       "\n",
       "   region_code  op_area  discount_perc  discount y/n  featured_promotion  \\\n",
       "0           56      2.0           0.10             1                   0   \n",
       "1           56      2.0           0.11             1                   0   \n",
       "2           56      2.0           0.01             1                   0   \n",
       "3           56      2.0          -0.01             0                   0   \n",
       "4           56      2.0           0.01             1                   0   \n",
       "\n",
       "   new_category_cuisine  new_center_type_city_code  \n",
       "0                     3                         57  \n",
       "1                     3                         57  \n",
       "2                     3                         57  \n",
       "3                     3                         57  \n",
       "4                     3                         57  "
      ]
     },
     "execution_count": 3,
     "metadata": {},
     "output_type": "execute_result"
    }
   ],
   "source": [
    "df.head()"
   ]
  },
  {
   "cell_type": "code",
   "execution_count": 4,
   "id": "461758d1-80ab-4eb1-9463-40aea8c76ff3",
   "metadata": {},
   "outputs": [],
   "source": [
    "X=df.drop(['num_orders'],axis=1)\n",
    "y=df['num_orders']"
   ]
  },
  {
   "cell_type": "markdown",
   "id": "1ebe814a-5893-4300-b1a3-96853ad53af4",
   "metadata": {},
   "source": [
    "### Scaling Data"
   ]
  },
  {
   "cell_type": "code",
   "execution_count": 5,
   "id": "f192270b-3294-4bb5-828f-b4cf8323d134",
   "metadata": {},
   "outputs": [],
   "source": [
    "scaler = StandardScaler()\n",
    "scaled_x = scaler.fit_transform(X)"
   ]
  },
  {
   "cell_type": "code",
   "execution_count": 12,
   "id": "a54c435b-2fef-4ae6-8ac8-12cf229d755e",
   "metadata": {},
   "outputs": [],
   "source": [
    "x_train,x_test,y_train,y_test=train_test_split(X,y,test_size=0.2,shuffle=False)"
   ]
  },
  {
   "cell_type": "code",
   "execution_count": 7,
   "id": "bdb80c7b-4695-4e39-9938-0787248958e3",
   "metadata": {},
   "outputs": [],
   "source": [
    "  # SVR\n",
    "  svr = SVR()\n",
    "  svr_params = {\n",
    "      'kernel': ['linear', 'poly', 'rbf'],\n",
    "      'C': [0.1, 1, 10],\n",
    "      'epsilon': [0.1, 0.2, 0.5]\n",
    "  }\n",
    "\n",
    "  # Linear Regression\n",
    "  lr = LinearRegression()\n",
    "  lr_params = {\n",
    "      'fit_intercept': [True, False],\n",
    "      'normalize': [True, False]\n",
    "  }\n",
    "\n",
    "  # Decision Tree Regressor\n",
    "  dt = DecisionTreeRegressor()\n",
    "  dt_params = {\n",
    "      'criterion': ['squared_error', 'friedman_mse', 'absolute_error', 'poisson'],\n",
    "      'max_depth': [None, 10, 20, 30],\n",
    "      'min_samples_split': [2, 5, 10],\n",
    "      'min_samples_leaf': [1, 2, 4]\n",
    "  }\n",
    "\n",
    "  # Lasso\n",
    "  lasso = Lasso()\n",
    "  lasso_params = {\n",
    "      'alpha': [0.1, 1, 10],\n",
    "      'fit_intercept': [True, False],\n",
    "      'normalize': [True, False],\n",
    "      'max_iter': [1000, 2000, 3000]\n",
    "  }\n",
    "\n",
    "  # Random Forest Regressor\n",
    "  rf = RandomForestRegressor()\n",
    "  rf_params = {\n",
    "      'n_estimators': [100, 200, 500],\n",
    "      'max_depth': [None, 10, 20],\n",
    "      'min_samples_split': [2, 5, 10],\n",
    "      'min_samples_leaf': [1, 2, 4]\n",
    "  }\n"
   ]
  },
  {
   "cell_type": "code",
   "execution_count": 8,
   "id": "9a8b9b0c-cdf9-4b88-b2c6-65c058f7d429",
   "metadata": {},
   "outputs": [],
   "source": [
    "# for storing ml mdoel details like model name, MSE, MAE, r2_score, parameters\n",
    "best_estimators={}"
   ]
  },
  {
   "cell_type": "markdown",
   "id": "42f23dea-2f8e-4c82-9e69-9504494cd417",
   "metadata": {},
   "source": [
    "## Hyperparameter Tuning"
   ]
  },
  {
   "cell_type": "markdown",
   "id": "06a8bcba-a4fe-4cb6-99eb-bf7f8dd30530",
   "metadata": {},
   "source": [
    "## SVR"
   ]
  },
  {
   "cell_type": "code",
   "execution_count": null,
   "id": "e67d0dfa-7047-4d26-8e06-105289116be7",
   "metadata": {},
   "outputs": [],
   "source": [
    "\n",
    "grid_search = GridSearchCV(svr, svr_params, cv=5, scoring='neg_mean_squared_error', n_jobs=-1)\n",
    "grid_search.fit(x_train, y_train)\n",
    "best_estimators['svr'] = grid_search.best_estimator_\n",
    "print(f'SVR Best Params: {grid_search.best_params_}')\n",
    "print(f'SVR Best MSE: {-grid_search.best_score_}')"
   ]
  },
  {
   "cell_type": "code",
   "execution_count": null,
   "id": "6b4794cc-1eaa-4062-935b-0c51e4f0382e",
   "metadata": {},
   "outputs": [],
   "source": [
    "y_pred = best_estimators['svr'].predict(x_test)\n",
    "print('mean_absolute_error:',mean_absolute_error(y_pred,y_test))\n",
    "print('mean_squared_error:',mean_squared_error(y_pred,y_test))\n",
    "print('r2_score:',r2_score(y_test,y_pred))"
   ]
  },
  {
   "cell_type": "code",
   "execution_count": null,
   "id": "eaeb95b0-ab1d-46ce-a34e-bbbb8be6e3e0",
   "metadata": {},
   "outputs": [],
   "source": [
    "joblib.dump(best_estimators['svr'], 'Model/svr.pkl')"
   ]
  },
  {
   "cell_type": "code",
   "execution_count": null,
   "id": "d2f25722-3440-4e58-8f9e-87229d22f4f5",
   "metadata": {},
   "outputs": [],
   "source": [
    "data['Model'].append('SVR')\n",
    "data['MAE'].append(mean_absolute_error(y_pred,y_test))\n",
    "data['MSE'].append(mean_squared_error(y_pred,y_test))\n",
    "data['R2_score'].append(r2_score(y_test,y_pred))\n",
    "data['parameters'].append(best_estimators['svr'].get_params())\n",
    "print(data)"
   ]
  },
  {
   "cell_type": "code",
   "execution_count": null,
   "id": "faf2b12a-b793-4bbd-a3ad-0c9127323fa2",
   "metadata": {},
   "outputs": [],
   "source": [
    "pd.DataFrame(data).to_csv('modelinfo1.csv', index=False)"
   ]
  },
  {
   "cell_type": "markdown",
   "id": "bcf33523-0bb6-42da-88e9-2c6a8940336e",
   "metadata": {},
   "source": [
    "### Decision Tree"
   ]
  },
  {
   "cell_type": "markdown",
   "id": "4708fbe7-e469-4e39-8b72-792f911d3b1e",
   "metadata": {},
   "source": [
    "start=time.time()\n",
    "grid_search = GridSearchCV(dt, dt_params, cv=5, scoring='neg_mean_squared_error', n_jobs=-1)\n",
    "grid_search.fit(x_train, y_train)\n",
    "end=time.time()\n",
    "print(f'Time taken: {end-start}')\n",
    "best_estimators['decision_tree'] = grid_search.best_estimator_\n",
    "print(f'decision tree Best Params: {grid_search.best_params_}')\n",
    "print(f'decision tree Best MSE: {-grid_search.best_score_}')"
   ]
  },
  {
   "cell_type": "code",
   "execution_count": 1,
   "id": "aa90c27e-747f-4280-8cfb-e38c2360ccea",
   "metadata": {},
   "outputs": [
    {
     "ename": "NameError",
     "evalue": "name 'GridSearchCV' is not defined",
     "output_type": "error",
     "traceback": [
      "\u001b[0;31m---------------------------------------------------------------------------\u001b[0m",
      "\u001b[0;31mNameError\u001b[0m                                 Traceback (most recent call last)",
      "Cell \u001b[0;32mIn[1], line 1\u001b[0m\n\u001b[0;32m----> 1\u001b[0m grid_search \u001b[38;5;241m=\u001b[39m GridSearchCV(dt, dt_params, cv\u001b[38;5;241m=\u001b[39m\u001b[38;5;241m5\u001b[39m, scoring\u001b[38;5;241m=\u001b[39m\u001b[38;5;124m'\u001b[39m\u001b[38;5;124mneg_mean_squared_error\u001b[39m\u001b[38;5;124m'\u001b[39m, n_jobs\u001b[38;5;241m=\u001b[39m\u001b[38;5;241m-\u001b[39m\u001b[38;5;241m1\u001b[39m)\n\u001b[1;32m      2\u001b[0m grid_search\u001b[38;5;241m.\u001b[39mfit(x_train, y_train)\n\u001b[1;32m      3\u001b[0m best_estimators[\u001b[38;5;124m'\u001b[39m\u001b[38;5;124mdecision_tree\u001b[39m\u001b[38;5;124m'\u001b[39m] \u001b[38;5;241m=\u001b[39m grid_search\u001b[38;5;241m.\u001b[39mbest_estimator_\n",
      "\u001b[0;31mNameError\u001b[0m: name 'GridSearchCV' is not defined"
     ]
    }
   ],
   "source": [
    "\n",
    "grid_search = GridSearchCV(dt, dt_params, cv=5, scoring='neg_mean_squared_error', n_jobs=-1)\n",
    "grid_search.fit(x_train, y_train)\n",
    "best_estimators['decision_tree'] = grid_search.best_estimator_\n",
    "print(f'decision_tree Best Params: {grid_search.best_params_}')\n",
    "print(f'decision_tree Best MSE: {-grid_search.best_score_}')"
   ]
  },
  {
   "cell_type": "code",
   "execution_count": null,
   "id": "325ae3dc-dd94-4b3f-b4c3-23836964d64c",
   "metadata": {},
   "outputs": [],
   "source": [
    "y_pred = best_estimators['decision_tree'].predict(x_test)\n",
    "print('mean_absolute_error:',mean_absolute_error(y_pred,y_test))\n",
    "print('mean_squared_error:',mean_squared_error(y_pred,y_test))\n",
    "print('r2_score:',r2_score(y_test,y_pred))"
   ]
  },
  {
   "cell_type": "code",
   "execution_count": null,
   "id": "db4a7f3c-eb8d-475d-82ba-36e2707f0af2",
   "metadata": {},
   "outputs": [],
   "source": [
    "joblib.dump(best_estimators['decision_tree'], 'decision_tree.pkl')"
   ]
  },
  {
   "cell_type": "code",
   "execution_count": null,
   "id": "a6645d20-0646-41e8-9692-fbd3c51a7ec5",
   "metadata": {},
   "outputs": [],
   "source": [
    "data['Model'].append('decision_tree')\n",
    "data['MAE'].append(mean_absolute_error(y_pred,y_test))\n",
    "data['MSE'].append(mean_squared_error(y_pred,y_test))\n",
    "data['R2_score'].append(r2_score(y_test,y_pred))\n",
    "data['parameter'].append(best_estimators['decision_tree'].get_params())\n",
    "print(data)"
   ]
  },
  {
   "cell_type": "markdown",
   "id": "eb18ab8b-5306-4e7f-8e81-7ed6711bee15",
   "metadata": {},
   "source": [
    "### Random Forest"
   ]
  },
  {
   "cell_type": "code",
   "execution_count": null,
   "id": "68897021-727b-48c2-9ce7-fe45f919e258",
   "metadata": {},
   "outputs": [],
   "source": [
    "start=time.time()\n",
    "grid_search = GridSearchCV(rf, rf_params, cv=5, scoring='neg_mean_squared_error', n_jobs=-1)\n",
    "grid_search.fit(x_train, y_train)\n",
    "end=time.time()\n",
    "print(f'Time taken: {end-start}')\n",
    "best_estimators['random_forest'] = grid_search.best_estimator_\n",
    "print(f'random forest Best Params: {grid_search.best_params_}')\n",
    "print(f'random forest Best MSE: {-grid_search.best_score_}')"
   ]
  },
  {
   "cell_type": "code",
   "execution_count": null,
   "id": "5efbd6e5-e0c5-4ebd-bc66-01f16800cbe0",
   "metadata": {},
   "outputs": [],
   "source": [
    "y_pred = best_estimators['random_forest'].predict(x_test)\n",
    "print('mean_absolute_error:',mean_absolute_error(y_pred,y_test))\n",
    "print('mean_squared_error:',mean_squared_error(y_pred,y_test))\n",
    "print('r2_score:',r2_score(y_test,y_pred))"
   ]
  },
  {
   "cell_type": "code",
   "execution_count": null,
   "id": "48f0e666-45bc-4ed7-bebb-095ebe223bf7",
   "metadata": {},
   "outputs": [],
   "source": [
    "data['Model'].append('random_forest')\n",
    "data['MAE'].append(mean_absolute_error(y_pred,y_test))\n",
    "data['MSE'].append(mean_squared_error(y_pred,y_test))\n",
    "data['R2_score'].append(r2_score(y_test,y_pred))\n",
    "data['parameter'].append([best_estimators['random_forest'].get_params()])\n",
    "print(data)"
   ]
  },
  {
   "cell_type": "code",
   "execution_count": null,
   "id": "3b504740-042f-4a0b-9499-fe69e333485c",
   "metadata": {},
   "outputs": [],
   "source": [
    "pd.DataFrame(data).to_csv('ModelInfo.csv', index=False)"
   ]
  },
  {
   "cell_type": "markdown",
   "id": "e3ec63f2-6932-4f0c-8332-045e5af96d18",
   "metadata": {},
   "source": [
    "## Model Info"
   ]
  },
  {
   "cell_type": "code",
   "execution_count": 9,
   "id": "c784da26-2c13-4de3-8653-c052b6761ad9",
   "metadata": {},
   "outputs": [],
   "source": [
    "modelinfo=pd.read_csv('Model/ModelInfo.csv')"
   ]
  },
  {
   "cell_type": "code",
   "execution_count": 10,
   "id": "6e1075ad-d26f-4854-add9-c872c2aa2a01",
   "metadata": {},
   "outputs": [
    {
     "data": {
      "text/html": [
       "<div>\n",
       "<style scoped>\n",
       "    .dataframe tbody tr th:only-of-type {\n",
       "        vertical-align: middle;\n",
       "    }\n",
       "\n",
       "    .dataframe tbody tr th {\n",
       "        vertical-align: top;\n",
       "    }\n",
       "\n",
       "    .dataframe thead th {\n",
       "        text-align: right;\n",
       "    }\n",
       "</style>\n",
       "<table border=\"1\" class=\"dataframe\">\n",
       "  <thead>\n",
       "    <tr style=\"text-align: right;\">\n",
       "      <th></th>\n",
       "      <th>Unnamed: 0</th>\n",
       "      <th>Model</th>\n",
       "      <th>MAE</th>\n",
       "      <th>MSE</th>\n",
       "      <th>R2_score</th>\n",
       "      <th>parameters</th>\n",
       "    </tr>\n",
       "  </thead>\n",
       "  <tbody>\n",
       "    <tr>\n",
       "      <th>0</th>\n",
       "      <td>0</td>\n",
       "      <td>random_forest</td>\n",
       "      <td>100.858620</td>\n",
       "      <td>15879.151709</td>\n",
       "      <td>0.680241</td>\n",
       "      <td>[{'bootstrap': True, 'ccp_alpha': 0.0, 'criter...</td>\n",
       "    </tr>\n",
       "    <tr>\n",
       "      <th>1</th>\n",
       "      <td>0</td>\n",
       "      <td>SVR</td>\n",
       "      <td>125.044373</td>\n",
       "      <td>24346.502352</td>\n",
       "      <td>0.509734</td>\n",
       "      <td>{'C': 10, 'cache_size': 200, 'coef0': 0.0, 'de...</td>\n",
       "    </tr>\n",
       "    <tr>\n",
       "      <th>2</th>\n",
       "      <td>1</td>\n",
       "      <td>decision_tree</td>\n",
       "      <td>148.399181</td>\n",
       "      <td>32184.113467</td>\n",
       "      <td>0.351908</td>\n",
       "      <td>[{'ccp_alpha': 0.0, 'criterion': 'absolute_err...</td>\n",
       "    </tr>\n",
       "    <tr>\n",
       "      <th>3</th>\n",
       "      <td>0</td>\n",
       "      <td>linear Regression</td>\n",
       "      <td>183.947157</td>\n",
       "      <td>49565.823984</td>\n",
       "      <td>-0.582316</td>\n",
       "      <td>[{'cv': 5, 'error_score': nan, 'estimator__cop...</td>\n",
       "    </tr>\n",
       "  </tbody>\n",
       "</table>\n",
       "</div>"
      ],
      "text/plain": [
       "   Unnamed: 0              Model         MAE           MSE  R2_score  \\\n",
       "0           0      random_forest  100.858620  15879.151709  0.680241   \n",
       "1           0                SVR  125.044373  24346.502352  0.509734   \n",
       "2           1      decision_tree  148.399181  32184.113467  0.351908   \n",
       "3           0  linear Regression  183.947157  49565.823984 -0.582316   \n",
       "\n",
       "                                          parameters  \n",
       "0  [{'bootstrap': True, 'ccp_alpha': 0.0, 'criter...  \n",
       "1  {'C': 10, 'cache_size': 200, 'coef0': 0.0, 'de...  \n",
       "2  [{'ccp_alpha': 0.0, 'criterion': 'absolute_err...  \n",
       "3  [{'cv': 5, 'error_score': nan, 'estimator__cop...  "
      ]
     },
     "execution_count": 10,
     "metadata": {},
     "output_type": "execute_result"
    }
   ],
   "source": [
    "modelinfo"
   ]
  },
  {
   "cell_type": "code",
   "execution_count": 14,
   "id": "7b40f0dd-52ff-4127-8ad5-d563c770ad39",
   "metadata": {},
   "outputs": [],
   "source": [
    "ln_model=joblib.load('Model/linear_regression.pkl')"
   ]
  },
  {
   "cell_type": "code",
   "execution_count": 39,
   "id": "503171d3-9339-46d3-a304-1e539a7f433f",
   "metadata": {},
   "outputs": [
    {
     "name": "stdout",
     "output_type": "stream",
     "text": [
      "[73.9959108]\n"
     ]
    }
   ],
   "source": [
    "last_row_df = df.iloc[[-1]].drop(['num_orders','Unnamed: 0'], axis=1)\n",
    "last_row_df\n",
    "# Predict using the model\n",
    "prediction = ln_model.predict(last_row_df)\n",
    "print(prediction)"
   ]
  },
  {
   "cell_type": "code",
   "execution_count": 17,
   "id": "2a0d9f3c-ab59-4e6b-85ac-4dad0fdc2d9c",
   "metadata": {},
   "outputs": [
    {
     "data": {
      "text/plain": [
       "Unnamed: 0                   456547.00\n",
       "week                            145.00\n",
       "center_id                        61.00\n",
       "meal_id                        2104.00\n",
       "checkout_price                  581.03\n",
       "num_orders                       27.00\n",
       "region_code                      77.00\n",
       "op_area                           4.50\n",
       "discount_perc                   581.03\n",
       "discount y/n                      1.00\n",
       "featured_promotion                0.00\n",
       "new_category_cuisine              7.00\n",
       "new_center_type_city_code         2.00\n",
       "Name: 456547, dtype: float64"
      ]
     },
     "execution_count": 17,
     "metadata": {},
     "output_type": "execute_result"
    }
   ],
   "source": [
    "df.iloc[-1]"
   ]
  },
  {
   "cell_type": "markdown",
   "id": "64c0e567-6768-4e85-9fbb-f787e5bba8c8",
   "metadata": {},
   "source": [
    "### LSTM"
   ]
  },
  {
   "cell_type": "code",
   "execution_count": 16,
   "id": "f3c7cba4-a742-4ffb-bf2d-703028a929ec",
   "metadata": {},
   "outputs": [
    {
     "name": "stderr",
     "output_type": "stream",
     "text": [
      "/home/muhammed/anaconda3/lib/python3.11/site-packages/keras/src/layers/rnn/rnn.py:204: UserWarning: Do not pass an `input_shape`/`input_dim` argument to a layer. When using Sequential models, prefer using an `Input(shape)` object as the first layer in the model instead.\n",
      "  super().__init__(**kwargs)\n"
     ]
    }
   ],
   "source": [
    "model=Sequential()\n",
    "model.add(LSTM(128,return_sequences=True,input_shape=(x_train.shape[1],1)))\n",
    "model.add(LSTM(64,return_sequences=False))\n",
    "model.add(Dense(25))\n",
    "model.add(Dense(1))"
   ]
  },
  {
   "cell_type": "code",
   "execution_count": 17,
   "id": "5873f041-87d4-4cc6-a567-2d33996d2320",
   "metadata": {},
   "outputs": [
    {
     "data": {
      "text/html": [
       "<pre style=\"white-space:pre;overflow-x:auto;line-height:normal;font-family:Menlo,'DejaVu Sans Mono',consolas,'Courier New',monospace\"><span style=\"font-weight: bold\">Model: \"sequential_1\"</span>\n",
       "</pre>\n"
      ],
      "text/plain": [
       "\u001b[1mModel: \"sequential_1\"\u001b[0m\n"
      ]
     },
     "metadata": {},
     "output_type": "display_data"
    },
    {
     "data": {
      "text/html": [
       "<pre style=\"white-space:pre;overflow-x:auto;line-height:normal;font-family:Menlo,'DejaVu Sans Mono',consolas,'Courier New',monospace\">┏━━━━━━━━━━━━━━━━━━━━━━━━━━━━━━━━━┳━━━━━━━━━━━━━━━━━━━━━━━━┳━━━━━━━━━━━━━━━┓\n",
       "┃<span style=\"font-weight: bold\"> Layer (type)                    </span>┃<span style=\"font-weight: bold\"> Output Shape           </span>┃<span style=\"font-weight: bold\">       Param # </span>┃\n",
       "┡━━━━━━━━━━━━━━━━━━━━━━━━━━━━━━━━━╇━━━━━━━━━━━━━━━━━━━━━━━━╇━━━━━━━━━━━━━━━┩\n",
       "│ lstm (<span style=\"color: #0087ff; text-decoration-color: #0087ff\">LSTM</span>)                     │ (<span style=\"color: #00d7ff; text-decoration-color: #00d7ff\">None</span>, <span style=\"color: #00af00; text-decoration-color: #00af00\">12</span>, <span style=\"color: #00af00; text-decoration-color: #00af00\">128</span>)        │        <span style=\"color: #00af00; text-decoration-color: #00af00\">66,560</span> │\n",
       "├─────────────────────────────────┼────────────────────────┼───────────────┤\n",
       "│ lstm_1 (<span style=\"color: #0087ff; text-decoration-color: #0087ff\">LSTM</span>)                   │ (<span style=\"color: #00d7ff; text-decoration-color: #00d7ff\">None</span>, <span style=\"color: #00af00; text-decoration-color: #00af00\">64</span>)             │        <span style=\"color: #00af00; text-decoration-color: #00af00\">49,408</span> │\n",
       "├─────────────────────────────────┼────────────────────────┼───────────────┤\n",
       "│ dense (<span style=\"color: #0087ff; text-decoration-color: #0087ff\">Dense</span>)                   │ (<span style=\"color: #00d7ff; text-decoration-color: #00d7ff\">None</span>, <span style=\"color: #00af00; text-decoration-color: #00af00\">25</span>)             │         <span style=\"color: #00af00; text-decoration-color: #00af00\">1,625</span> │\n",
       "├─────────────────────────────────┼────────────────────────┼───────────────┤\n",
       "│ dense_1 (<span style=\"color: #0087ff; text-decoration-color: #0087ff\">Dense</span>)                 │ (<span style=\"color: #00d7ff; text-decoration-color: #00d7ff\">None</span>, <span style=\"color: #00af00; text-decoration-color: #00af00\">1</span>)              │            <span style=\"color: #00af00; text-decoration-color: #00af00\">26</span> │\n",
       "└─────────────────────────────────┴────────────────────────┴───────────────┘\n",
       "</pre>\n"
      ],
      "text/plain": [
       "┏━━━━━━━━━━━━━━━━━━━━━━━━━━━━━━━━━┳━━━━━━━━━━━━━━━━━━━━━━━━┳━━━━━━━━━━━━━━━┓\n",
       "┃\u001b[1m \u001b[0m\u001b[1mLayer (type)                   \u001b[0m\u001b[1m \u001b[0m┃\u001b[1m \u001b[0m\u001b[1mOutput Shape          \u001b[0m\u001b[1m \u001b[0m┃\u001b[1m \u001b[0m\u001b[1m      Param #\u001b[0m\u001b[1m \u001b[0m┃\n",
       "┡━━━━━━━━━━━━━━━━━━━━━━━━━━━━━━━━━╇━━━━━━━━━━━━━━━━━━━━━━━━╇━━━━━━━━━━━━━━━┩\n",
       "│ lstm (\u001b[38;5;33mLSTM\u001b[0m)                     │ (\u001b[38;5;45mNone\u001b[0m, \u001b[38;5;34m12\u001b[0m, \u001b[38;5;34m128\u001b[0m)        │        \u001b[38;5;34m66,560\u001b[0m │\n",
       "├─────────────────────────────────┼────────────────────────┼───────────────┤\n",
       "│ lstm_1 (\u001b[38;5;33mLSTM\u001b[0m)                   │ (\u001b[38;5;45mNone\u001b[0m, \u001b[38;5;34m64\u001b[0m)             │        \u001b[38;5;34m49,408\u001b[0m │\n",
       "├─────────────────────────────────┼────────────────────────┼───────────────┤\n",
       "│ dense (\u001b[38;5;33mDense\u001b[0m)                   │ (\u001b[38;5;45mNone\u001b[0m, \u001b[38;5;34m25\u001b[0m)             │         \u001b[38;5;34m1,625\u001b[0m │\n",
       "├─────────────────────────────────┼────────────────────────┼───────────────┤\n",
       "│ dense_1 (\u001b[38;5;33mDense\u001b[0m)                 │ (\u001b[38;5;45mNone\u001b[0m, \u001b[38;5;34m1\u001b[0m)              │            \u001b[38;5;34m26\u001b[0m │\n",
       "└─────────────────────────────────┴────────────────────────┴───────────────┘\n"
      ]
     },
     "metadata": {},
     "output_type": "display_data"
    },
    {
     "data": {
      "text/html": [
       "<pre style=\"white-space:pre;overflow-x:auto;line-height:normal;font-family:Menlo,'DejaVu Sans Mono',consolas,'Courier New',monospace\"><span style=\"font-weight: bold\"> Total params: </span><span style=\"color: #00af00; text-decoration-color: #00af00\">117,619</span> (459.45 KB)\n",
       "</pre>\n"
      ],
      "text/plain": [
       "\u001b[1m Total params: \u001b[0m\u001b[38;5;34m117,619\u001b[0m (459.45 KB)\n"
      ]
     },
     "metadata": {},
     "output_type": "display_data"
    },
    {
     "data": {
      "text/html": [
       "<pre style=\"white-space:pre;overflow-x:auto;line-height:normal;font-family:Menlo,'DejaVu Sans Mono',consolas,'Courier New',monospace\"><span style=\"font-weight: bold\"> Trainable params: </span><span style=\"color: #00af00; text-decoration-color: #00af00\">117,619</span> (459.45 KB)\n",
       "</pre>\n"
      ],
      "text/plain": [
       "\u001b[1m Trainable params: \u001b[0m\u001b[38;5;34m117,619\u001b[0m (459.45 KB)\n"
      ]
     },
     "metadata": {},
     "output_type": "display_data"
    },
    {
     "data": {
      "text/html": [
       "<pre style=\"white-space:pre;overflow-x:auto;line-height:normal;font-family:Menlo,'DejaVu Sans Mono',consolas,'Courier New',monospace\"><span style=\"font-weight: bold\"> Non-trainable params: </span><span style=\"color: #00af00; text-decoration-color: #00af00\">0</span> (0.00 B)\n",
       "</pre>\n"
      ],
      "text/plain": [
       "\u001b[1m Non-trainable params: \u001b[0m\u001b[38;5;34m0\u001b[0m (0.00 B)\n"
      ]
     },
     "metadata": {},
     "output_type": "display_data"
    }
   ],
   "source": [
    "model.summary()"
   ]
  },
  {
   "cell_type": "code",
   "execution_count": null,
   "id": "97adcace-249c-4a46-bf08-facf721c0586",
   "metadata": {},
   "outputs": [],
   "source": []
  }
 ],
 "metadata": {
  "kernelspec": {
   "display_name": "Python 3 (ipykernel)",
   "language": "python",
   "name": "python3"
  },
  "language_info": {
   "codemirror_mode": {
    "name": "ipython",
    "version": 3
   },
   "file_extension": ".py",
   "mimetype": "text/x-python",
   "name": "python",
   "nbconvert_exporter": "python",
   "pygments_lexer": "ipython3",
   "version": "3.11.7"
  }
 },
 "nbformat": 4,
 "nbformat_minor": 5
}
