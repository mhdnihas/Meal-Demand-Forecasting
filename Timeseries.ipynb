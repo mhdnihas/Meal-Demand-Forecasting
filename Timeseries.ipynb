{
 "cells": [
  {
   "cell_type": "code",
   "execution_count": null,
   "metadata": {
    "_cell_guid": "b1076dfc-b9ad-4769-8c92-a6c4dae69d19",
    "_uuid": "8f2839f25d086af736a60e9eeb907d3b93b6e0e5"
   },
   "outputs": [],
   "source": [
    "# This Python 3 environment comes with many helpful analytics libraries installed\n",
    "# It is defined by the kaggle/python Docker image: https://github.com/kaggle/docker-python\n",
    "# For example, here's several helpful packages to load\n",
    "\n",
    "import numpy as np # linear algebra\n",
    "import pandas as pd # data processing, CSV file I/O (e.g. pd.read_csv)\n",
    "\n",
    "# Input data files are available in the read-only \"../input/\" directory\n",
    "# For example, running this (by clicking run or pressing Shift+Enter) will list all files under the input directory\n",
    "\n",
    "import os\n",
    "for dirname, _, filenames in os.walk('/kaggle/input'):\n",
    "    for filename in filenames:\n",
    "        print(os.path.join(dirname, filename))\n",
    "\n",
    "# You can write up to 20GB to the current directory (/kaggle/working/) that gets preserved as output when you create a version using \"Save & Run All\" \n",
    "# You can also write temporary files to /kaggle/temp/, but they won't be saved outside of the current session"
   ]
  },
  {
   "cell_type": "code",
   "execution_count": 567,
   "metadata": {
    "execution": {
     "iopub.execute_input": "2024-09-01T15:01:27.647893Z",
     "iopub.status.busy": "2024-09-01T15:01:27.647493Z",
     "iopub.status.idle": "2024-09-01T15:01:27.657387Z",
     "shell.execute_reply": "2024-09-01T15:01:27.656318Z",
     "shell.execute_reply.started": "2024-09-01T15:01:27.647855Z"
    }
   },
   "outputs": [],
   "source": [
    "import pandas as pd\n",
    "import joblib\n",
    "import time\n",
    "import numpy as np\n",
    "import matplotlib.pyplot as plt\n",
    "import seaborn as sns\n",
    "\n",
    "import seaborn as sns\n",
    "import plotly.express as px\n",
    "from sklearn.preprocessing import LabelEncoder\n",
    "\n",
    "from sklearn.tree import DecisionTreeRegressor\n",
    "from sklearn.ensemble import RandomForestRegressor, GradientBoostingRegressor\n",
    "from sklearn.neighbors import KNeighborsRegressor\n",
    "from sklearn.linear_model import LinearRegression\n",
    "\n",
    "\n",
    "from sklearn.model_selection import train_test_split\n",
    "from sklearn.metrics import r2_score,mean_absolute_error,mean_squared_error,mean_absolute_percentage_error\n",
    "\n",
    "\n",
    "from sklearn.model_selection import train_test_split,GridSearchCV\n",
    "from sklearn.preprocessing import StandardScaler\n",
    "from sklearn.metrics import accuracy_score,mean_absolute_error,mean_squared_error,mean_squared_log_error,r2_score,mean_absolute_percentage_error,make_scorer\n",
    "\n",
    "from sklearn.svm import SVR\n",
    "from sklearn.linear_model import LinearRegression\n",
    "from sklearn.tree import DecisionTreeRegressor\n",
    "from sklearn.linear_model import Lasso\n",
    "from sklearn.ensemble import RandomForestRegressor\n",
    "\n",
    "\n",
    "import tensorflow as tf\n",
    "\n",
    "from tensorflow import keras\n",
    "from keras import layers\n",
    "from keras.layers import LSTM,Dense,Dropout\n",
    "from keras.models import Sequential\n",
    "from tensorflow.keras.callbacks import EarlyStopping\n"
   ]
  },
  {
   "cell_type": "code",
   "execution_count": null,
   "metadata": {},
   "outputs": [],
   "source": [
    "  from statsmodels.tsa.arima.model import ARIMA\n",
    "  from statsmodels.tsa.stattools import adfuller\n",
    "  from statsmodels.tsa.holtwinters import SimpleExpSmoothing"
   ]
  },
  {
   "cell_type": "code",
   "execution_count": 468,
   "metadata": {
    "execution": {
     "iopub.execute_input": "2024-09-01T13:03:08.082697Z",
     "iopub.status.busy": "2024-09-01T13:03:08.082344Z",
     "iopub.status.idle": "2024-09-01T13:03:08.088241Z",
     "shell.execute_reply": "2024-09-01T13:03:08.087134Z",
     "shell.execute_reply.started": "2024-09-01T13:03:08.082660Z"
    }
   },
   "outputs": [],
   "source": [
    "from statsmodels.tsa.arima.model import ARIMA\n",
    "from statsmodels.tsa.stattools import adfuller\n",
    "from statsmodels.tsa.holtwinters import SimpleExpSmoothing\n",
    "from statsmodels.tsa.api import VAR\n",
    "import statsmodels.api as sm"
   ]
  },
  {
   "cell_type": "code",
   "execution_count": 534,
   "metadata": {
    "execution": {
     "iopub.execute_input": "2024-09-01T14:46:31.677809Z",
     "iopub.status.busy": "2024-09-01T14:46:31.677190Z",
     "iopub.status.idle": "2024-09-01T14:46:32.219843Z",
     "shell.execute_reply": "2024-09-01T14:46:32.218785Z",
     "shell.execute_reply.started": "2024-09-01T14:46:31.677768Z"
    }
   },
   "outputs": [],
   "source": [
    "df=pd.read_csv('/kaggle/input/meal-delivery-forecast/data.csv')"
   ]
  },
  {
   "cell_type": "code",
   "execution_count": 535,
   "metadata": {
    "execution": {
     "iopub.execute_input": "2024-09-01T14:46:32.437541Z",
     "iopub.status.busy": "2024-09-01T14:46:32.437166Z",
     "iopub.status.idle": "2024-09-01T14:46:32.451944Z",
     "shell.execute_reply": "2024-09-01T14:46:32.451124Z",
     "shell.execute_reply.started": "2024-09-01T14:46:32.437503Z"
    }
   },
   "outputs": [
    {
     "data": {
      "text/html": [
       "<div>\n",
       "<style scoped>\n",
       "    .dataframe tbody tr th:only-of-type {\n",
       "        vertical-align: middle;\n",
       "    }\n",
       "\n",
       "    .dataframe tbody tr th {\n",
       "        vertical-align: top;\n",
       "    }\n",
       "\n",
       "    .dataframe thead th {\n",
       "        text-align: right;\n",
       "    }\n",
       "</style>\n",
       "<table border=\"1\" class=\"dataframe\">\n",
       "  <thead>\n",
       "    <tr style=\"text-align: right;\">\n",
       "      <th></th>\n",
       "      <th>Unnamed: 0</th>\n",
       "      <th>week</th>\n",
       "      <th>center_id</th>\n",
       "      <th>meal_id</th>\n",
       "      <th>checkout_price</th>\n",
       "      <th>base_price</th>\n",
       "      <th>emailer_for_promotion</th>\n",
       "      <th>homepage_featured</th>\n",
       "      <th>num_orders</th>\n",
       "      <th>city_code</th>\n",
       "      <th>region_code</th>\n",
       "      <th>center_type</th>\n",
       "      <th>op_area</th>\n",
       "      <th>category</th>\n",
       "      <th>cuisine</th>\n",
       "    </tr>\n",
       "  </thead>\n",
       "  <tbody>\n",
       "    <tr>\n",
       "      <th>0</th>\n",
       "      <td>213354</td>\n",
       "      <td>1</td>\n",
       "      <td>93</td>\n",
       "      <td>1971</td>\n",
       "      <td>261</td>\n",
       "      <td>289</td>\n",
       "      <td>1</td>\n",
       "      <td>0</td>\n",
       "      <td>528</td>\n",
       "      <td>461</td>\n",
       "      <td>34</td>\n",
       "      <td>0</td>\n",
       "      <td>3.9</td>\n",
       "      <td>10</td>\n",
       "      <td>2</td>\n",
       "    </tr>\n",
       "    <tr>\n",
       "      <th>1</th>\n",
       "      <td>52285</td>\n",
       "      <td>1</td>\n",
       "      <td>83</td>\n",
       "      <td>1248</td>\n",
       "      <td>152</td>\n",
       "      <td>240</td>\n",
       "      <td>0</td>\n",
       "      <td>0</td>\n",
       "      <td>107</td>\n",
       "      <td>659</td>\n",
       "      <td>77</td>\n",
       "      <td>0</td>\n",
       "      <td>5.3</td>\n",
       "      <td>0</td>\n",
       "      <td>1</td>\n",
       "    </tr>\n",
       "    <tr>\n",
       "      <th>2</th>\n",
       "      <td>58666</td>\n",
       "      <td>1</td>\n",
       "      <td>67</td>\n",
       "      <td>1248</td>\n",
       "      <td>251</td>\n",
       "      <td>253</td>\n",
       "      <td>0</td>\n",
       "      <td>0</td>\n",
       "      <td>26</td>\n",
       "      <td>638</td>\n",
       "      <td>56</td>\n",
       "      <td>1</td>\n",
       "      <td>7.0</td>\n",
       "      <td>0</td>\n",
       "      <td>1</td>\n",
       "    </tr>\n",
       "    <tr>\n",
       "      <th>3</th>\n",
       "      <td>226680</td>\n",
       "      <td>1</td>\n",
       "      <td>17</td>\n",
       "      <td>1902</td>\n",
       "      <td>387</td>\n",
       "      <td>446</td>\n",
       "      <td>0</td>\n",
       "      <td>0</td>\n",
       "      <td>55</td>\n",
       "      <td>517</td>\n",
       "      <td>56</td>\n",
       "      <td>0</td>\n",
       "      <td>3.2</td>\n",
       "      <td>1</td>\n",
       "      <td>1</td>\n",
       "    </tr>\n",
       "    <tr>\n",
       "      <th>4</th>\n",
       "      <td>256134</td>\n",
       "      <td>1</td>\n",
       "      <td>139</td>\n",
       "      <td>2581</td>\n",
       "      <td>584</td>\n",
       "      <td>613</td>\n",
       "      <td>1</td>\n",
       "      <td>1</td>\n",
       "      <td>149</td>\n",
       "      <td>693</td>\n",
       "      <td>34</td>\n",
       "      <td>2</td>\n",
       "      <td>2.8</td>\n",
       "      <td>7</td>\n",
       "      <td>0</td>\n",
       "    </tr>\n",
       "  </tbody>\n",
       "</table>\n",
       "</div>"
      ],
      "text/plain": [
       "   Unnamed: 0  week  center_id  meal_id  checkout_price  base_price  \\\n",
       "0      213354     1         93     1971             261         289   \n",
       "1       52285     1         83     1248             152         240   \n",
       "2       58666     1         67     1248             251         253   \n",
       "3      226680     1         17     1902             387         446   \n",
       "4      256134     1        139     2581             584         613   \n",
       "\n",
       "   emailer_for_promotion  homepage_featured  num_orders  city_code  \\\n",
       "0                      1                  0         528        461   \n",
       "1                      0                  0         107        659   \n",
       "2                      0                  0          26        638   \n",
       "3                      0                  0          55        517   \n",
       "4                      1                  1         149        693   \n",
       "\n",
       "   region_code  center_type  op_area  category  cuisine  \n",
       "0           34            0      3.9        10        2  \n",
       "1           77            0      5.3         0        1  \n",
       "2           56            1      7.0         0        1  \n",
       "3           56            0      3.2         1        1  \n",
       "4           34            2      2.8         7        0  "
      ]
     },
     "execution_count": 535,
     "metadata": {},
     "output_type": "execute_result"
    }
   ],
   "source": [
    "df.head()"
   ]
  },
  {
   "cell_type": "code",
   "execution_count": 536,
   "metadata": {
    "execution": {
     "iopub.execute_input": "2024-09-01T14:46:37.582576Z",
     "iopub.status.busy": "2024-09-01T14:46:37.581822Z",
     "iopub.status.idle": "2024-09-01T14:46:37.598220Z",
     "shell.execute_reply": "2024-09-01T14:46:37.597278Z",
     "shell.execute_reply.started": "2024-09-01T14:46:37.582536Z"
    }
   },
   "outputs": [],
   "source": [
    "df.drop('Unnamed: 0',axis=1,inplace=True)"
   ]
  },
  {
   "cell_type": "code",
   "execution_count": 474,
   "metadata": {
    "execution": {
     "iopub.execute_input": "2024-09-01T13:03:18.812667Z",
     "iopub.status.busy": "2024-09-01T13:03:18.811904Z",
     "iopub.status.idle": "2024-09-01T13:03:18.835440Z",
     "shell.execute_reply": "2024-09-01T13:03:18.834548Z",
     "shell.execute_reply.started": "2024-09-01T13:03:18.812627Z"
    }
   },
   "outputs": [],
   "source": [
    "df2=df.copy()"
   ]
  },
  {
   "cell_type": "code",
   "execution_count": 475,
   "metadata": {
    "execution": {
     "iopub.execute_input": "2024-09-01T13:03:19.000921Z",
     "iopub.status.busy": "2024-09-01T13:03:19.000008Z",
     "iopub.status.idle": "2024-09-01T13:03:19.023289Z",
     "shell.execute_reply": "2024-09-01T13:03:19.022466Z",
     "shell.execute_reply.started": "2024-09-01T13:03:19.000881Z"
    }
   },
   "outputs": [],
   "source": [
    "df3=df.copy()"
   ]
  },
  {
   "cell_type": "code",
   "execution_count": 476,
   "metadata": {
    "execution": {
     "iopub.execute_input": "2024-09-01T13:03:19.207647Z",
     "iopub.status.busy": "2024-09-01T13:03:19.206897Z",
     "iopub.status.idle": "2024-09-01T13:03:19.231210Z",
     "shell.execute_reply": "2024-09-01T13:03:19.230379Z",
     "shell.execute_reply.started": "2024-09-01T13:03:19.207607Z"
    }
   },
   "outputs": [],
   "source": [
    "df4=df.copy()"
   ]
  },
  {
   "cell_type": "code",
   "execution_count": 537,
   "metadata": {
    "execution": {
     "iopub.execute_input": "2024-09-01T14:46:41.186428Z",
     "iopub.status.busy": "2024-09-01T14:46:41.185689Z",
     "iopub.status.idle": "2024-09-01T14:46:41.200849Z",
     "shell.execute_reply": "2024-09-01T14:46:41.200062Z",
     "shell.execute_reply.started": "2024-09-01T14:46:41.186385Z"
    }
   },
   "outputs": [],
   "source": [
    "df5=df.copy()"
   ]
  },
  {
   "cell_type": "code",
   "execution_count": 477,
   "metadata": {
    "execution": {
     "iopub.execute_input": "2024-09-01T13:03:32.648117Z",
     "iopub.status.busy": "2024-09-01T13:03:32.647656Z",
     "iopub.status.idle": "2024-09-01T13:03:36.189542Z",
     "shell.execute_reply": "2024-09-01T13:03:36.188546Z",
     "shell.execute_reply.started": "2024-09-01T13:03:32.648074Z"
    }
   },
   "outputs": [],
   "source": [
    "\n",
    "df[\"meal_profitability\"] = df[\"base_price\"] - df[\"checkout_price\"]\n",
    "df[\"meal_profitability\"] = df[\"meal_profitability\"].astype(\"int\")\n",
    "\n",
    "df[\"meal_profitability_percentage\"] = (df[\"meal_profitability\"] / df[\"base_price\"]) * 100\n",
    "df[\"meal_profitability_percentage\"] = df[\"meal_profitability_percentage\"].astype(\"int\")\n",
    "\n",
    "df[\"center_type_city_code\"] = df[\"center_type\"].astype(str) + \"_\" + df[\"city_code\"].astype(str)\n",
    "\n",
    "df[\"category_cuisine\"] = df[\"category\"].astype(str) + \"_\" + df[\"cuisine\"].astype(str)\n",
    "df[\"center_id_category\"] = df[\"center_id\"].astype(str) + \"_\" + df[\"category\"].astype(str)\n",
    "\n",
    "df[\"food_price_trend\"] = df.groupby(\"meal_id\")[\"base_price\"].transform(lambda x: x.diff())\n",
    "df[\"food_price_trend\"] = df[\"food_price_trend\"].fillna(0)\n",
    "df[\"food_price_trend\"] = df[\"food_price_trend\"].astype(\"int\")\n",
    "\n",
    "df[\"category_center_type\"] = df[\"category\"].astype(str) + \"_\" + df[\"center_type\"].astype(str)\n",
    "\n",
    "df[\"featured_shown\"] = df[\"emailer_for_promotion\"].astype(str) + \"_\" + df[\"homepage_featured\"].astype(str)\n",
    "\n",
    "df[\"price_change_rate\"] = (df[\"checkout_price\"] - df[\"base_price\"]) / df[\"base_price\"]\n",
    "df[\"price_change_rate\"] = df[\"price_change_rate\"].astype(\"int\")\n",
    "# Initialize LabelEncoder\n",
    "label_encoder = LabelEncoder()\n",
    "\n",
    "# Apply LabelEncoder to specified columns\n",
    "for col in [\"center_type_city_code\", \"category_cuisine\", \"center_id_category\", \"category_center_type\", \"featured_shown\"]:\n",
    "    df[col] = label_encoder.fit_transform(df[col])\n",
    "\n",
    "# Now, 'df' is your DataFrame containing all the new features\n"
   ]
  },
  {
   "cell_type": "code",
   "execution_count": 25,
   "metadata": {
    "execution": {
     "iopub.execute_input": "2024-09-01T08:06:32.478916Z",
     "iopub.status.busy": "2024-09-01T08:06:32.477978Z",
     "iopub.status.idle": "2024-09-01T08:06:32.512241Z",
     "shell.execute_reply": "2024-09-01T08:06:32.511129Z",
     "shell.execute_reply.started": "2024-09-01T08:06:32.478873Z"
    }
   },
   "outputs": [],
   "source": [
    "df=df[df['num_orders']<5000]"
   ]
  },
  {
   "cell_type": "code",
   "execution_count": 18,
   "metadata": {
    "execution": {
     "iopub.execute_input": "2024-09-01T01:29:40.154093Z",
     "iopub.status.busy": "2024-09-01T01:29:40.153696Z",
     "iopub.status.idle": "2024-09-01T01:29:40.222944Z",
     "shell.execute_reply": "2024-09-01T01:29:40.221811Z",
     "shell.execute_reply.started": "2024-09-01T01:29:40.154055Z"
    }
   },
   "outputs": [],
   "source": [
    "train_df=df[df['week']<118]\n",
    "test_df=df[df['week']>=118]"
   ]
  },
  {
   "cell_type": "code",
   "execution_count": 19,
   "metadata": {
    "execution": {
     "iopub.execute_input": "2024-09-01T01:29:42.545026Z",
     "iopub.status.busy": "2024-09-01T01:29:42.543942Z",
     "iopub.status.idle": "2024-09-01T01:29:42.600109Z",
     "shell.execute_reply": "2024-09-01T01:29:42.599255Z",
     "shell.execute_reply.started": "2024-09-01T01:29:42.544969Z"
    }
   },
   "outputs": [],
   "source": [
    "x_train,y_train=train_df.drop('num_orders',axis=1),train_df['num_orders']\n",
    "x_test,y_test=test_df.drop('num_orders',axis=1),test_df['num_orders']"
   ]
  },
  {
   "cell_type": "markdown",
   "metadata": {},
   "source": [
    "### LSTM"
   ]
  },
  {
   "cell_type": "code",
   "execution_count": 9,
   "metadata": {
    "execution": {
     "iopub.execute_input": "2024-08-31T15:04:12.375780Z",
     "iopub.status.busy": "2024-08-31T15:04:12.375400Z",
     "iopub.status.idle": "2024-08-31T15:04:13.550380Z",
     "shell.execute_reply": "2024-08-31T15:04:13.549613Z",
     "shell.execute_reply.started": "2024-08-31T15:04:12.375746Z"
    }
   },
   "outputs": [
    {
     "name": "stderr",
     "output_type": "stream",
     "text": [
      "/opt/conda/lib/python3.10/site-packages/keras/src/layers/rnn/rnn.py:204: UserWarning: Do not pass an `input_shape`/`input_dim` argument to a layer. When using Sequential models, prefer using an `Input(shape)` object as the first layer in the model instead.\n",
      "  super().__init__(**kwargs)\n"
     ]
    }
   ],
   "source": [
    "model=Sequential()\n",
    "model.add(LSTM(128,return_sequences=True,input_shape=(x_train.shape[1],1)))\n",
    "model.add(LSTM(64,return_sequences=False))\n",
    "model.add(Dense(25))\n",
    "model.add(Dense(1))"
   ]
  },
  {
   "cell_type": "code",
   "execution_count": 10,
   "metadata": {
    "execution": {
     "iopub.execute_input": "2024-08-31T15:04:21.542023Z",
     "iopub.status.busy": "2024-08-31T15:04:21.541621Z",
     "iopub.status.idle": "2024-08-31T15:04:21.565490Z",
     "shell.execute_reply": "2024-08-31T15:04:21.564411Z",
     "shell.execute_reply.started": "2024-08-31T15:04:21.541987Z"
    }
   },
   "outputs": [
    {
     "data": {
      "text/html": [
       "<pre style=\"white-space:pre;overflow-x:auto;line-height:normal;font-family:Menlo,'DejaVu Sans Mono',consolas,'Courier New',monospace\"><span style=\"font-weight: bold\">Model: \"sequential\"</span>\n",
       "</pre>\n"
      ],
      "text/plain": [
       "\u001b[1mModel: \"sequential\"\u001b[0m\n"
      ]
     },
     "metadata": {},
     "output_type": "display_data"
    },
    {
     "data": {
      "text/html": [
       "<pre style=\"white-space:pre;overflow-x:auto;line-height:normal;font-family:Menlo,'DejaVu Sans Mono',consolas,'Courier New',monospace\">┏━━━━━━━━━━━━━━━━━━━━━━━━━━━━━━━━━┳━━━━━━━━━━━━━━━━━━━━━━━━┳━━━━━━━━━━━━━━━┓\n",
       "┃<span style=\"font-weight: bold\"> Layer (type)                    </span>┃<span style=\"font-weight: bold\"> Output Shape           </span>┃<span style=\"font-weight: bold\">       Param # </span>┃\n",
       "┡━━━━━━━━━━━━━━━━━━━━━━━━━━━━━━━━━╇━━━━━━━━━━━━━━━━━━━━━━━━╇━━━━━━━━━━━━━━━┩\n",
       "│ lstm (<span style=\"color: #0087ff; text-decoration-color: #0087ff\">LSTM</span>)                     │ (<span style=\"color: #00d7ff; text-decoration-color: #00d7ff\">None</span>, <span style=\"color: #00af00; text-decoration-color: #00af00\">23</span>, <span style=\"color: #00af00; text-decoration-color: #00af00\">128</span>)        │        <span style=\"color: #00af00; text-decoration-color: #00af00\">66,560</span> │\n",
       "├─────────────────────────────────┼────────────────────────┼───────────────┤\n",
       "│ lstm_1 (<span style=\"color: #0087ff; text-decoration-color: #0087ff\">LSTM</span>)                   │ (<span style=\"color: #00d7ff; text-decoration-color: #00d7ff\">None</span>, <span style=\"color: #00af00; text-decoration-color: #00af00\">64</span>)             │        <span style=\"color: #00af00; text-decoration-color: #00af00\">49,408</span> │\n",
       "├─────────────────────────────────┼────────────────────────┼───────────────┤\n",
       "│ dense (<span style=\"color: #0087ff; text-decoration-color: #0087ff\">Dense</span>)                   │ (<span style=\"color: #00d7ff; text-decoration-color: #00d7ff\">None</span>, <span style=\"color: #00af00; text-decoration-color: #00af00\">25</span>)             │         <span style=\"color: #00af00; text-decoration-color: #00af00\">1,625</span> │\n",
       "├─────────────────────────────────┼────────────────────────┼───────────────┤\n",
       "│ dense_1 (<span style=\"color: #0087ff; text-decoration-color: #0087ff\">Dense</span>)                 │ (<span style=\"color: #00d7ff; text-decoration-color: #00d7ff\">None</span>, <span style=\"color: #00af00; text-decoration-color: #00af00\">1</span>)              │            <span style=\"color: #00af00; text-decoration-color: #00af00\">26</span> │\n",
       "└─────────────────────────────────┴────────────────────────┴───────────────┘\n",
       "</pre>\n"
      ],
      "text/plain": [
       "┏━━━━━━━━━━━━━━━━━━━━━━━━━━━━━━━━━┳━━━━━━━━━━━━━━━━━━━━━━━━┳━━━━━━━━━━━━━━━┓\n",
       "┃\u001b[1m \u001b[0m\u001b[1mLayer (type)                   \u001b[0m\u001b[1m \u001b[0m┃\u001b[1m \u001b[0m\u001b[1mOutput Shape          \u001b[0m\u001b[1m \u001b[0m┃\u001b[1m \u001b[0m\u001b[1m      Param #\u001b[0m\u001b[1m \u001b[0m┃\n",
       "┡━━━━━━━━━━━━━━━━━━━━━━━━━━━━━━━━━╇━━━━━━━━━━━━━━━━━━━━━━━━╇━━━━━━━━━━━━━━━┩\n",
       "│ lstm (\u001b[38;5;33mLSTM\u001b[0m)                     │ (\u001b[38;5;45mNone\u001b[0m, \u001b[38;5;34m23\u001b[0m, \u001b[38;5;34m128\u001b[0m)        │        \u001b[38;5;34m66,560\u001b[0m │\n",
       "├─────────────────────────────────┼────────────────────────┼───────────────┤\n",
       "│ lstm_1 (\u001b[38;5;33mLSTM\u001b[0m)                   │ (\u001b[38;5;45mNone\u001b[0m, \u001b[38;5;34m64\u001b[0m)             │        \u001b[38;5;34m49,408\u001b[0m │\n",
       "├─────────────────────────────────┼────────────────────────┼───────────────┤\n",
       "│ dense (\u001b[38;5;33mDense\u001b[0m)                   │ (\u001b[38;5;45mNone\u001b[0m, \u001b[38;5;34m25\u001b[0m)             │         \u001b[38;5;34m1,625\u001b[0m │\n",
       "├─────────────────────────────────┼────────────────────────┼───────────────┤\n",
       "│ dense_1 (\u001b[38;5;33mDense\u001b[0m)                 │ (\u001b[38;5;45mNone\u001b[0m, \u001b[38;5;34m1\u001b[0m)              │            \u001b[38;5;34m26\u001b[0m │\n",
       "└─────────────────────────────────┴────────────────────────┴───────────────┘\n"
      ]
     },
     "metadata": {},
     "output_type": "display_data"
    },
    {
     "data": {
      "text/html": [
       "<pre style=\"white-space:pre;overflow-x:auto;line-height:normal;font-family:Menlo,'DejaVu Sans Mono',consolas,'Courier New',monospace\"><span style=\"font-weight: bold\"> Total params: </span><span style=\"color: #00af00; text-decoration-color: #00af00\">117,619</span> (459.45 KB)\n",
       "</pre>\n"
      ],
      "text/plain": [
       "\u001b[1m Total params: \u001b[0m\u001b[38;5;34m117,619\u001b[0m (459.45 KB)\n"
      ]
     },
     "metadata": {},
     "output_type": "display_data"
    },
    {
     "data": {
      "text/html": [
       "<pre style=\"white-space:pre;overflow-x:auto;line-height:normal;font-family:Menlo,'DejaVu Sans Mono',consolas,'Courier New',monospace\"><span style=\"font-weight: bold\"> Trainable params: </span><span style=\"color: #00af00; text-decoration-color: #00af00\">117,619</span> (459.45 KB)\n",
       "</pre>\n"
      ],
      "text/plain": [
       "\u001b[1m Trainable params: \u001b[0m\u001b[38;5;34m117,619\u001b[0m (459.45 KB)\n"
      ]
     },
     "metadata": {},
     "output_type": "display_data"
    },
    {
     "data": {
      "text/html": [
       "<pre style=\"white-space:pre;overflow-x:auto;line-height:normal;font-family:Menlo,'DejaVu Sans Mono',consolas,'Courier New',monospace\"><span style=\"font-weight: bold\"> Non-trainable params: </span><span style=\"color: #00af00; text-decoration-color: #00af00\">0</span> (0.00 B)\n",
       "</pre>\n"
      ],
      "text/plain": [
       "\u001b[1m Non-trainable params: \u001b[0m\u001b[38;5;34m0\u001b[0m (0.00 B)\n"
      ]
     },
     "metadata": {},
     "output_type": "display_data"
    }
   ],
   "source": [
    "model.summary()"
   ]
  },
  {
   "cell_type": "code",
   "execution_count": 11,
   "metadata": {
    "execution": {
     "iopub.execute_input": "2024-08-31T15:04:31.994018Z",
     "iopub.status.busy": "2024-08-31T15:04:31.993247Z",
     "iopub.status.idle": "2024-08-31T15:04:32.008253Z",
     "shell.execute_reply": "2024-08-31T15:04:32.007465Z",
     "shell.execute_reply.started": "2024-08-31T15:04:31.993975Z"
    }
   },
   "outputs": [],
   "source": [
    "model.compile(optimizer='adam', loss='mean_squared_error')\n"
   ]
  },
  {
   "cell_type": "code",
   "execution_count": 12,
   "metadata": {
    "execution": {
     "iopub.execute_input": "2024-08-31T15:04:48.861161Z",
     "iopub.status.busy": "2024-08-31T15:04:48.860300Z",
     "iopub.status.idle": "2024-08-31T15:11:19.247279Z",
     "shell.execute_reply": "2024-08-31T15:11:19.246473Z",
     "shell.execute_reply.started": "2024-08-31T15:04:48.861120Z"
    }
   },
   "outputs": [
    {
     "name": "stdout",
     "output_type": "stream",
     "text": [
      "Epoch 1/20\n",
      "\u001b[1m2847/2847\u001b[0m \u001b[32m━━━━━━━━━━━━━━━━━━━━\u001b[0m\u001b[37m\u001b[0m \u001b[1m23s\u001b[0m 7ms/step - loss: 127309.6641 - val_loss: 53960.9375\n",
      "Epoch 2/20\n",
      "\u001b[1m2847/2847\u001b[0m \u001b[32m━━━━━━━━━━━━━━━━━━━━\u001b[0m\u001b[37m\u001b[0m \u001b[1m19s\u001b[0m 7ms/step - loss: 52823.6094 - val_loss: 43487.9531\n",
      "Epoch 3/20\n",
      "\u001b[1m2847/2847\u001b[0m \u001b[32m━━━━━━━━━━━━━━━━━━━━\u001b[0m\u001b[37m\u001b[0m \u001b[1m19s\u001b[0m 7ms/step - loss: 45032.4492 - val_loss: 39344.9648\n",
      "Epoch 4/20\n",
      "\u001b[1m2847/2847\u001b[0m \u001b[32m━━━━━━━━━━━━━━━━━━━━\u001b[0m\u001b[37m\u001b[0m \u001b[1m19s\u001b[0m 7ms/step - loss: 41023.5156 - val_loss: 38560.0664\n",
      "Epoch 5/20\n",
      "\u001b[1m2847/2847\u001b[0m \u001b[32m━━━━━━━━━━━━━━━━━━━━\u001b[0m\u001b[37m\u001b[0m \u001b[1m19s\u001b[0m 7ms/step - loss: 39002.8516 - val_loss: 40693.5117\n",
      "Epoch 6/20\n",
      "\u001b[1m2847/2847\u001b[0m \u001b[32m━━━━━━━━━━━━━━━━━━━━\u001b[0m\u001b[37m\u001b[0m \u001b[1m19s\u001b[0m 7ms/step - loss: 38571.7969 - val_loss: 34893.5391\n",
      "Epoch 7/20\n",
      "\u001b[1m2847/2847\u001b[0m \u001b[32m━━━━━━━━━━━━━━━━━━━━\u001b[0m\u001b[37m\u001b[0m \u001b[1m19s\u001b[0m 7ms/step - loss: 36636.1953 - val_loss: 34860.3945\n",
      "Epoch 8/20\n",
      "\u001b[1m2847/2847\u001b[0m \u001b[32m━━━━━━━━━━━━━━━━━━━━\u001b[0m\u001b[37m\u001b[0m \u001b[1m19s\u001b[0m 7ms/step - loss: 35278.1289 - val_loss: 35404.7695\n",
      "Epoch 9/20\n",
      "\u001b[1m2847/2847\u001b[0m \u001b[32m━━━━━━━━━━━━━━━━━━━━\u001b[0m\u001b[37m\u001b[0m \u001b[1m19s\u001b[0m 7ms/step - loss: 34580.2578 - val_loss: 34442.7578\n",
      "Epoch 10/20\n",
      "\u001b[1m2847/2847\u001b[0m \u001b[32m━━━━━━━━━━━━━━━━━━━━\u001b[0m\u001b[37m\u001b[0m \u001b[1m19s\u001b[0m 7ms/step - loss: 33091.9961 - val_loss: 35036.1055\n",
      "Epoch 11/20\n",
      "\u001b[1m2847/2847\u001b[0m \u001b[32m━━━━━━━━━━━━━━━━━━━━\u001b[0m\u001b[37m\u001b[0m \u001b[1m19s\u001b[0m 7ms/step - loss: 32336.7363 - val_loss: 35203.9102\n",
      "Epoch 12/20\n",
      "\u001b[1m2847/2847\u001b[0m \u001b[32m━━━━━━━━━━━━━━━━━━━━\u001b[0m\u001b[37m\u001b[0m \u001b[1m19s\u001b[0m 7ms/step - loss: 31616.3613 - val_loss: 31244.0234\n",
      "Epoch 13/20\n",
      "\u001b[1m2847/2847\u001b[0m \u001b[32m━━━━━━━━━━━━━━━━━━━━\u001b[0m\u001b[37m\u001b[0m \u001b[1m20s\u001b[0m 7ms/step - loss: 31459.1230 - val_loss: 33322.0703\n",
      "Epoch 14/20\n",
      "\u001b[1m2847/2847\u001b[0m \u001b[32m━━━━━━━━━━━━━━━━━━━━\u001b[0m\u001b[37m\u001b[0m \u001b[1m19s\u001b[0m 7ms/step - loss: 30203.5684 - val_loss: 33235.6641\n",
      "Epoch 15/20\n",
      "\u001b[1m2847/2847\u001b[0m \u001b[32m━━━━━━━━━━━━━━━━━━━━\u001b[0m\u001b[37m\u001b[0m \u001b[1m19s\u001b[0m 7ms/step - loss: 30176.3730 - val_loss: 32914.2500\n",
      "Epoch 16/20\n",
      "\u001b[1m2847/2847\u001b[0m \u001b[32m━━━━━━━━━━━━━━━━━━━━\u001b[0m\u001b[37m\u001b[0m \u001b[1m19s\u001b[0m 7ms/step - loss: 29712.6992 - val_loss: 30595.6367\n",
      "Epoch 17/20\n",
      "\u001b[1m2847/2847\u001b[0m \u001b[32m━━━━━━━━━━━━━━━━━━━━\u001b[0m\u001b[37m\u001b[0m \u001b[1m20s\u001b[0m 7ms/step - loss: 28594.6387 - val_loss: 33458.3086\n",
      "Epoch 18/20\n",
      "\u001b[1m2847/2847\u001b[0m \u001b[32m━━━━━━━━━━━━━━━━━━━━\u001b[0m\u001b[37m\u001b[0m \u001b[1m20s\u001b[0m 7ms/step - loss: 28454.7070 - val_loss: 32160.4863\n",
      "Epoch 19/20\n",
      "\u001b[1m2847/2847\u001b[0m \u001b[32m━━━━━━━━━━━━━━━━━━━━\u001b[0m\u001b[37m\u001b[0m \u001b[1m19s\u001b[0m 7ms/step - loss: 27523.4668 - val_loss: 35012.0469\n",
      "Epoch 20/20\n",
      "\u001b[1m2847/2847\u001b[0m \u001b[32m━━━━━━━━━━━━━━━━━━━━\u001b[0m\u001b[37m\u001b[0m \u001b[1m19s\u001b[0m 7ms/step - loss: 27454.5703 - val_loss: 33578.9844\n"
     ]
    },
    {
     "data": {
      "text/plain": [
       "<keras.src.callbacks.history.History at 0x78c3815d0e80>"
      ]
     },
     "execution_count": 12,
     "metadata": {},
     "output_type": "execute_result"
    }
   ],
   "source": [
    "model.fit(x_train, y_train, epochs=20, batch_size=128, validation_data=(x_test, y_test))\n"
   ]
  },
  {
   "cell_type": "code",
   "execution_count": 13,
   "metadata": {
    "execution": {
     "iopub.execute_input": "2024-08-31T15:11:19.249782Z",
     "iopub.status.busy": "2024-08-31T15:11:19.248807Z",
     "iopub.status.idle": "2024-08-31T15:11:26.549226Z",
     "shell.execute_reply": "2024-08-31T15:11:26.548444Z",
     "shell.execute_reply.started": "2024-08-31T15:11:19.249731Z"
    }
   },
   "outputs": [
    {
     "name": "stdout",
     "output_type": "stream",
     "text": [
      "\u001b[1m2871/2871\u001b[0m \u001b[32m━━━━━━━━━━━━━━━━━━━━\u001b[0m\u001b[37m\u001b[0m \u001b[1m7s\u001b[0m 3ms/step - loss: 34233.9531\n"
     ]
    }
   ],
   "source": [
    "val_loss = model.evaluate(x_test, y_test)"
   ]
  },
  {
   "cell_type": "code",
   "execution_count": null,
   "metadata": {},
   "outputs": [],
   "source": [
    "print(f'Validation Loss: {val_loss}')"
   ]
  },
  {
   "cell_type": "code",
   "execution_count": 17,
   "metadata": {
    "execution": {
     "iopub.execute_input": "2024-08-31T15:12:21.385193Z",
     "iopub.status.busy": "2024-08-31T15:12:21.384692Z",
     "iopub.status.idle": "2024-08-31T15:12:29.225517Z",
     "shell.execute_reply": "2024-08-31T15:12:29.224649Z",
     "shell.execute_reply.started": "2024-08-31T15:12:21.385141Z"
    }
   },
   "outputs": [
    {
     "name": "stdout",
     "output_type": "stream",
     "text": [
      "\u001b[1m2871/2871\u001b[0m \u001b[32m━━━━━━━━━━━━━━━━━━━━\u001b[0m\u001b[37m\u001b[0m \u001b[1m6s\u001b[0m 2ms/step\n"
     ]
    }
   ],
   "source": [
    "y_pred = model.predict(x_test)"
   ]
  },
  {
   "cell_type": "code",
   "execution_count": 18,
   "metadata": {
    "execution": {
     "iopub.execute_input": "2024-08-31T15:12:29.227504Z",
     "iopub.status.busy": "2024-08-31T15:12:29.227149Z",
     "iopub.status.idle": "2024-08-31T15:12:29.238761Z",
     "shell.execute_reply": "2024-08-31T15:12:29.237864Z",
     "shell.execute_reply.started": "2024-08-31T15:12:29.227435Z"
    }
   },
   "outputs": [
    {
     "name": "stdout",
     "output_type": "stream",
     "text": [
      "Mean Squared Error: 33578.98284472683\n",
      "Mean Absolute Error: 101.6045286441535\n",
      "r2_score: 0.7079587511319722\n",
      "mean_absolute_percentage_error:0.7573580356950572\n"
     ]
    }
   ],
   "source": [
    "mse = mean_squared_error(y_test, y_pred)\n",
    "mae = mean_absolute_error(y_test, y_pred)\n",
    "r2_score=r2_score(y_test, y_pred)\n",
    "mape=mean_absolute_percentage_error(y_test, y_pred)\n",
    "print(f'Mean Squared Error: {mse}')\n",
    "print(f'Mean Absolute Error: {mae}')\n",
    "print(f'r2_score: {r2_score}')\n",
    "print(f'mean_absolute_percentage_error:{mape}')"
   ]
  },
  {
   "cell_type": "markdown",
   "metadata": {},
   "source": [
    "# VAR Model"
   ]
  },
  {
   "cell_type": "markdown",
   "metadata": {},
   "source": [
    "### Hypothesis:\n",
    "##### H0: the series is non-stationar\n",
    "##### H1: the series is stationary"
   ]
  },
  {
   "cell_type": "code",
   "execution_count": 23,
   "metadata": {
    "execution": {
     "iopub.execute_input": "2024-08-31T15:17:22.133266Z",
     "iopub.status.busy": "2024-08-31T15:17:22.132256Z",
     "iopub.status.idle": "2024-08-31T16:59:25.074819Z",
     "shell.execute_reply": "2024-08-31T16:59:25.072296Z",
     "shell.execute_reply.started": "2024-08-31T15:17:22.133223Z"
    }
   },
   "outputs": [
    {
     "name": "stdout",
     "output_type": "stream",
     "text": [
      "Testing stationarity for Unnamed: 0\n",
      "ADF Statistic: -399.4870110689039\n",
      "p-value: 0.0\n",
      "Series is stationary\n",
      "\n",
      "\n",
      "Testing stationarity for week\n",
      "ADF Statistic: -0.6587862849900615\n",
      "p-value: 0.8571380299557552\n",
      "Series is non-stationary\n",
      "\n",
      "\n",
      "Testing stationarity for center_id\n",
      "ADF Statistic: -236.38825453279452\n",
      "p-value: 0.0\n",
      "Series is stationary\n",
      "\n",
      "\n",
      "Testing stationarity for meal_id\n",
      "ADF Statistic: -53.700414617135785\n",
      "p-value: 0.0\n",
      "Series is stationary\n",
      "\n",
      "\n",
      "Testing stationarity for checkout_price\n",
      "ADF Statistic: -55.6240775932155\n",
      "p-value: 0.0\n",
      "Series is stationary\n",
      "\n",
      "\n",
      "Testing stationarity for base_price\n",
      "ADF Statistic: -59.38083234239335\n",
      "p-value: 0.0\n",
      "Series is stationary\n",
      "\n",
      "\n",
      "Testing stationarity for emailer_for_promotion\n",
      "ADF Statistic: -29.88669886261749\n",
      "p-value: 0.0\n",
      "Series is stationary\n",
      "\n",
      "\n",
      "Testing stationarity for homepage_featured\n",
      "ADF Statistic: -46.015037841491136\n",
      "p-value: 0.0\n",
      "Series is stationary\n",
      "\n",
      "\n",
      "Testing stationarity for num_orders\n",
      "ADF Statistic: -46.489364088680915\n",
      "p-value: 0.0\n",
      "Series is stationary\n",
      "\n",
      "\n",
      "Testing stationarity for city_code\n",
      "ADF Statistic: -277.96524134663963\n",
      "p-value: 0.0\n",
      "Series is stationary\n",
      "\n",
      "\n",
      "Testing stationarity for region_code\n",
      "ADF Statistic: -674.3877002417059\n",
      "p-value: 0.0\n",
      "Series is stationary\n",
      "\n",
      "\n",
      "Testing stationarity for center_type\n",
      "ADF Statistic: -111.04508866703506\n",
      "p-value: 0.0\n",
      "Series is stationary\n",
      "\n",
      "\n",
      "Testing stationarity for op_area\n",
      "ADF Statistic: -674.5820082476247\n",
      "p-value: 0.0\n",
      "Series is stationary\n",
      "\n",
      "\n",
      "Testing stationarity for category\n",
      "ADF Statistic: -59.831438020556114\n",
      "p-value: 0.0\n",
      "Series is stationary\n",
      "\n",
      "\n",
      "Testing stationarity for cuisine\n",
      "ADF Statistic: -57.9369182014413\n",
      "p-value: 0.0\n",
      "Series is stationary\n",
      "\n",
      "\n",
      "Testing stationarity for meal_profitability\n",
      "ADF Statistic: -31.85374852630377\n",
      "p-value: 0.0\n",
      "Series is stationary\n",
      "\n",
      "\n",
      "Testing stationarity for meal_profitability_percentage\n",
      "ADF Statistic: -34.297586389259095\n",
      "p-value: 0.0\n",
      "Series is stationary\n",
      "\n",
      "\n",
      "Testing stationarity for center_type_city_code\n",
      "ADF Statistic: -118.70859515186112\n",
      "p-value: 0.0\n",
      "Series is stationary\n",
      "\n",
      "\n",
      "Testing stationarity for category_cuisine\n",
      "ADF Statistic: -59.31037133310805\n",
      "p-value: 0.0\n",
      "Series is stationary\n",
      "\n",
      "\n",
      "Testing stationarity for center_id_category\n",
      "ADF Statistic: -479.56895473543597\n",
      "p-value: 0.0\n",
      "Series is stationary\n",
      "\n",
      "\n",
      "Testing stationarity for food_price_trend\n",
      "ADF Statistic: -89.65331783212118\n",
      "p-value: 0.0\n",
      "Series is stationary\n",
      "\n",
      "\n",
      "Testing stationarity for category_center_type\n",
      "ADF Statistic: -59.12759435267292\n",
      "p-value: 0.0\n",
      "Series is stationary\n",
      "\n",
      "\n",
      "Testing stationarity for featured_shown\n",
      "ADF Statistic: -31.832799642521934\n",
      "p-value: 0.0\n",
      "Series is stationary\n",
      "\n",
      "\n",
      "Testing stationarity for price_change_rate\n"
     ]
    },
    {
     "ename": "ValueError",
     "evalue": "Invalid input, x is constant",
     "output_type": "error",
     "traceback": [
      "\u001b[0;31m---------------------------------------------------------------------------\u001b[0m",
      "\u001b[0;31mValueError\u001b[0m                                Traceback (most recent call last)",
      "Cell \u001b[0;32mIn[23], line 13\u001b[0m\n\u001b[1;32m     11\u001b[0m \u001b[38;5;28;01mfor\u001b[39;00m column \u001b[38;5;129;01min\u001b[39;00m df\u001b[38;5;241m.\u001b[39mcolumns:\n\u001b[1;32m     12\u001b[0m     \u001b[38;5;28mprint\u001b[39m(\u001b[38;5;124mf\u001b[39m\u001b[38;5;124m\"\u001b[39m\u001b[38;5;124mTesting stationarity for \u001b[39m\u001b[38;5;132;01m{\u001b[39;00mcolumn\u001b[38;5;132;01m}\u001b[39;00m\u001b[38;5;124m\"\u001b[39m)\n\u001b[0;32m---> 13\u001b[0m     \u001b[43madf_test\u001b[49m\u001b[43m(\u001b[49m\u001b[43mdf\u001b[49m\u001b[43m[\u001b[49m\u001b[43mcolumn\u001b[49m\u001b[43m]\u001b[49m\u001b[43m)\u001b[49m\n\u001b[1;32m     14\u001b[0m     \u001b[38;5;28mprint\u001b[39m(\u001b[38;5;124m'\u001b[39m\u001b[38;5;130;01m\\n\u001b[39;00m\u001b[38;5;124m'\u001b[39m)\n",
      "Cell \u001b[0;32mIn[23], line 2\u001b[0m, in \u001b[0;36madf_test\u001b[0;34m(series)\u001b[0m\n\u001b[1;32m      1\u001b[0m \u001b[38;5;28;01mdef\u001b[39;00m \u001b[38;5;21madf_test\u001b[39m(series):\n\u001b[0;32m----> 2\u001b[0m     result \u001b[38;5;241m=\u001b[39m \u001b[43madfuller\u001b[49m\u001b[43m(\u001b[49m\u001b[43mseries\u001b[49m\u001b[43m)\u001b[49m\n\u001b[1;32m      3\u001b[0m     \u001b[38;5;28mprint\u001b[39m(\u001b[38;5;124mf\u001b[39m\u001b[38;5;124m'\u001b[39m\u001b[38;5;124mADF Statistic: \u001b[39m\u001b[38;5;132;01m{\u001b[39;00mresult[\u001b[38;5;241m0\u001b[39m]\u001b[38;5;132;01m}\u001b[39;00m\u001b[38;5;124m'\u001b[39m)\n\u001b[1;32m      4\u001b[0m     \u001b[38;5;28mprint\u001b[39m(\u001b[38;5;124mf\u001b[39m\u001b[38;5;124m'\u001b[39m\u001b[38;5;124mp-value: \u001b[39m\u001b[38;5;132;01m{\u001b[39;00mresult[\u001b[38;5;241m1\u001b[39m]\u001b[38;5;132;01m}\u001b[39;00m\u001b[38;5;124m'\u001b[39m)\n",
      "File \u001b[0;32m/opt/conda/lib/python3.10/site-packages/statsmodels/tsa/stattools.py:275\u001b[0m, in \u001b[0;36madfuller\u001b[0;34m(x, maxlag, regression, autolag, store, regresults)\u001b[0m\n\u001b[1;32m    272\u001b[0m regresults \u001b[38;5;241m=\u001b[39m bool_like(regresults, \u001b[38;5;124m\"\u001b[39m\u001b[38;5;124mregresults\u001b[39m\u001b[38;5;124m\"\u001b[39m)\n\u001b[1;32m    274\u001b[0m \u001b[38;5;28;01mif\u001b[39;00m x\u001b[38;5;241m.\u001b[39mmax() \u001b[38;5;241m==\u001b[39m x\u001b[38;5;241m.\u001b[39mmin():\n\u001b[0;32m--> 275\u001b[0m     \u001b[38;5;28;01mraise\u001b[39;00m \u001b[38;5;167;01mValueError\u001b[39;00m(\u001b[38;5;124m\"\u001b[39m\u001b[38;5;124mInvalid input, x is constant\u001b[39m\u001b[38;5;124m\"\u001b[39m)\n\u001b[1;32m    277\u001b[0m \u001b[38;5;28;01mif\u001b[39;00m regresults:\n\u001b[1;32m    278\u001b[0m     store \u001b[38;5;241m=\u001b[39m \u001b[38;5;28;01mTrue\u001b[39;00m\n",
      "\u001b[0;31mValueError\u001b[0m: Invalid input, x is constant"
     ]
    }
   ],
   "source": [
    "def adf_test(series):\n",
    "    result = adfuller(series)\n",
    "    print(f'ADF Statistic: {result[0]}')\n",
    "    print(f'p-value: {result[1]}')\n",
    "    if result[1] > 0.05:\n",
    "        print(\"Series is non-stationary\")\n",
    "    else:\n",
    "        print(\"Series is stationary\")\n",
    "\n",
    "# Apply ADF test\n",
    "for column in df.columns:\n",
    "    print(f\"Testing stationarity for {column}\")\n",
    "    adf_test(df[column])\n",
    "    print('\\n')\n"
   ]
  },
  {
   "cell_type": "code",
   "execution_count": 31,
   "metadata": {
    "execution": {
     "iopub.execute_input": "2024-09-01T01:38:05.582342Z",
     "iopub.status.busy": "2024-09-01T01:38:05.581975Z",
     "iopub.status.idle": "2024-09-01T01:38:05.634989Z",
     "shell.execute_reply": "2024-09-01T01:38:05.634131Z",
     "shell.execute_reply.started": "2024-09-01T01:38:05.582309Z"
    }
   },
   "outputs": [],
   "source": [
    "df2=df2[df2['=']<5000]\n",
    "train_df2=df2[df2['week']<118]\n",
    "test_df2=df2[df2['week']>=118]"
   ]
  },
  {
   "cell_type": "code",
   "execution_count": 32,
   "metadata": {
    "execution": {
     "iopub.execute_input": "2024-09-01T01:38:11.580775Z",
     "iopub.status.busy": "2024-09-01T01:38:11.580408Z",
     "iopub.status.idle": "2024-09-01T01:38:11.600902Z",
     "shell.execute_reply": "2024-09-01T01:38:11.599798Z",
     "shell.execute_reply.started": "2024-09-01T01:38:11.580739Z"
    }
   },
   "outputs": [
    {
     "name": "stderr",
     "output_type": "stream",
     "text": [
      "/opt/conda/lib/python3.10/site-packages/statsmodels/tsa/base/tsa_model.py:473: ValueWarning: An unsupported index was provided and will be ignored when e.g. forecasting.\n",
      "  self._init_dates(dates, freq)\n"
     ]
    }
   ],
   "source": [
    "VAR_model=VAR(train_df2)"
   ]
  },
  {
   "cell_type": "code",
   "execution_count": 33,
   "metadata": {
    "execution": {
     "iopub.execute_input": "2024-09-01T01:38:13.015236Z",
     "iopub.status.busy": "2024-09-01T01:38:13.014494Z",
     "iopub.status.idle": "2024-09-01T01:39:53.231210Z",
     "shell.execute_reply": "2024-09-01T01:39:53.229966Z",
     "shell.execute_reply.started": "2024-09-01T01:38:13.015193Z"
    }
   },
   "outputs": [
    {
     "name": "stdout",
     "output_type": "stream",
     "text": [
      " VAR Order Selection (* highlights the minimums)  \n",
      "==================================================\n",
      "       AIC         BIC         FPE         HQIC   \n",
      "--------------------------------------------------\n",
      "0        66.83       66.83   1.054e+29       66.83\n",
      "1        51.75      51.75*   2.972e+22      51.75*\n",
      "2        51.74       51.76   2.968e+22       51.75\n",
      "3        51.74       51.76   2.965e+22       51.75\n",
      "4        51.74       51.77   2.962e+22       51.75\n",
      "5        51.74       51.77   2.959e+22       51.75\n",
      "6        51.74       51.78   2.957e+22       51.75\n",
      "7        51.74       51.78   2.954e+22       51.75\n",
      "8        51.74       51.79   2.952e+22       51.75\n",
      "9        51.74       51.79   2.950e+22       51.75\n",
      "10       51.74       51.80   2.948e+22       51.75\n",
      "11       51.74       51.80   2.945e+22       51.76\n",
      "12       51.74       51.81   2.944e+22       51.76\n",
      "13       51.74       51.81   2.943e+22       51.76\n",
      "14       51.74       51.82   2.942e+22       51.76\n",
      "15       51.74       51.82   2.941e+22       51.76\n",
      "16       51.74       51.83   2.939e+22       51.76\n",
      "17       51.73       51.83   2.939e+22       51.76\n",
      "18       51.73       51.84   2.937e+22       51.76\n",
      "19       51.73       51.84   2.937e+22       51.77\n",
      "20      51.73*       51.85  2.935e+22*       51.77\n",
      "--------------------------------------------------\n"
     ]
    }
   ],
   "source": [
    "sorted_order=VAR_model.select_order(maxlags=20)\n",
    "print(sorted_order.summary())"
   ]
  },
  {
   "cell_type": "code",
   "execution_count": 34,
   "metadata": {
    "execution": {
     "iopub.execute_input": "2024-09-01T01:39:53.241066Z",
     "iopub.status.busy": "2024-09-01T01:39:53.237386Z",
     "iopub.status.idle": "2024-09-01T01:40:02.128592Z",
     "shell.execute_reply": "2024-09-01T01:40:02.127179Z",
     "shell.execute_reply.started": "2024-09-01T01:39:53.241001Z"
    }
   },
   "outputs": [],
   "source": [
    "VAR_model_fitted = VAR_model.fit(20)"
   ]
  },
  {
   "cell_type": "code",
   "execution_count": 47,
   "metadata": {
    "execution": {
     "iopub.execute_input": "2024-09-01T01:44:12.047834Z",
     "iopub.status.busy": "2024-09-01T01:44:12.046966Z",
     "iopub.status.idle": "2024-09-01T01:44:12.059643Z",
     "shell.execute_reply": "2024-09-01T01:44:12.058756Z",
     "shell.execute_reply.started": "2024-09-01T01:44:12.047792Z"
    }
   },
   "outputs": [],
   "source": [
    "n_forecast = len(test_df2)\n",
    "forecast_input = train_df2.values[-VAR_model_fitted.k_ar:]"
   ]
  },
  {
   "cell_type": "code",
   "execution_count": 48,
   "metadata": {
    "execution": {
     "iopub.execute_input": "2024-09-01T01:44:14.636839Z",
     "iopub.status.busy": "2024-09-01T01:44:14.636446Z",
     "iopub.status.idle": "2024-09-01T01:44:20.829830Z",
     "shell.execute_reply": "2024-09-01T01:44:20.829048Z",
     "shell.execute_reply.started": "2024-09-01T01:44:14.636803Z"
    }
   },
   "outputs": [],
   "source": [
    "predictions = VAR_model_fitted.forecast(y=forecast_input, steps=n_forecast)"
   ]
  },
  {
   "cell_type": "code",
   "execution_count": 53,
   "metadata": {
    "execution": {
     "iopub.execute_input": "2024-09-01T01:48:45.805808Z",
     "iopub.status.busy": "2024-09-01T01:48:45.805432Z",
     "iopub.status.idle": "2024-09-01T01:48:45.818666Z",
     "shell.execute_reply": "2024-09-01T01:48:45.817673Z",
     "shell.execute_reply.started": "2024-09-01T01:48:45.805774Z"
    }
   },
   "outputs": [
    {
     "data": {
      "text/html": [
       "<div>\n",
       "<style scoped>\n",
       "    .dataframe tbody tr th:only-of-type {\n",
       "        vertical-align: middle;\n",
       "    }\n",
       "\n",
       "    .dataframe tbody tr th {\n",
       "        vertical-align: top;\n",
       "    }\n",
       "\n",
       "    .dataframe thead th {\n",
       "        text-align: right;\n",
       "    }\n",
       "</style>\n",
       "<table border=\"1\" class=\"dataframe\">\n",
       "  <thead>\n",
       "    <tr style=\"text-align: right;\">\n",
       "      <th></th>\n",
       "      <th>week</th>\n",
       "      <th>center_id</th>\n",
       "      <th>meal_id</th>\n",
       "      <th>checkout_price</th>\n",
       "      <th>base_price</th>\n",
       "      <th>emailer_for_promotion</th>\n",
       "      <th>homepage_featured</th>\n",
       "      <th>num_orders</th>\n",
       "      <th>city_code</th>\n",
       "      <th>region_code</th>\n",
       "      <th>center_type</th>\n",
       "      <th>op_area</th>\n",
       "      <th>category</th>\n",
       "      <th>cuisine</th>\n",
       "    </tr>\n",
       "  </thead>\n",
       "  <tbody>\n",
       "    <tr>\n",
       "      <th>364638</th>\n",
       "      <td>118</td>\n",
       "      <td>36</td>\n",
       "      <td>2304</td>\n",
       "      <td>387</td>\n",
       "      <td>474</td>\n",
       "      <td>0</td>\n",
       "      <td>0</td>\n",
       "      <td>81</td>\n",
       "      <td>517</td>\n",
       "      <td>56</td>\n",
       "      <td>1</td>\n",
       "      <td>4.4</td>\n",
       "      <td>2</td>\n",
       "      <td>1</td>\n",
       "    </tr>\n",
       "  </tbody>\n",
       "</table>\n",
       "</div>"
      ],
      "text/plain": [
       "        week  center_id  meal_id  checkout_price  base_price  \\\n",
       "364638   118         36     2304             387         474   \n",
       "\n",
       "        emailer_for_promotion  homepage_featured  num_orders  city_code  \\\n",
       "364638                      0                  0          81        517   \n",
       "\n",
       "        region_code  center_type  op_area  category  cuisine  \n",
       "364638           56            1      4.4         2        1  "
      ]
     },
     "execution_count": 53,
     "metadata": {},
     "output_type": "execute_result"
    }
   ],
   "source": [
    "test_df2.head(1)"
   ]
  },
  {
   "cell_type": "code",
   "execution_count": 54,
   "metadata": {
    "execution": {
     "iopub.execute_input": "2024-09-01T01:49:17.632244Z",
     "iopub.status.busy": "2024-09-01T01:49:17.631315Z",
     "iopub.status.idle": "2024-09-01T01:49:17.636662Z",
     "shell.execute_reply": "2024-09-01T01:49:17.635631Z",
     "shell.execute_reply.started": "2024-09-01T01:49:17.632202Z"
    }
   },
   "outputs": [],
   "source": [
    "predicted_num_orders = pd.Series(predictions[:, 7]) "
   ]
  },
  {
   "cell_type": "code",
   "execution_count": 55,
   "metadata": {
    "execution": {
     "iopub.execute_input": "2024-09-01T01:49:44.093974Z",
     "iopub.status.busy": "2024-09-01T01:49:44.093580Z",
     "iopub.status.idle": "2024-09-01T01:49:44.109432Z",
     "shell.execute_reply": "2024-09-01T01:49:44.108393Z",
     "shell.execute_reply.started": "2024-09-01T01:49:44.093940Z"
    }
   },
   "outputs": [
    {
     "name": "stdout",
     "output_type": "stream",
     "text": [
      "MAE: 215.22305779981488\n",
      "MSE: 115218.61055766496\n",
      "mape:3.2889847534589185\n",
      "r2_score: -0.002072846449651111\n"
     ]
    }
   ],
   "source": [
    "\n",
    "mae = mean_absolute_error(test_df2.num_orders, predicted_num_orders)\n",
    "mse = mean_squared_error(test_df2.num_orders, predicted_num_orders)\n",
    "r2_score=r2_score(test_df2.num_orders, predicted_num_orders)\n",
    "mape=mean_absolute_percentage_error(test_df2.num_orders, predicted_num_orders)\n",
    "print(f'MAE: {mae}')\n",
    "print(f'MSE: {mse}')\n",
    "print(f'mape:{mape}')\n",
    "print(f'r2_score: {r2_score}')\n"
   ]
  },
  {
   "cell_type": "markdown",
   "metadata": {},
   "source": [
    "### ARIMAX"
   ]
  },
  {
   "cell_type": "code",
   "execution_count": 26,
   "metadata": {
    "execution": {
     "iopub.execute_input": "2024-09-01T08:07:20.227235Z",
     "iopub.status.busy": "2024-09-01T08:07:20.226329Z",
     "iopub.status.idle": "2024-09-01T08:07:20.232746Z",
     "shell.execute_reply": "2024-09-01T08:07:20.231462Z",
     "shell.execute_reply.started": "2024-09-01T08:07:20.227191Z"
    }
   },
   "outputs": [],
   "source": [
    "df2.set_index('week',inplace=True)"
   ]
  },
  {
   "cell_type": "code",
   "execution_count": 52,
   "metadata": {
    "execution": {
     "iopub.execute_input": "2024-09-01T08:23:24.209227Z",
     "iopub.status.busy": "2024-09-01T08:23:24.208806Z",
     "iopub.status.idle": "2024-09-01T08:23:24.230477Z",
     "shell.execute_reply": "2024-09-01T08:23:24.229423Z",
     "shell.execute_reply.started": "2024-09-01T08:23:24.209190Z"
    }
   },
   "outputs": [],
   "source": [
    "df2=df2[df2['num_orders']<5000]"
   ]
  },
  {
   "cell_type": "code",
   "execution_count": 53,
   "metadata": {
    "execution": {
     "iopub.execute_input": "2024-09-01T08:23:28.413560Z",
     "iopub.status.busy": "2024-09-01T08:23:28.412697Z",
     "iopub.status.idle": "2024-09-01T08:23:28.434204Z",
     "shell.execute_reply": "2024-09-01T08:23:28.433106Z",
     "shell.execute_reply.started": "2024-09-01T08:23:28.413519Z"
    }
   },
   "outputs": [],
   "source": [
    "y = df2['num_orders']\n",
    "X = df2.drop('num_orders',axis=1)"
   ]
  },
  {
   "cell_type": "code",
   "execution_count": 54,
   "metadata": {
    "execution": {
     "iopub.execute_input": "2024-09-01T08:23:28.675702Z",
     "iopub.status.busy": "2024-09-01T08:23:28.674829Z",
     "iopub.status.idle": "2024-09-01T08:23:28.715031Z",
     "shell.execute_reply": "2024-09-01T08:23:28.713928Z",
     "shell.execute_reply.started": "2024-09-01T08:23:28.675661Z"
    }
   },
   "outputs": [],
   "source": [
    "x_train,x_test,y_train,y_test=train_test_split(X,y,test_size=0.25,shuffle=False)"
   ]
  },
  {
   "cell_type": "code",
   "execution_count": 55,
   "metadata": {
    "execution": {
     "iopub.execute_input": "2024-09-01T08:23:31.928106Z",
     "iopub.status.busy": "2024-09-01T08:23:31.927421Z",
     "iopub.status.idle": "2024-09-01T08:23:32.717734Z",
     "shell.execute_reply": "2024-09-01T08:23:32.716397Z",
     "shell.execute_reply.started": "2024-09-01T08:23:31.928067Z"
    }
   },
   "outputs": [
    {
     "name": "stderr",
     "output_type": "stream",
     "text": [
      "/opt/conda/lib/python3.10/site-packages/statsmodels/tsa/base/tsa_model.py:473: ValueWarning: An unsupported index was provided and will be ignored when e.g. forecasting.\n",
      "  self._init_dates(dates, freq)\n",
      "/opt/conda/lib/python3.10/site-packages/statsmodels/tsa/base/tsa_model.py:473: ValueWarning: An unsupported index was provided and will be ignored when e.g. forecasting.\n",
      "  self._init_dates(dates, freq)\n",
      "/opt/conda/lib/python3.10/site-packages/statsmodels/tsa/base/tsa_model.py:473: ValueWarning: An unsupported index was provided and will be ignored when e.g. forecasting.\n",
      "  self._init_dates(dates, freq)\n"
     ]
    }
   ],
   "source": [
    "model = sm.tsa.ARIMA(y_train, order=(1, 0, 1), exog=x_train,trend='n')"
   ]
  },
  {
   "cell_type": "code",
   "execution_count": 56,
   "metadata": {
    "execution": {
     "iopub.execute_input": "2024-09-01T08:23:36.219726Z",
     "iopub.status.busy": "2024-09-01T08:23:36.219034Z",
     "iopub.status.idle": "2024-09-01T08:32:41.675014Z",
     "shell.execute_reply": "2024-09-01T08:32:41.673368Z",
     "shell.execute_reply.started": "2024-09-01T08:23:36.219686Z"
    }
   },
   "outputs": [
    {
     "name": "stderr",
     "output_type": "stream",
     "text": [
      "/opt/conda/lib/python3.10/site-packages/statsmodels/base/model.py:607: ConvergenceWarning: Maximum Likelihood optimization failed to converge. Check mle_retvals\n",
      "  warnings.warn(\"Maximum Likelihood optimization failed to \"\n"
     ]
    }
   ],
   "source": [
    "ARIMAX_fitted = model.fit()"
   ]
  },
  {
   "cell_type": "code",
   "execution_count": 57,
   "metadata": {
    "execution": {
     "iopub.execute_input": "2024-09-01T08:32:41.678465Z",
     "iopub.status.busy": "2024-09-01T08:32:41.677752Z",
     "iopub.status.idle": "2024-09-01T08:32:45.883011Z",
     "shell.execute_reply": "2024-09-01T08:32:45.882121Z",
     "shell.execute_reply.started": "2024-09-01T08:32:41.678413Z"
    }
   },
   "outputs": [
    {
     "name": "stderr",
     "output_type": "stream",
     "text": [
      "/opt/conda/lib/python3.10/site-packages/statsmodels/tsa/base/tsa_model.py:836: ValueWarning: No supported index is available. Prediction results will be given with an integer index beginning at `start`.\n",
      "  return get_prediction_index(\n",
      "/opt/conda/lib/python3.10/site-packages/statsmodels/tsa/base/tsa_model.py:836: FutureWarning: No supported index is available. In the next version, calling this method in a model without a supported index will result in an exception.\n",
      "  return get_prediction_index(\n"
     ]
    }
   ],
   "source": [
    "forecast = ARIMAX_fitted.forecast(steps=len(x_test), exog=x_test)"
   ]
  },
  {
   "cell_type": "code",
   "execution_count": 62,
   "metadata": {
    "execution": {
     "iopub.execute_input": "2024-09-01T08:36:52.498400Z",
     "iopub.status.busy": "2024-09-01T08:36:52.497718Z",
     "iopub.status.idle": "2024-09-01T08:36:52.510163Z",
     "shell.execute_reply": "2024-09-01T08:36:52.509092Z",
     "shell.execute_reply.started": "2024-09-01T08:36:52.498359Z"
    }
   },
   "outputs": [],
   "source": [
    "mse = mean_squared_error(y_test, forecast)\n",
    "mae = mean_absolute_error(y_test, forecast)\n",
    "r2_score=r2_score(y_test, forecast)\n",
    "mape=mean_absolute_percentage_error(y_test, forecast)\n"
   ]
  },
  {
   "cell_type": "code",
   "execution_count": 63,
   "metadata": {
    "execution": {
     "iopub.execute_input": "2024-09-01T08:36:52.882529Z",
     "iopub.status.busy": "2024-09-01T08:36:52.881615Z",
     "iopub.status.idle": "2024-09-01T08:36:52.887705Z",
     "shell.execute_reply": "2024-09-01T08:36:52.886734Z",
     "shell.execute_reply.started": "2024-09-01T08:36:52.882489Z"
    }
   },
   "outputs": [
    {
     "name": "stdout",
     "output_type": "stream",
     "text": [
      "MSE: 120373.95771643388\n",
      "MAE: 232.25402328891423\n",
      "rmse: 2.392131468496102\n",
      "r2_score: -0.043033831126203737\n"
     ]
    }
   ],
   "source": [
    "print(f'MSE: {mse}')\n",
    "print(f'MAE: {mae}')\n",
    "print(f'rmse: {mape}')\n",
    "print(f'r2_score: {r2_score}')"
   ]
  },
  {
   "cell_type": "markdown",
   "metadata": {},
   "source": [
    "### LSTM"
   ]
  },
  {
   "cell_type": "code",
   "execution_count": 96,
   "metadata": {
    "execution": {
     "iopub.execute_input": "2024-09-01T09:02:54.123039Z",
     "iopub.status.busy": "2024-09-01T09:02:54.122657Z",
     "iopub.status.idle": "2024-09-01T09:02:54.148009Z",
     "shell.execute_reply": "2024-09-01T09:02:54.147177Z",
     "shell.execute_reply.started": "2024-09-01T09:02:54.123002Z"
    }
   },
   "outputs": [],
   "source": [
    "df3=df3[df3['num_orders']<5000]"
   ]
  },
  {
   "cell_type": "code",
   "execution_count": 98,
   "metadata": {
    "execution": {
     "iopub.execute_input": "2024-09-01T09:03:01.811389Z",
     "iopub.status.busy": "2024-09-01T09:03:01.810666Z",
     "iopub.status.idle": "2024-09-01T09:03:01.842320Z",
     "shell.execute_reply": "2024-09-01T09:03:01.841452Z",
     "shell.execute_reply.started": "2024-09-01T09:03:01.811351Z"
    }
   },
   "outputs": [],
   "source": [
    "train_df3=df3[df3['week']<118]\n",
    "test_df3=df3[df3['week']>=118]"
   ]
  },
  {
   "cell_type": "code",
   "execution_count": null,
   "metadata": {},
   "outputs": [],
   "source": [
    "x_train,y_train=train_df3.drop('num_orders',axis=1),train_df3['num_orders']\n",
    "x_test,y_test=test_df3.drop('num_orders',axis=1),test_df3['num_orders']"
   ]
  },
  {
   "cell_type": "code",
   "execution_count": 111,
   "metadata": {
    "execution": {
     "iopub.execute_input": "2024-09-01T09:08:58.526035Z",
     "iopub.status.busy": "2024-09-01T09:08:58.525652Z",
     "iopub.status.idle": "2024-09-01T09:08:58.592924Z",
     "shell.execute_reply": "2024-09-01T09:08:58.591960Z",
     "shell.execute_reply.started": "2024-09-01T09:08:58.525998Z"
    }
   },
   "outputs": [
    {
     "name": "stderr",
     "output_type": "stream",
     "text": [
      "/opt/conda/lib/python3.10/site-packages/keras/src/layers/rnn/rnn.py:204: UserWarning: Do not pass an `input_shape`/`input_dim` argument to a layer. When using Sequential models, prefer using an `Input(shape)` object as the first layer in the model instead.\n",
      "  super().__init__(**kwargs)\n"
     ]
    }
   ],
   "source": [
    "model=Sequential()\n",
    "model.add(LSTM(128,return_sequences=True,input_shape=(x_train.shape[1],1)))\n",
    "model.add(LSTM(64,return_sequences=False))\n",
    "model.add(Dense(25))\n",
    "model.add(Dense(1))"
   ]
  },
  {
   "cell_type": "code",
   "execution_count": 112,
   "metadata": {
    "execution": {
     "iopub.execute_input": "2024-09-01T09:08:59.401225Z",
     "iopub.status.busy": "2024-09-01T09:08:59.400165Z",
     "iopub.status.idle": "2024-09-01T09:08:59.419842Z",
     "shell.execute_reply": "2024-09-01T09:08:59.419013Z",
     "shell.execute_reply.started": "2024-09-01T09:08:59.401182Z"
    }
   },
   "outputs": [
    {
     "data": {
      "text/html": [
       "<pre style=\"white-space:pre;overflow-x:auto;line-height:normal;font-family:Menlo,'DejaVu Sans Mono',consolas,'Courier New',monospace\"><span style=\"font-weight: bold\">Model: \"sequential_1\"</span>\n",
       "</pre>\n"
      ],
      "text/plain": [
       "\u001b[1mModel: \"sequential_1\"\u001b[0m\n"
      ]
     },
     "metadata": {},
     "output_type": "display_data"
    },
    {
     "data": {
      "text/html": [
       "<pre style=\"white-space:pre;overflow-x:auto;line-height:normal;font-family:Menlo,'DejaVu Sans Mono',consolas,'Courier New',monospace\">┏━━━━━━━━━━━━━━━━━━━━━━━━━━━━━━━━━┳━━━━━━━━━━━━━━━━━━━━━━━━┳━━━━━━━━━━━━━━━┓\n",
       "┃<span style=\"font-weight: bold\"> Layer (type)                    </span>┃<span style=\"font-weight: bold\"> Output Shape           </span>┃<span style=\"font-weight: bold\">       Param # </span>┃\n",
       "┡━━━━━━━━━━━━━━━━━━━━━━━━━━━━━━━━━╇━━━━━━━━━━━━━━━━━━━━━━━━╇━━━━━━━━━━━━━━━┩\n",
       "│ lstm_2 (<span style=\"color: #0087ff; text-decoration-color: #0087ff\">LSTM</span>)                   │ (<span style=\"color: #00d7ff; text-decoration-color: #00d7ff\">None</span>, <span style=\"color: #00af00; text-decoration-color: #00af00\">13</span>, <span style=\"color: #00af00; text-decoration-color: #00af00\">128</span>)        │        <span style=\"color: #00af00; text-decoration-color: #00af00\">66,560</span> │\n",
       "├─────────────────────────────────┼────────────────────────┼───────────────┤\n",
       "│ lstm_3 (<span style=\"color: #0087ff; text-decoration-color: #0087ff\">LSTM</span>)                   │ (<span style=\"color: #00d7ff; text-decoration-color: #00d7ff\">None</span>, <span style=\"color: #00af00; text-decoration-color: #00af00\">64</span>)             │        <span style=\"color: #00af00; text-decoration-color: #00af00\">49,408</span> │\n",
       "├─────────────────────────────────┼────────────────────────┼───────────────┤\n",
       "│ dense_2 (<span style=\"color: #0087ff; text-decoration-color: #0087ff\">Dense</span>)                 │ (<span style=\"color: #00d7ff; text-decoration-color: #00d7ff\">None</span>, <span style=\"color: #00af00; text-decoration-color: #00af00\">25</span>)             │         <span style=\"color: #00af00; text-decoration-color: #00af00\">1,625</span> │\n",
       "├─────────────────────────────────┼────────────────────────┼───────────────┤\n",
       "│ dense_3 (<span style=\"color: #0087ff; text-decoration-color: #0087ff\">Dense</span>)                 │ (<span style=\"color: #00d7ff; text-decoration-color: #00d7ff\">None</span>, <span style=\"color: #00af00; text-decoration-color: #00af00\">1</span>)              │            <span style=\"color: #00af00; text-decoration-color: #00af00\">26</span> │\n",
       "└─────────────────────────────────┴────────────────────────┴───────────────┘\n",
       "</pre>\n"
      ],
      "text/plain": [
       "┏━━━━━━━━━━━━━━━━━━━━━━━━━━━━━━━━━┳━━━━━━━━━━━━━━━━━━━━━━━━┳━━━━━━━━━━━━━━━┓\n",
       "┃\u001b[1m \u001b[0m\u001b[1mLayer (type)                   \u001b[0m\u001b[1m \u001b[0m┃\u001b[1m \u001b[0m\u001b[1mOutput Shape          \u001b[0m\u001b[1m \u001b[0m┃\u001b[1m \u001b[0m\u001b[1m      Param #\u001b[0m\u001b[1m \u001b[0m┃\n",
       "┡━━━━━━━━━━━━━━━━━━━━━━━━━━━━━━━━━╇━━━━━━━━━━━━━━━━━━━━━━━━╇━━━━━━━━━━━━━━━┩\n",
       "│ lstm_2 (\u001b[38;5;33mLSTM\u001b[0m)                   │ (\u001b[38;5;45mNone\u001b[0m, \u001b[38;5;34m13\u001b[0m, \u001b[38;5;34m128\u001b[0m)        │        \u001b[38;5;34m66,560\u001b[0m │\n",
       "├─────────────────────────────────┼────────────────────────┼───────────────┤\n",
       "│ lstm_3 (\u001b[38;5;33mLSTM\u001b[0m)                   │ (\u001b[38;5;45mNone\u001b[0m, \u001b[38;5;34m64\u001b[0m)             │        \u001b[38;5;34m49,408\u001b[0m │\n",
       "├─────────────────────────────────┼────────────────────────┼───────────────┤\n",
       "│ dense_2 (\u001b[38;5;33mDense\u001b[0m)                 │ (\u001b[38;5;45mNone\u001b[0m, \u001b[38;5;34m25\u001b[0m)             │         \u001b[38;5;34m1,625\u001b[0m │\n",
       "├─────────────────────────────────┼────────────────────────┼───────────────┤\n",
       "│ dense_3 (\u001b[38;5;33mDense\u001b[0m)                 │ (\u001b[38;5;45mNone\u001b[0m, \u001b[38;5;34m1\u001b[0m)              │            \u001b[38;5;34m26\u001b[0m │\n",
       "└─────────────────────────────────┴────────────────────────┴───────────────┘\n"
      ]
     },
     "metadata": {},
     "output_type": "display_data"
    },
    {
     "data": {
      "text/html": [
       "<pre style=\"white-space:pre;overflow-x:auto;line-height:normal;font-family:Menlo,'DejaVu Sans Mono',consolas,'Courier New',monospace\"><span style=\"font-weight: bold\"> Total params: </span><span style=\"color: #00af00; text-decoration-color: #00af00\">117,619</span> (459.45 KB)\n",
       "</pre>\n"
      ],
      "text/plain": [
       "\u001b[1m Total params: \u001b[0m\u001b[38;5;34m117,619\u001b[0m (459.45 KB)\n"
      ]
     },
     "metadata": {},
     "output_type": "display_data"
    },
    {
     "data": {
      "text/html": [
       "<pre style=\"white-space:pre;overflow-x:auto;line-height:normal;font-family:Menlo,'DejaVu Sans Mono',consolas,'Courier New',monospace\"><span style=\"font-weight: bold\"> Trainable params: </span><span style=\"color: #00af00; text-decoration-color: #00af00\">117,619</span> (459.45 KB)\n",
       "</pre>\n"
      ],
      "text/plain": [
       "\u001b[1m Trainable params: \u001b[0m\u001b[38;5;34m117,619\u001b[0m (459.45 KB)\n"
      ]
     },
     "metadata": {},
     "output_type": "display_data"
    },
    {
     "data": {
      "text/html": [
       "<pre style=\"white-space:pre;overflow-x:auto;line-height:normal;font-family:Menlo,'DejaVu Sans Mono',consolas,'Courier New',monospace\"><span style=\"font-weight: bold\"> Non-trainable params: </span><span style=\"color: #00af00; text-decoration-color: #00af00\">0</span> (0.00 B)\n",
       "</pre>\n"
      ],
      "text/plain": [
       "\u001b[1m Non-trainable params: \u001b[0m\u001b[38;5;34m0\u001b[0m (0.00 B)\n"
      ]
     },
     "metadata": {},
     "output_type": "display_data"
    }
   ],
   "source": [
    "model.summary()"
   ]
  },
  {
   "cell_type": "code",
   "execution_count": 113,
   "metadata": {
    "execution": {
     "iopub.execute_input": "2024-09-01T09:09:02.782109Z",
     "iopub.status.busy": "2024-09-01T09:09:02.781688Z",
     "iopub.status.idle": "2024-09-01T09:09:02.791191Z",
     "shell.execute_reply": "2024-09-01T09:09:02.790250Z",
     "shell.execute_reply.started": "2024-09-01T09:09:02.782044Z"
    }
   },
   "outputs": [],
   "source": [
    "model.compile(optimizer='adam', loss='mean_squared_error')\n"
   ]
  },
  {
   "cell_type": "code",
   "execution_count": 114,
   "metadata": {
    "execution": {
     "iopub.execute_input": "2024-09-01T09:09:05.005588Z",
     "iopub.status.busy": "2024-09-01T09:09:05.004893Z",
     "iopub.status.idle": "2024-09-01T09:19:47.870420Z",
     "shell.execute_reply": "2024-09-01T09:19:47.869461Z",
     "shell.execute_reply.started": "2024-09-01T09:09:05.005541Z"
    }
   },
   "outputs": [
    {
     "name": "stdout",
     "output_type": "stream",
     "text": [
      "Epoch 1/20\n",
      "\u001b[1m5694/5694\u001b[0m \u001b[32m━━━━━━━━━━━━━━━━━━━━\u001b[0m\u001b[37m\u001b[0m \u001b[1m34s\u001b[0m 6ms/step - loss: 119838.6875 - val_loss: 55231.6211\n",
      "Epoch 2/20\n",
      "\u001b[1m5694/5694\u001b[0m \u001b[32m━━━━━━━━━━━━━━━━━━━━\u001b[0m\u001b[37m\u001b[0m \u001b[1m32s\u001b[0m 6ms/step - loss: 49627.7773 - val_loss: 37671.1172\n",
      "Epoch 3/20\n",
      "\u001b[1m5694/5694\u001b[0m \u001b[32m━━━━━━━━━━━━━━━━━━━━\u001b[0m\u001b[37m\u001b[0m \u001b[1m32s\u001b[0m 6ms/step - loss: 44801.0273 - val_loss: 36923.9375\n",
      "Epoch 4/20\n",
      "\u001b[1m5694/5694\u001b[0m \u001b[32m━━━━━━━━━━━━━━━━━━━━\u001b[0m\u001b[37m\u001b[0m \u001b[1m32s\u001b[0m 6ms/step - loss: 40932.5625 - val_loss: 34609.4805\n",
      "Epoch 5/20\n",
      "\u001b[1m5694/5694\u001b[0m \u001b[32m━━━━━━━━━━━━━━━━━━━━\u001b[0m\u001b[37m\u001b[0m \u001b[1m33s\u001b[0m 6ms/step - loss: 39301.7422 - val_loss: 36357.2695\n",
      "Epoch 6/20\n",
      "\u001b[1m5694/5694\u001b[0m \u001b[32m━━━━━━━━━━━━━━━━━━━━\u001b[0m\u001b[37m\u001b[0m \u001b[1m32s\u001b[0m 6ms/step - loss: 37386.9375 - val_loss: 33436.8906\n",
      "Epoch 7/20\n",
      "\u001b[1m5694/5694\u001b[0m \u001b[32m━━━━━━━━━━━━━━━━━━━━\u001b[0m\u001b[37m\u001b[0m \u001b[1m32s\u001b[0m 6ms/step - loss: 35934.9102 - val_loss: 35772.9102\n",
      "Epoch 8/20\n",
      "\u001b[1m5694/5694\u001b[0m \u001b[32m━━━━━━━━━━━━━━━━━━━━\u001b[0m\u001b[37m\u001b[0m \u001b[1m33s\u001b[0m 6ms/step - loss: 35432.3086 - val_loss: 32325.5996\n",
      "Epoch 9/20\n",
      "\u001b[1m5694/5694\u001b[0m \u001b[32m━━━━━━━━━━━━━━━━━━━━\u001b[0m\u001b[37m\u001b[0m \u001b[1m32s\u001b[0m 6ms/step - loss: 34518.3008 - val_loss: 32906.2500\n",
      "Epoch 10/20\n",
      "\u001b[1m5694/5694\u001b[0m \u001b[32m━━━━━━━━━━━━━━━━━━━━\u001b[0m\u001b[37m\u001b[0m \u001b[1m32s\u001b[0m 6ms/step - loss: 33569.8438 - val_loss: 34720.3750\n",
      "Epoch 11/20\n",
      "\u001b[1m5694/5694\u001b[0m \u001b[32m━━━━━━━━━━━━━━━━━━━━\u001b[0m\u001b[37m\u001b[0m \u001b[1m32s\u001b[0m 6ms/step - loss: 32600.7539 - val_loss: 31653.7695\n",
      "Epoch 12/20\n",
      "\u001b[1m5694/5694\u001b[0m \u001b[32m━━━━━━━━━━━━━━━━━━━━\u001b[0m\u001b[37m\u001b[0m \u001b[1m32s\u001b[0m 6ms/step - loss: 32669.1738 - val_loss: 32794.8203\n",
      "Epoch 13/20\n",
      "\u001b[1m5694/5694\u001b[0m \u001b[32m━━━━━━━━━━━━━━━━━━━━\u001b[0m\u001b[37m\u001b[0m \u001b[1m32s\u001b[0m 6ms/step - loss: 31878.6836 - val_loss: 36063.1680\n",
      "Epoch 14/20\n",
      "\u001b[1m5694/5694\u001b[0m \u001b[32m━━━━━━━━━━━━━━━━━━━━\u001b[0m\u001b[37m\u001b[0m \u001b[1m32s\u001b[0m 6ms/step - loss: 31649.6484 - val_loss: 32287.2012\n",
      "Epoch 15/20\n",
      "\u001b[1m5694/5694\u001b[0m \u001b[32m━━━━━━━━━━━━━━━━━━━━\u001b[0m\u001b[37m\u001b[0m \u001b[1m32s\u001b[0m 6ms/step - loss: 30560.6953 - val_loss: 33397.0312\n",
      "Epoch 16/20\n",
      "\u001b[1m5694/5694\u001b[0m \u001b[32m━━━━━━━━━━━━━━━━━━━━\u001b[0m\u001b[37m\u001b[0m \u001b[1m32s\u001b[0m 6ms/step - loss: 30293.5176 - val_loss: 33155.4336\n",
      "Epoch 17/20\n",
      "\u001b[1m5694/5694\u001b[0m \u001b[32m━━━━━━━━━━━━━━━━━━━━\u001b[0m\u001b[37m\u001b[0m \u001b[1m32s\u001b[0m 6ms/step - loss: 29823.2363 - val_loss: 31421.8730\n",
      "Epoch 18/20\n",
      "\u001b[1m5694/5694\u001b[0m \u001b[32m━━━━━━━━━━━━━━━━━━━━\u001b[0m\u001b[37m\u001b[0m \u001b[1m32s\u001b[0m 6ms/step - loss: 30203.5859 - val_loss: 32839.0430\n",
      "Epoch 19/20\n",
      "\u001b[1m5694/5694\u001b[0m \u001b[32m━━━━━━━━━━━━━━━━━━━━\u001b[0m\u001b[37m\u001b[0m \u001b[1m32s\u001b[0m 6ms/step - loss: 29099.3691 - val_loss: 33291.6523\n",
      "Epoch 20/20\n",
      "\u001b[1m5694/5694\u001b[0m \u001b[32m━━━━━━━━━━━━━━━━━━━━\u001b[0m\u001b[37m\u001b[0m \u001b[1m32s\u001b[0m 6ms/step - loss: 28971.7910 - val_loss: 32698.4863\n"
     ]
    },
    {
     "data": {
      "text/plain": [
       "<keras.src.callbacks.history.History at 0x7e46a8a232b0>"
      ]
     },
     "execution_count": 114,
     "metadata": {},
     "output_type": "execute_result"
    }
   ],
   "source": [
    "model.fit(x_train, y_train, epochs=20, batch_size=64, validation_data=(x_test, y_test))\n"
   ]
  },
  {
   "cell_type": "code",
   "execution_count": 115,
   "metadata": {
    "execution": {
     "iopub.execute_input": "2024-09-01T09:19:47.872415Z",
     "iopub.status.busy": "2024-09-01T09:19:47.872100Z",
     "iopub.status.idle": "2024-09-01T09:19:54.394093Z",
     "shell.execute_reply": "2024-09-01T09:19:54.393251Z",
     "shell.execute_reply.started": "2024-09-01T09:19:47.872383Z"
    }
   },
   "outputs": [
    {
     "name": "stdout",
     "output_type": "stream",
     "text": [
      "\u001b[1m2871/2871\u001b[0m \u001b[32m━━━━━━━━━━━━━━━━━━━━\u001b[0m\u001b[37m\u001b[0m \u001b[1m6s\u001b[0m 2ms/step - loss: 32481.8457\n"
     ]
    }
   ],
   "source": [
    "val_loss = model.evaluate(x_test, y_test)"
   ]
  },
  {
   "cell_type": "code",
   "execution_count": 116,
   "metadata": {
    "execution": {
     "iopub.execute_input": "2024-09-01T09:19:54.395801Z",
     "iopub.status.busy": "2024-09-01T09:19:54.395422Z",
     "iopub.status.idle": "2024-09-01T09:19:54.400982Z",
     "shell.execute_reply": "2024-09-01T09:19:54.400072Z",
     "shell.execute_reply.started": "2024-09-01T09:19:54.395763Z"
    }
   },
   "outputs": [
    {
     "name": "stdout",
     "output_type": "stream",
     "text": [
      "Validation Loss: 32698.453125\n"
     ]
    }
   ],
   "source": [
    "print(f'Validation Loss: {val_loss}')"
   ]
  },
  {
   "cell_type": "code",
   "execution_count": 117,
   "metadata": {
    "execution": {
     "iopub.execute_input": "2024-09-01T09:19:54.403368Z",
     "iopub.status.busy": "2024-09-01T09:19:54.403015Z",
     "iopub.status.idle": "2024-09-01T09:20:01.690818Z",
     "shell.execute_reply": "2024-09-01T09:20:01.689615Z",
     "shell.execute_reply.started": "2024-09-01T09:19:54.403325Z"
    }
   },
   "outputs": [
    {
     "name": "stdout",
     "output_type": "stream",
     "text": [
      "\u001b[1m2871/2871\u001b[0m \u001b[32m━━━━━━━━━━━━━━━━━━━━\u001b[0m\u001b[37m\u001b[0m \u001b[1m6s\u001b[0m 2ms/step\n"
     ]
    }
   ],
   "source": [
    "y_pred = model.predict(x_test)"
   ]
  },
  {
   "cell_type": "code",
   "execution_count": 120,
   "metadata": {
    "execution": {
     "iopub.execute_input": "2024-09-01T09:21:57.409284Z",
     "iopub.status.busy": "2024-09-01T09:21:57.408942Z",
     "iopub.status.idle": "2024-09-01T09:21:57.425480Z",
     "shell.execute_reply": "2024-09-01T09:21:57.424445Z",
     "shell.execute_reply.started": "2024-09-01T09:21:57.409253Z"
    }
   },
   "outputs": [
    {
     "name": "stdout",
     "output_type": "stream",
     "text": [
      "Mean Squared Error: 32698.42748939551\n",
      "Mean Absolute Error: 99.8756314073824\n",
      "r2_score: 0.7156170678492331\n",
      "mean_absolute_percentage_error:0.7196218630258431\n"
     ]
    }
   ],
   "source": [
    "mse = mean_squared_error(y_test, y_pred)\n",
    "mae = mean_absolute_error(y_test, y_pred)\n",
    "r2_score=r2_score(y_test, y_pred)\n",
    "mape=mean_absolute_percentage_error(y_test, y_pred)\n",
    "print(f'Mean Squared Error: {mse}')\n",
    "print(f'Mean Absolute Error: {mae}')\n",
    "print(f'r2_score: {r2_score}')\n",
    "print(f'mean_absolute_percentage_error:{mape}')"
   ]
  },
  {
   "cell_type": "markdown",
   "metadata": {},
   "source": [
    "### LSTM"
   ]
  },
  {
   "cell_type": "code",
   "execution_count": 168,
   "metadata": {
    "execution": {
     "iopub.execute_input": "2024-09-01T09:31:19.034942Z",
     "iopub.status.busy": "2024-09-01T09:31:19.034493Z",
     "iopub.status.idle": "2024-09-01T09:31:19.065953Z",
     "shell.execute_reply": "2024-09-01T09:31:19.065102Z",
     "shell.execute_reply.started": "2024-09-01T09:31:19.034904Z"
    }
   },
   "outputs": [],
   "source": [
    "df3=df3[df3['num_orders']<5000]"
   ]
  },
  {
   "cell_type": "code",
   "execution_count": 169,
   "metadata": {
    "execution": {
     "iopub.execute_input": "2024-09-01T09:31:19.068408Z",
     "iopub.status.busy": "2024-09-01T09:31:19.067963Z",
     "iopub.status.idle": "2024-09-01T09:31:19.075945Z",
     "shell.execute_reply": "2024-09-01T09:31:19.075103Z",
     "shell.execute_reply.started": "2024-09-01T09:31:19.068359Z"
    }
   },
   "outputs": [],
   "source": [
    "df3.set_index('week',inplace=True)"
   ]
  },
  {
   "cell_type": "code",
   "execution_count": 170,
   "metadata": {
    "execution": {
     "iopub.execute_input": "2024-09-01T09:31:19.077290Z",
     "iopub.status.busy": "2024-09-01T09:31:19.076960Z",
     "iopub.status.idle": "2024-09-01T09:31:19.096979Z",
     "shell.execute_reply": "2024-09-01T09:31:19.095987Z",
     "shell.execute_reply.started": "2024-09-01T09:31:19.077257Z"
    }
   },
   "outputs": [
    {
     "data": {
      "text/html": [
       "<div>\n",
       "<style scoped>\n",
       "    .dataframe tbody tr th:only-of-type {\n",
       "        vertical-align: middle;\n",
       "    }\n",
       "\n",
       "    .dataframe tbody tr th {\n",
       "        vertical-align: top;\n",
       "    }\n",
       "\n",
       "    .dataframe thead th {\n",
       "        text-align: right;\n",
       "    }\n",
       "</style>\n",
       "<table border=\"1\" class=\"dataframe\">\n",
       "  <thead>\n",
       "    <tr style=\"text-align: right;\">\n",
       "      <th></th>\n",
       "      <th>center_id</th>\n",
       "      <th>meal_id</th>\n",
       "      <th>checkout_price</th>\n",
       "      <th>base_price</th>\n",
       "      <th>emailer_for_promotion</th>\n",
       "      <th>homepage_featured</th>\n",
       "      <th>num_orders</th>\n",
       "      <th>city_code</th>\n",
       "      <th>region_code</th>\n",
       "      <th>center_type</th>\n",
       "      <th>op_area</th>\n",
       "      <th>category</th>\n",
       "      <th>cuisine</th>\n",
       "    </tr>\n",
       "    <tr>\n",
       "      <th>week</th>\n",
       "      <th></th>\n",
       "      <th></th>\n",
       "      <th></th>\n",
       "      <th></th>\n",
       "      <th></th>\n",
       "      <th></th>\n",
       "      <th></th>\n",
       "      <th></th>\n",
       "      <th></th>\n",
       "      <th></th>\n",
       "      <th></th>\n",
       "      <th></th>\n",
       "      <th></th>\n",
       "    </tr>\n",
       "  </thead>\n",
       "  <tbody>\n",
       "    <tr>\n",
       "      <th>1</th>\n",
       "      <td>93</td>\n",
       "      <td>1971</td>\n",
       "      <td>261</td>\n",
       "      <td>289</td>\n",
       "      <td>1</td>\n",
       "      <td>0</td>\n",
       "      <td>528</td>\n",
       "      <td>461</td>\n",
       "      <td>34</td>\n",
       "      <td>0</td>\n",
       "      <td>3.9</td>\n",
       "      <td>10</td>\n",
       "      <td>2</td>\n",
       "    </tr>\n",
       "    <tr>\n",
       "      <th>1</th>\n",
       "      <td>83</td>\n",
       "      <td>1248</td>\n",
       "      <td>152</td>\n",
       "      <td>240</td>\n",
       "      <td>0</td>\n",
       "      <td>0</td>\n",
       "      <td>107</td>\n",
       "      <td>659</td>\n",
       "      <td>77</td>\n",
       "      <td>0</td>\n",
       "      <td>5.3</td>\n",
       "      <td>0</td>\n",
       "      <td>1</td>\n",
       "    </tr>\n",
       "    <tr>\n",
       "      <th>1</th>\n",
       "      <td>67</td>\n",
       "      <td>1248</td>\n",
       "      <td>251</td>\n",
       "      <td>253</td>\n",
       "      <td>0</td>\n",
       "      <td>0</td>\n",
       "      <td>26</td>\n",
       "      <td>638</td>\n",
       "      <td>56</td>\n",
       "      <td>1</td>\n",
       "      <td>7.0</td>\n",
       "      <td>0</td>\n",
       "      <td>1</td>\n",
       "    </tr>\n",
       "    <tr>\n",
       "      <th>1</th>\n",
       "      <td>17</td>\n",
       "      <td>1902</td>\n",
       "      <td>387</td>\n",
       "      <td>446</td>\n",
       "      <td>0</td>\n",
       "      <td>0</td>\n",
       "      <td>55</td>\n",
       "      <td>517</td>\n",
       "      <td>56</td>\n",
       "      <td>0</td>\n",
       "      <td>3.2</td>\n",
       "      <td>1</td>\n",
       "      <td>1</td>\n",
       "    </tr>\n",
       "    <tr>\n",
       "      <th>1</th>\n",
       "      <td>139</td>\n",
       "      <td>2581</td>\n",
       "      <td>584</td>\n",
       "      <td>613</td>\n",
       "      <td>1</td>\n",
       "      <td>1</td>\n",
       "      <td>149</td>\n",
       "      <td>693</td>\n",
       "      <td>34</td>\n",
       "      <td>2</td>\n",
       "      <td>2.8</td>\n",
       "      <td>7</td>\n",
       "      <td>0</td>\n",
       "    </tr>\n",
       "    <tr>\n",
       "      <th>...</th>\n",
       "      <td>...</td>\n",
       "      <td>...</td>\n",
       "      <td>...</td>\n",
       "      <td>...</td>\n",
       "      <td>...</td>\n",
       "      <td>...</td>\n",
       "      <td>...</td>\n",
       "      <td>...</td>\n",
       "      <td>...</td>\n",
       "      <td>...</td>\n",
       "      <td>...</td>\n",
       "      <td>...</td>\n",
       "      <td>...</td>\n",
       "    </tr>\n",
       "    <tr>\n",
       "      <th>145</th>\n",
       "      <td>24</td>\n",
       "      <td>1885</td>\n",
       "      <td>159</td>\n",
       "      <td>159</td>\n",
       "      <td>0</td>\n",
       "      <td>0</td>\n",
       "      <td>1890</td>\n",
       "      <td>614</td>\n",
       "      <td>85</td>\n",
       "      <td>1</td>\n",
       "      <td>3.6</td>\n",
       "      <td>0</td>\n",
       "      <td>3</td>\n",
       "    </tr>\n",
       "    <tr>\n",
       "      <th>145</th>\n",
       "      <td>83</td>\n",
       "      <td>1247</td>\n",
       "      <td>447</td>\n",
       "      <td>445</td>\n",
       "      <td>0</td>\n",
       "      <td>0</td>\n",
       "      <td>28</td>\n",
       "      <td>659</td>\n",
       "      <td>77</td>\n",
       "      <td>0</td>\n",
       "      <td>5.3</td>\n",
       "      <td>1</td>\n",
       "      <td>1</td>\n",
       "    </tr>\n",
       "    <tr>\n",
       "      <th>145</th>\n",
       "      <td>68</td>\n",
       "      <td>2104</td>\n",
       "      <td>582</td>\n",
       "      <td>581</td>\n",
       "      <td>0</td>\n",
       "      <td>0</td>\n",
       "      <td>40</td>\n",
       "      <td>676</td>\n",
       "      <td>34</td>\n",
       "      <td>1</td>\n",
       "      <td>4.1</td>\n",
       "      <td>4</td>\n",
       "      <td>0</td>\n",
       "    </tr>\n",
       "    <tr>\n",
       "      <th>145</th>\n",
       "      <td>59</td>\n",
       "      <td>1558</td>\n",
       "      <td>563</td>\n",
       "      <td>563</td>\n",
       "      <td>0</td>\n",
       "      <td>0</td>\n",
       "      <td>67</td>\n",
       "      <td>456</td>\n",
       "      <td>56</td>\n",
       "      <td>0</td>\n",
       "      <td>4.2</td>\n",
       "      <td>7</td>\n",
       "      <td>0</td>\n",
       "    </tr>\n",
       "    <tr>\n",
       "      <th>145</th>\n",
       "      <td>76</td>\n",
       "      <td>1558</td>\n",
       "      <td>563</td>\n",
       "      <td>562</td>\n",
       "      <td>0</td>\n",
       "      <td>0</td>\n",
       "      <td>95</td>\n",
       "      <td>614</td>\n",
       "      <td>85</td>\n",
       "      <td>0</td>\n",
       "      <td>3.0</td>\n",
       "      <td>7</td>\n",
       "      <td>0</td>\n",
       "    </tr>\n",
       "  </tbody>\n",
       "</table>\n",
       "<p>456285 rows × 13 columns</p>\n",
       "</div>"
      ],
      "text/plain": [
       "      center_id  meal_id  checkout_price  base_price  emailer_for_promotion  \\\n",
       "week                                                                          \n",
       "1            93     1971             261         289                      1   \n",
       "1            83     1248             152         240                      0   \n",
       "1            67     1248             251         253                      0   \n",
       "1            17     1902             387         446                      0   \n",
       "1           139     2581             584         613                      1   \n",
       "...         ...      ...             ...         ...                    ...   \n",
       "145          24     1885             159         159                      0   \n",
       "145          83     1247             447         445                      0   \n",
       "145          68     2104             582         581                      0   \n",
       "145          59     1558             563         563                      0   \n",
       "145          76     1558             563         562                      0   \n",
       "\n",
       "      homepage_featured  num_orders  city_code  region_code  center_type  \\\n",
       "week                                                                       \n",
       "1                     0         528        461           34            0   \n",
       "1                     0         107        659           77            0   \n",
       "1                     0          26        638           56            1   \n",
       "1                     0          55        517           56            0   \n",
       "1                     1         149        693           34            2   \n",
       "...                 ...         ...        ...          ...          ...   \n",
       "145                   0        1890        614           85            1   \n",
       "145                   0          28        659           77            0   \n",
       "145                   0          40        676           34            1   \n",
       "145                   0          67        456           56            0   \n",
       "145                   0          95        614           85            0   \n",
       "\n",
       "      op_area  category  cuisine  \n",
       "week                              \n",
       "1         3.9        10        2  \n",
       "1         5.3         0        1  \n",
       "1         7.0         0        1  \n",
       "1         3.2         1        1  \n",
       "1         2.8         7        0  \n",
       "...       ...       ...      ...  \n",
       "145       3.6         0        3  \n",
       "145       5.3         1        1  \n",
       "145       4.1         4        0  \n",
       "145       4.2         7        0  \n",
       "145       3.0         7        0  \n",
       "\n",
       "[456285 rows x 13 columns]"
      ]
     },
     "execution_count": 170,
     "metadata": {},
     "output_type": "execute_result"
    }
   ],
   "source": [
    "df3"
   ]
  },
  {
   "cell_type": "code",
   "execution_count": 192,
   "metadata": {
    "execution": {
     "iopub.execute_input": "2024-09-01T09:38:04.050305Z",
     "iopub.status.busy": "2024-09-01T09:38:04.049853Z",
     "iopub.status.idle": "2024-09-01T09:38:04.055813Z",
     "shell.execute_reply": "2024-09-01T09:38:04.054738Z",
     "shell.execute_reply.started": "2024-09-01T09:38:04.050266Z"
    }
   },
   "outputs": [],
   "source": [
    "train_df3=df3.loc[:118]\n",
    "test_df3=df3.loc[119:]"
   ]
  },
  {
   "cell_type": "code",
   "execution_count": 193,
   "metadata": {
    "execution": {
     "iopub.execute_input": "2024-09-01T09:38:06.495120Z",
     "iopub.status.busy": "2024-09-01T09:38:06.494664Z",
     "iopub.status.idle": "2024-09-01T09:38:06.516569Z",
     "shell.execute_reply": "2024-09-01T09:38:06.515434Z",
     "shell.execute_reply.started": "2024-09-01T09:38:06.495035Z"
    }
   },
   "outputs": [],
   "source": [
    "x_train,y_train=train_df3.drop('num_orders',axis=1),train_df3['num_orders']\n",
    "x_test,y_test=test_df3.drop('num_orders',axis=1),test_df3['num_orders']"
   ]
  },
  {
   "cell_type": "code",
   "execution_count": 155,
   "metadata": {
    "execution": {
     "iopub.execute_input": "2024-09-01T09:28:22.444609Z",
     "iopub.status.busy": "2024-09-01T09:28:22.443774Z",
     "iopub.status.idle": "2024-09-01T09:28:22.517092Z",
     "shell.execute_reply": "2024-09-01T09:28:22.516069Z",
     "shell.execute_reply.started": "2024-09-01T09:28:22.444570Z"
    }
   },
   "outputs": [
    {
     "name": "stderr",
     "output_type": "stream",
     "text": [
      "/opt/conda/lib/python3.10/site-packages/keras/src/layers/rnn/rnn.py:204: UserWarning: Do not pass an `input_shape`/`input_dim` argument to a layer. When using Sequential models, prefer using an `Input(shape)` object as the first layer in the model instead.\n",
      "  super().__init__(**kwargs)\n"
     ]
    }
   ],
   "source": [
    "model=Sequential()\n",
    "model.add(LSTM(128,return_sequences=True,input_shape=(x_train.shape[1],1)))\n",
    "model.add(LSTM(64,return_sequences=False))\n",
    "model.add(Dense(25))\n",
    "model.add(Dense(1))"
   ]
  },
  {
   "cell_type": "code",
   "execution_count": 156,
   "metadata": {
    "execution": {
     "iopub.execute_input": "2024-09-01T09:28:32.299316Z",
     "iopub.status.busy": "2024-09-01T09:28:32.298760Z",
     "iopub.status.idle": "2024-09-01T09:28:32.319657Z",
     "shell.execute_reply": "2024-09-01T09:28:32.318762Z",
     "shell.execute_reply.started": "2024-09-01T09:28:32.299265Z"
    }
   },
   "outputs": [
    {
     "data": {
      "text/html": [
       "<pre style=\"white-space:pre;overflow-x:auto;line-height:normal;font-family:Menlo,'DejaVu Sans Mono',consolas,'Courier New',monospace\"><span style=\"font-weight: bold\">Model: \"sequential_2\"</span>\n",
       "</pre>\n"
      ],
      "text/plain": [
       "\u001b[1mModel: \"sequential_2\"\u001b[0m\n"
      ]
     },
     "metadata": {},
     "output_type": "display_data"
    },
    {
     "data": {
      "text/html": [
       "<pre style=\"white-space:pre;overflow-x:auto;line-height:normal;font-family:Menlo,'DejaVu Sans Mono',consolas,'Courier New',monospace\">┏━━━━━━━━━━━━━━━━━━━━━━━━━━━━━━━━━┳━━━━━━━━━━━━━━━━━━━━━━━━┳━━━━━━━━━━━━━━━┓\n",
       "┃<span style=\"font-weight: bold\"> Layer (type)                    </span>┃<span style=\"font-weight: bold\"> Output Shape           </span>┃<span style=\"font-weight: bold\">       Param # </span>┃\n",
       "┡━━━━━━━━━━━━━━━━━━━━━━━━━━━━━━━━━╇━━━━━━━━━━━━━━━━━━━━━━━━╇━━━━━━━━━━━━━━━┩\n",
       "│ lstm_4 (<span style=\"color: #0087ff; text-decoration-color: #0087ff\">LSTM</span>)                   │ (<span style=\"color: #00d7ff; text-decoration-color: #00d7ff\">None</span>, <span style=\"color: #00af00; text-decoration-color: #00af00\">13</span>, <span style=\"color: #00af00; text-decoration-color: #00af00\">128</span>)        │        <span style=\"color: #00af00; text-decoration-color: #00af00\">66,560</span> │\n",
       "├─────────────────────────────────┼────────────────────────┼───────────────┤\n",
       "│ lstm_5 (<span style=\"color: #0087ff; text-decoration-color: #0087ff\">LSTM</span>)                   │ (<span style=\"color: #00d7ff; text-decoration-color: #00d7ff\">None</span>, <span style=\"color: #00af00; text-decoration-color: #00af00\">64</span>)             │        <span style=\"color: #00af00; text-decoration-color: #00af00\">49,408</span> │\n",
       "├─────────────────────────────────┼────────────────────────┼───────────────┤\n",
       "│ dense_4 (<span style=\"color: #0087ff; text-decoration-color: #0087ff\">Dense</span>)                 │ (<span style=\"color: #00d7ff; text-decoration-color: #00d7ff\">None</span>, <span style=\"color: #00af00; text-decoration-color: #00af00\">25</span>)             │         <span style=\"color: #00af00; text-decoration-color: #00af00\">1,625</span> │\n",
       "├─────────────────────────────────┼────────────────────────┼───────────────┤\n",
       "│ dense_5 (<span style=\"color: #0087ff; text-decoration-color: #0087ff\">Dense</span>)                 │ (<span style=\"color: #00d7ff; text-decoration-color: #00d7ff\">None</span>, <span style=\"color: #00af00; text-decoration-color: #00af00\">1</span>)              │            <span style=\"color: #00af00; text-decoration-color: #00af00\">26</span> │\n",
       "└─────────────────────────────────┴────────────────────────┴───────────────┘\n",
       "</pre>\n"
      ],
      "text/plain": [
       "┏━━━━━━━━━━━━━━━━━━━━━━━━━━━━━━━━━┳━━━━━━━━━━━━━━━━━━━━━━━━┳━━━━━━━━━━━━━━━┓\n",
       "┃\u001b[1m \u001b[0m\u001b[1mLayer (type)                   \u001b[0m\u001b[1m \u001b[0m┃\u001b[1m \u001b[0m\u001b[1mOutput Shape          \u001b[0m\u001b[1m \u001b[0m┃\u001b[1m \u001b[0m\u001b[1m      Param #\u001b[0m\u001b[1m \u001b[0m┃\n",
       "┡━━━━━━━━━━━━━━━━━━━━━━━━━━━━━━━━━╇━━━━━━━━━━━━━━━━━━━━━━━━╇━━━━━━━━━━━━━━━┩\n",
       "│ lstm_4 (\u001b[38;5;33mLSTM\u001b[0m)                   │ (\u001b[38;5;45mNone\u001b[0m, \u001b[38;5;34m13\u001b[0m, \u001b[38;5;34m128\u001b[0m)        │        \u001b[38;5;34m66,560\u001b[0m │\n",
       "├─────────────────────────────────┼────────────────────────┼───────────────┤\n",
       "│ lstm_5 (\u001b[38;5;33mLSTM\u001b[0m)                   │ (\u001b[38;5;45mNone\u001b[0m, \u001b[38;5;34m64\u001b[0m)             │        \u001b[38;5;34m49,408\u001b[0m │\n",
       "├─────────────────────────────────┼────────────────────────┼───────────────┤\n",
       "│ dense_4 (\u001b[38;5;33mDense\u001b[0m)                 │ (\u001b[38;5;45mNone\u001b[0m, \u001b[38;5;34m25\u001b[0m)             │         \u001b[38;5;34m1,625\u001b[0m │\n",
       "├─────────────────────────────────┼────────────────────────┼───────────────┤\n",
       "│ dense_5 (\u001b[38;5;33mDense\u001b[0m)                 │ (\u001b[38;5;45mNone\u001b[0m, \u001b[38;5;34m1\u001b[0m)              │            \u001b[38;5;34m26\u001b[0m │\n",
       "└─────────────────────────────────┴────────────────────────┴───────────────┘\n"
      ]
     },
     "metadata": {},
     "output_type": "display_data"
    },
    {
     "data": {
      "text/html": [
       "<pre style=\"white-space:pre;overflow-x:auto;line-height:normal;font-family:Menlo,'DejaVu Sans Mono',consolas,'Courier New',monospace\"><span style=\"font-weight: bold\"> Total params: </span><span style=\"color: #00af00; text-decoration-color: #00af00\">117,619</span> (459.45 KB)\n",
       "</pre>\n"
      ],
      "text/plain": [
       "\u001b[1m Total params: \u001b[0m\u001b[38;5;34m117,619\u001b[0m (459.45 KB)\n"
      ]
     },
     "metadata": {},
     "output_type": "display_data"
    },
    {
     "data": {
      "text/html": [
       "<pre style=\"white-space:pre;overflow-x:auto;line-height:normal;font-family:Menlo,'DejaVu Sans Mono',consolas,'Courier New',monospace\"><span style=\"font-weight: bold\"> Trainable params: </span><span style=\"color: #00af00; text-decoration-color: #00af00\">117,619</span> (459.45 KB)\n",
       "</pre>\n"
      ],
      "text/plain": [
       "\u001b[1m Trainable params: \u001b[0m\u001b[38;5;34m117,619\u001b[0m (459.45 KB)\n"
      ]
     },
     "metadata": {},
     "output_type": "display_data"
    },
    {
     "data": {
      "text/html": [
       "<pre style=\"white-space:pre;overflow-x:auto;line-height:normal;font-family:Menlo,'DejaVu Sans Mono',consolas,'Courier New',monospace\"><span style=\"font-weight: bold\"> Non-trainable params: </span><span style=\"color: #00af00; text-decoration-color: #00af00\">0</span> (0.00 B)\n",
       "</pre>\n"
      ],
      "text/plain": [
       "\u001b[1m Non-trainable params: \u001b[0m\u001b[38;5;34m0\u001b[0m (0.00 B)\n"
      ]
     },
     "metadata": {},
     "output_type": "display_data"
    }
   ],
   "source": [
    "model.summary()"
   ]
  },
  {
   "cell_type": "code",
   "execution_count": 197,
   "metadata": {
    "execution": {
     "iopub.execute_input": "2024-09-01T09:38:52.672270Z",
     "iopub.status.busy": "2024-09-01T09:38:52.671459Z",
     "iopub.status.idle": "2024-09-01T09:38:52.682394Z",
     "shell.execute_reply": "2024-09-01T09:38:52.681379Z",
     "shell.execute_reply.started": "2024-09-01T09:38:52.672230Z"
    }
   },
   "outputs": [],
   "source": [
    "model.compile(optimizer='adam', loss='mean_squared_error')\n"
   ]
  },
  {
   "cell_type": "code",
   "execution_count": 198,
   "metadata": {
    "execution": {
     "iopub.execute_input": "2024-09-01T09:38:52.684604Z",
     "iopub.status.busy": "2024-09-01T09:38:52.684080Z",
     "iopub.status.idle": "2024-09-01T09:49:52.321487Z",
     "shell.execute_reply": "2024-09-01T09:49:52.320477Z",
     "shell.execute_reply.started": "2024-09-01T09:38:52.684560Z"
    }
   },
   "outputs": [
    {
     "name": "stdout",
     "output_type": "stream",
     "text": [
      "Epoch 1/20\n",
      "\u001b[1m5746/5746\u001b[0m \u001b[32m━━━━━━━━━━━━━━━━━━━━\u001b[0m\u001b[37m\u001b[0m \u001b[1m37s\u001b[0m 6ms/step - loss: 117510.1172 - val_loss: 46267.8789\n",
      "Epoch 2/20\n",
      "\u001b[1m5746/5746\u001b[0m \u001b[32m━━━━━━━━━━━━━━━━━━━━\u001b[0m\u001b[37m\u001b[0m \u001b[1m33s\u001b[0m 6ms/step - loss: 49031.9922 - val_loss: 45075.5703\n",
      "Epoch 3/20\n",
      "\u001b[1m5746/5746\u001b[0m \u001b[32m━━━━━━━━━━━━━━━━━━━━\u001b[0m\u001b[37m\u001b[0m \u001b[1m34s\u001b[0m 6ms/step - loss: 43934.7969 - val_loss: 36815.9219\n",
      "Epoch 4/20\n",
      "\u001b[1m5746/5746\u001b[0m \u001b[32m━━━━━━━━━━━━━━━━━━━━\u001b[0m\u001b[37m\u001b[0m \u001b[1m33s\u001b[0m 6ms/step - loss: 41109.8320 - val_loss: 34098.0781\n",
      "Epoch 5/20\n",
      "\u001b[1m5746/5746\u001b[0m \u001b[32m━━━━━━━━━━━━━━━━━━━━\u001b[0m\u001b[37m\u001b[0m \u001b[1m33s\u001b[0m 6ms/step - loss: 38850.2617 - val_loss: 38509.7031\n",
      "Epoch 6/20\n",
      "\u001b[1m5746/5746\u001b[0m \u001b[32m━━━━━━━━━━━━━━━━━━━━\u001b[0m\u001b[37m\u001b[0m \u001b[1m33s\u001b[0m 6ms/step - loss: 36947.2383 - val_loss: 33705.0391\n",
      "Epoch 7/20\n",
      "\u001b[1m5746/5746\u001b[0m \u001b[32m━━━━━━━━━━━━━━━━━━━━\u001b[0m\u001b[37m\u001b[0m \u001b[1m33s\u001b[0m 6ms/step - loss: 35988.2539 - val_loss: 37395.7266\n",
      "Epoch 8/20\n",
      "\u001b[1m5746/5746\u001b[0m \u001b[32m━━━━━━━━━━━━━━━━━━━━\u001b[0m\u001b[37m\u001b[0m \u001b[1m33s\u001b[0m 6ms/step - loss: 35239.9492 - val_loss: 31519.3574\n",
      "Epoch 9/20\n",
      "\u001b[1m5746/5746\u001b[0m \u001b[32m━━━━━━━━━━━━━━━━━━━━\u001b[0m\u001b[37m\u001b[0m \u001b[1m32s\u001b[0m 6ms/step - loss: 34229.3320 - val_loss: 32443.4355\n",
      "Epoch 10/20\n",
      "\u001b[1m5746/5746\u001b[0m \u001b[32m━━━━━━━━━━━━━━━━━━━━\u001b[0m\u001b[37m\u001b[0m \u001b[1m33s\u001b[0m 6ms/step - loss: 33668.5664 - val_loss: 32035.3516\n",
      "Epoch 11/20\n",
      "\u001b[1m5746/5746\u001b[0m \u001b[32m━━━━━━━━━━━━━━━━━━━━\u001b[0m\u001b[37m\u001b[0m \u001b[1m32s\u001b[0m 6ms/step - loss: 33057.3672 - val_loss: 34657.6562\n",
      "Epoch 12/20\n",
      "\u001b[1m5746/5746\u001b[0m \u001b[32m━━━━━━━━━━━━━━━━━━━━\u001b[0m\u001b[37m\u001b[0m \u001b[1m33s\u001b[0m 6ms/step - loss: 33417.4453 - val_loss: 33147.7070\n",
      "Epoch 13/20\n",
      "\u001b[1m5746/5746\u001b[0m \u001b[32m━━━━━━━━━━━━━━━━━━━━\u001b[0m\u001b[37m\u001b[0m \u001b[1m33s\u001b[0m 6ms/step - loss: 31990.9727 - val_loss: 33737.0117\n",
      "Epoch 14/20\n",
      "\u001b[1m5746/5746\u001b[0m \u001b[32m━━━━━━━━━━━━━━━━━━━━\u001b[0m\u001b[37m\u001b[0m \u001b[1m33s\u001b[0m 6ms/step - loss: 32134.3320 - val_loss: 31475.8398\n",
      "Epoch 15/20\n",
      "\u001b[1m5746/5746\u001b[0m \u001b[32m━━━━━━━━━━━━━━━━━━━━\u001b[0m\u001b[37m\u001b[0m \u001b[1m34s\u001b[0m 6ms/step - loss: 32864.3320 - val_loss: 32789.3164\n",
      "Epoch 16/20\n",
      "\u001b[1m5746/5746\u001b[0m \u001b[32m━━━━━━━━━━━━━━━━━━━━\u001b[0m\u001b[37m\u001b[0m \u001b[1m32s\u001b[0m 6ms/step - loss: 31809.3594 - val_loss: 30287.8750\n",
      "Epoch 17/20\n",
      "\u001b[1m5746/5746\u001b[0m \u001b[32m━━━━━━━━━━━━━━━━━━━━\u001b[0m\u001b[37m\u001b[0m \u001b[1m32s\u001b[0m 6ms/step - loss: 31889.5254 - val_loss: 30926.7930\n",
      "Epoch 18/20\n",
      "\u001b[1m5746/5746\u001b[0m \u001b[32m━━━━━━━━━━━━━━━━━━━━\u001b[0m\u001b[37m\u001b[0m \u001b[1m32s\u001b[0m 6ms/step - loss: 30939.6855 - val_loss: 30963.1348\n",
      "Epoch 19/20\n",
      "\u001b[1m5746/5746\u001b[0m \u001b[32m━━━━━━━━━━━━━━━━━━━━\u001b[0m\u001b[37m\u001b[0m \u001b[1m32s\u001b[0m 6ms/step - loss: 30813.8379 - val_loss: 31378.7578\n",
      "Epoch 20/20\n",
      "\u001b[1m5746/5746\u001b[0m \u001b[32m━━━━━━━━━━━━━━━━━━━━\u001b[0m\u001b[37m\u001b[0m \u001b[1m32s\u001b[0m 6ms/step - loss: 30433.6934 - val_loss: 33047.1680\n"
     ]
    },
    {
     "data": {
      "text/plain": [
       "<keras.src.callbacks.history.History at 0x7e46b5912530>"
      ]
     },
     "execution_count": 198,
     "metadata": {},
     "output_type": "execute_result"
    }
   ],
   "source": [
    "model.fit(x_train, y_train, epochs=20, batch_size=64, validation_data=(x_test, y_test))\n"
   ]
  },
  {
   "cell_type": "code",
   "execution_count": 199,
   "metadata": {
    "execution": {
     "iopub.execute_input": "2024-09-01T09:49:52.324039Z",
     "iopub.status.busy": "2024-09-01T09:49:52.323350Z",
     "iopub.status.idle": "2024-09-01T09:49:58.258714Z",
     "shell.execute_reply": "2024-09-01T09:49:58.257881Z",
     "shell.execute_reply.started": "2024-09-01T09:49:52.323973Z"
    }
   },
   "outputs": [
    {
     "name": "stdout",
     "output_type": "stream",
     "text": [
      "\u001b[1m2769/2769\u001b[0m \u001b[32m━━━━━━━━━━━━━━━━━━━━\u001b[0m\u001b[37m\u001b[0m \u001b[1m6s\u001b[0m 2ms/step - loss: 34093.0820\n"
     ]
    }
   ],
   "source": [
    "val_loss = model.evaluate(x_test, y_test)"
   ]
  },
  {
   "cell_type": "code",
   "execution_count": 200,
   "metadata": {
    "execution": {
     "iopub.execute_input": "2024-09-01T09:49:58.262414Z",
     "iopub.status.busy": "2024-09-01T09:49:58.262035Z",
     "iopub.status.idle": "2024-09-01T09:50:05.201320Z",
     "shell.execute_reply": "2024-09-01T09:50:05.200208Z",
     "shell.execute_reply.started": "2024-09-01T09:49:58.262380Z"
    }
   },
   "outputs": [
    {
     "name": "stdout",
     "output_type": "stream",
     "text": [
      "\u001b[1m2769/2769\u001b[0m \u001b[32m━━━━━━━━━━━━━━━━━━━━\u001b[0m\u001b[37m\u001b[0m \u001b[1m5s\u001b[0m 2ms/step\n"
     ]
    }
   ],
   "source": [
    "y_pred = model.predict(x_test)"
   ]
  },
  {
   "cell_type": "code",
   "execution_count": 201,
   "metadata": {
    "execution": {
     "iopub.execute_input": "2024-09-01T09:50:05.204088Z",
     "iopub.status.busy": "2024-09-01T09:50:05.203725Z",
     "iopub.status.idle": "2024-09-01T09:50:05.216015Z",
     "shell.execute_reply": "2024-09-01T09:50:05.215111Z",
     "shell.execute_reply.started": "2024-09-01T09:50:05.204037Z"
    }
   },
   "outputs": [
    {
     "name": "stdout",
     "output_type": "stream",
     "text": [
      "Mean Squared Error: 33047.16241771754\n",
      "Mean Absolute Error: 100.99940542940182\n",
      "r2_score: 0.7135068537823372\n",
      "mean_absolute_percentage_error:0.7883630251819549\n"
     ]
    }
   ],
   "source": [
    "mse = mean_squared_error(y_test, y_pred)\n",
    "mae = mean_absolute_error(y_test, y_pred)\n",
    "r2_score=r2_score(y_test, y_pred)\n",
    "mape=mean_absolute_percentage_error(y_test, y_pred)\n",
    "print(f'Mean Squared Error: {mse}')\n",
    "print(f'Mean Absolute Error: {mae}')\n",
    "print(f'r2_score: {r2_score}')\n",
    "print(f'mean_absolute_percentage_error:{mape}')"
   ]
  },
  {
   "cell_type": "code",
   "execution_count": 202,
   "metadata": {
    "execution": {
     "iopub.execute_input": "2024-09-01T10:01:02.366147Z",
     "iopub.status.busy": "2024-09-01T10:01:02.365215Z",
     "iopub.status.idle": "2024-09-01T10:01:02.373744Z",
     "shell.execute_reply": "2024-09-01T10:01:02.372635Z",
     "shell.execute_reply.started": "2024-09-01T10:01:02.366099Z"
    }
   },
   "outputs": [
    {
     "data": {
      "text/plain": [
       "array([[ 32.117477],\n",
       "       [ 59.646152],\n",
       "       [374.16714 ],\n",
       "       ...,\n",
       "       [ 72.05572 ],\n",
       "       [144.35515 ],\n",
       "       [137.81183 ]], dtype=float32)"
      ]
     },
     "execution_count": 202,
     "metadata": {},
     "output_type": "execute_result"
    }
   ],
   "source": [
    "y_pred"
   ]
  },
  {
   "cell_type": "code",
   "execution_count": 203,
   "metadata": {
    "execution": {
     "iopub.execute_input": "2024-09-01T10:01:15.061968Z",
     "iopub.status.busy": "2024-09-01T10:01:15.060547Z",
     "iopub.status.idle": "2024-09-01T10:01:15.069856Z",
     "shell.execute_reply": "2024-09-01T10:01:15.068897Z",
     "shell.execute_reply.started": "2024-09-01T10:01:15.061913Z"
    }
   },
   "outputs": [
    {
     "data": {
      "text/plain": [
       "week\n",
       "119      14\n",
       "119     162\n",
       "119     567\n",
       "119     149\n",
       "119     311\n",
       "       ... \n",
       "145    1890\n",
       "145      28\n",
       "145      40\n",
       "145      67\n",
       "145      95\n",
       "Name: num_orders, Length: 88593, dtype: int64"
      ]
     },
     "execution_count": 203,
     "metadata": {},
     "output_type": "execute_result"
    }
   ],
   "source": [
    "y_test"
   ]
  },
  {
   "cell_type": "markdown",
   "metadata": {},
   "source": [
    "## LSTM"
   ]
  },
  {
   "cell_type": "code",
   "execution_count": 249,
   "metadata": {
    "execution": {
     "iopub.execute_input": "2024-09-01T11:08:03.141898Z",
     "iopub.status.busy": "2024-09-01T11:08:03.141504Z",
     "iopub.status.idle": "2024-09-01T11:08:03.173200Z",
     "shell.execute_reply": "2024-09-01T11:08:03.172229Z",
     "shell.execute_reply.started": "2024-09-01T11:08:03.141861Z"
    }
   },
   "outputs": [],
   "source": [
    "df3=df3[df3['num_orders']<5000]"
   ]
  },
  {
   "cell_type": "code",
   "execution_count": 250,
   "metadata": {
    "execution": {
     "iopub.execute_input": "2024-09-01T11:08:03.442207Z",
     "iopub.status.busy": "2024-09-01T11:08:03.441413Z",
     "iopub.status.idle": "2024-09-01T11:08:03.634634Z",
     "shell.execute_reply": "2024-09-01T11:08:03.633495Z",
     "shell.execute_reply.started": "2024-09-01T11:08:03.442143Z"
    }
   },
   "outputs": [],
   "source": [
    "one_hot_encoding_columns = [\"center_id\", \"city_code\", \"center_type\", \"meal_id\",\"category\",\"cuisine\"]\n",
    "df3 = pd.get_dummies(data = df3, columns = one_hot_encoding_columns)"
   ]
  },
  {
   "cell_type": "code",
   "execution_count": 251,
   "metadata": {
    "execution": {
     "iopub.execute_input": "2024-09-01T11:08:04.138398Z",
     "iopub.status.busy": "2024-09-01T11:08:04.137523Z",
     "iopub.status.idle": "2024-09-01T11:08:04.152356Z",
     "shell.execute_reply": "2024-09-01T11:08:04.151545Z",
     "shell.execute_reply.started": "2024-09-01T11:08:04.138358Z"
    }
   },
   "outputs": [],
   "source": [
    "train_df3=df3.loc[:118]\n",
    "test_df3=df3.loc[119:]"
   ]
  },
  {
   "cell_type": "code",
   "execution_count": 253,
   "metadata": {
    "execution": {
     "iopub.execute_input": "2024-09-01T11:08:20.519021Z",
     "iopub.status.busy": "2024-09-01T11:08:20.518245Z",
     "iopub.status.idle": "2024-09-01T11:08:20.600535Z",
     "shell.execute_reply": "2024-09-01T11:08:20.599711Z",
     "shell.execute_reply.started": "2024-09-01T11:08:20.518979Z"
    }
   },
   "outputs": [],
   "source": [
    "x_train,y_train=train_df3.drop('num_orders',axis=1),train_df3['num_orders']\n",
    "x_test,y_test=test_df3.drop('num_orders',axis=1),test_df3['num_orders']"
   ]
  },
  {
   "cell_type": "code",
   "execution_count": null,
   "metadata": {
    "execution": {
     "iopub.execute_input": "2024-09-01T11:46:36.424205Z",
     "iopub.status.busy": "2024-09-01T11:46:36.423812Z"
    }
   },
   "outputs": [
    {
     "name": "stderr",
     "output_type": "stream",
     "text": [
      "/opt/conda/lib/python3.10/site-packages/keras/src/layers/rnn/rnn.py:204: UserWarning: Do not pass an `input_shape`/`input_dim` argument to a layer. When using Sequential models, prefer using an `Input(shape)` object as the first layer in the model instead.\n",
      "  super().__init__(**kwargs)\n"
     ]
    }
   ],
   "source": [
    "model=Sequential()\n",
    "model.add(LSTM(128,return_sequences=True,input_shape=(x_train.shape[1],1)))\n",
    "model.add(LSTM(64,return_sequences=False))\n",
    "model.add(Dense(25))\n",
    "model.add(Dense(1))"
   ]
  },
  {
   "cell_type": "code",
   "execution_count": 255,
   "metadata": {
    "execution": {
     "iopub.execute_input": "2024-09-01T11:08:24.446924Z",
     "iopub.status.busy": "2024-09-01T11:08:24.446026Z",
     "iopub.status.idle": "2024-09-01T11:08:24.464862Z",
     "shell.execute_reply": "2024-09-01T11:08:24.463946Z",
     "shell.execute_reply.started": "2024-09-01T11:08:24.446887Z"
    }
   },
   "outputs": [
    {
     "data": {
      "text/html": [
       "<pre style=\"white-space:pre;overflow-x:auto;line-height:normal;font-family:Menlo,'DejaVu Sans Mono',consolas,'Courier New',monospace\"><span style=\"font-weight: bold\">Model: \"sequential_4\"</span>\n",
       "</pre>\n"
      ],
      "text/plain": [
       "\u001b[1mModel: \"sequential_4\"\u001b[0m\n"
      ]
     },
     "metadata": {},
     "output_type": "display_data"
    },
    {
     "data": {
      "text/html": [
       "<pre style=\"white-space:pre;overflow-x:auto;line-height:normal;font-family:Menlo,'DejaVu Sans Mono',consolas,'Courier New',monospace\">┏━━━━━━━━━━━━━━━━━━━━━━━━━━━━━━━━━┳━━━━━━━━━━━━━━━━━━━━━━━━┳━━━━━━━━━━━━━━━┓\n",
       "┃<span style=\"font-weight: bold\"> Layer (type)                    </span>┃<span style=\"font-weight: bold\"> Output Shape           </span>┃<span style=\"font-weight: bold\">       Param # </span>┃\n",
       "┡━━━━━━━━━━━━━━━━━━━━━━━━━━━━━━━━━╇━━━━━━━━━━━━━━━━━━━━━━━━╇━━━━━━━━━━━━━━━┩\n",
       "│ lstm_8 (<span style=\"color: #0087ff; text-decoration-color: #0087ff\">LSTM</span>)                   │ (<span style=\"color: #00d7ff; text-decoration-color: #00d7ff\">None</span>, <span style=\"color: #00af00; text-decoration-color: #00af00\">207</span>, <span style=\"color: #00af00; text-decoration-color: #00af00\">128</span>)       │        <span style=\"color: #00af00; text-decoration-color: #00af00\">66,560</span> │\n",
       "├─────────────────────────────────┼────────────────────────┼───────────────┤\n",
       "│ lstm_9 (<span style=\"color: #0087ff; text-decoration-color: #0087ff\">LSTM</span>)                   │ (<span style=\"color: #00d7ff; text-decoration-color: #00d7ff\">None</span>, <span style=\"color: #00af00; text-decoration-color: #00af00\">64</span>)             │        <span style=\"color: #00af00; text-decoration-color: #00af00\">49,408</span> │\n",
       "├─────────────────────────────────┼────────────────────────┼───────────────┤\n",
       "│ dense_8 (<span style=\"color: #0087ff; text-decoration-color: #0087ff\">Dense</span>)                 │ (<span style=\"color: #00d7ff; text-decoration-color: #00d7ff\">None</span>, <span style=\"color: #00af00; text-decoration-color: #00af00\">25</span>)             │         <span style=\"color: #00af00; text-decoration-color: #00af00\">1,625</span> │\n",
       "├─────────────────────────────────┼────────────────────────┼───────────────┤\n",
       "│ dense_9 (<span style=\"color: #0087ff; text-decoration-color: #0087ff\">Dense</span>)                 │ (<span style=\"color: #00d7ff; text-decoration-color: #00d7ff\">None</span>, <span style=\"color: #00af00; text-decoration-color: #00af00\">1</span>)              │            <span style=\"color: #00af00; text-decoration-color: #00af00\">26</span> │\n",
       "└─────────────────────────────────┴────────────────────────┴───────────────┘\n",
       "</pre>\n"
      ],
      "text/plain": [
       "┏━━━━━━━━━━━━━━━━━━━━━━━━━━━━━━━━━┳━━━━━━━━━━━━━━━━━━━━━━━━┳━━━━━━━━━━━━━━━┓\n",
       "┃\u001b[1m \u001b[0m\u001b[1mLayer (type)                   \u001b[0m\u001b[1m \u001b[0m┃\u001b[1m \u001b[0m\u001b[1mOutput Shape          \u001b[0m\u001b[1m \u001b[0m┃\u001b[1m \u001b[0m\u001b[1m      Param #\u001b[0m\u001b[1m \u001b[0m┃\n",
       "┡━━━━━━━━━━━━━━━━━━━━━━━━━━━━━━━━━╇━━━━━━━━━━━━━━━━━━━━━━━━╇━━━━━━━━━━━━━━━┩\n",
       "│ lstm_8 (\u001b[38;5;33mLSTM\u001b[0m)                   │ (\u001b[38;5;45mNone\u001b[0m, \u001b[38;5;34m207\u001b[0m, \u001b[38;5;34m128\u001b[0m)       │        \u001b[38;5;34m66,560\u001b[0m │\n",
       "├─────────────────────────────────┼────────────────────────┼───────────────┤\n",
       "│ lstm_9 (\u001b[38;5;33mLSTM\u001b[0m)                   │ (\u001b[38;5;45mNone\u001b[0m, \u001b[38;5;34m64\u001b[0m)             │        \u001b[38;5;34m49,408\u001b[0m │\n",
       "├─────────────────────────────────┼────────────────────────┼───────────────┤\n",
       "│ dense_8 (\u001b[38;5;33mDense\u001b[0m)                 │ (\u001b[38;5;45mNone\u001b[0m, \u001b[38;5;34m25\u001b[0m)             │         \u001b[38;5;34m1,625\u001b[0m │\n",
       "├─────────────────────────────────┼────────────────────────┼───────────────┤\n",
       "│ dense_9 (\u001b[38;5;33mDense\u001b[0m)                 │ (\u001b[38;5;45mNone\u001b[0m, \u001b[38;5;34m1\u001b[0m)              │            \u001b[38;5;34m26\u001b[0m │\n",
       "└─────────────────────────────────┴────────────────────────┴───────────────┘\n"
      ]
     },
     "metadata": {},
     "output_type": "display_data"
    },
    {
     "data": {
      "text/html": [
       "<pre style=\"white-space:pre;overflow-x:auto;line-height:normal;font-family:Menlo,'DejaVu Sans Mono',consolas,'Courier New',monospace\"><span style=\"font-weight: bold\"> Total params: </span><span style=\"color: #00af00; text-decoration-color: #00af00\">117,619</span> (459.45 KB)\n",
       "</pre>\n"
      ],
      "text/plain": [
       "\u001b[1m Total params: \u001b[0m\u001b[38;5;34m117,619\u001b[0m (459.45 KB)\n"
      ]
     },
     "metadata": {},
     "output_type": "display_data"
    },
    {
     "data": {
      "text/html": [
       "<pre style=\"white-space:pre;overflow-x:auto;line-height:normal;font-family:Menlo,'DejaVu Sans Mono',consolas,'Courier New',monospace\"><span style=\"font-weight: bold\"> Trainable params: </span><span style=\"color: #00af00; text-decoration-color: #00af00\">117,619</span> (459.45 KB)\n",
       "</pre>\n"
      ],
      "text/plain": [
       "\u001b[1m Trainable params: \u001b[0m\u001b[38;5;34m117,619\u001b[0m (459.45 KB)\n"
      ]
     },
     "metadata": {},
     "output_type": "display_data"
    },
    {
     "data": {
      "text/html": [
       "<pre style=\"white-space:pre;overflow-x:auto;line-height:normal;font-family:Menlo,'DejaVu Sans Mono',consolas,'Courier New',monospace\"><span style=\"font-weight: bold\"> Non-trainable params: </span><span style=\"color: #00af00; text-decoration-color: #00af00\">0</span> (0.00 B)\n",
       "</pre>\n"
      ],
      "text/plain": [
       "\u001b[1m Non-trainable params: \u001b[0m\u001b[38;5;34m0\u001b[0m (0.00 B)\n"
      ]
     },
     "metadata": {},
     "output_type": "display_data"
    }
   ],
   "source": [
    "model.summary()"
   ]
  },
  {
   "cell_type": "code",
   "execution_count": 256,
   "metadata": {
    "execution": {
     "iopub.execute_input": "2024-09-01T11:08:27.351589Z",
     "iopub.status.busy": "2024-09-01T11:08:27.351224Z",
     "iopub.status.idle": "2024-09-01T11:08:27.361139Z",
     "shell.execute_reply": "2024-09-01T11:08:27.360123Z",
     "shell.execute_reply.started": "2024-09-01T11:08:27.351555Z"
    }
   },
   "outputs": [],
   "source": [
    "model.compile(optimizer='adam', loss='mean_squared_error')\n"
   ]
  },
  {
   "cell_type": "code",
   "execution_count": null,
   "metadata": {
    "execution": {
     "iopub.execute_input": "2024-09-01T11:08:28.106491Z",
     "iopub.status.busy": "2024-09-01T11:08:28.106049Z"
    }
   },
   "outputs": [
    {
     "name": "stdout",
     "output_type": "stream",
     "text": [
      "Epoch 1/20\n",
      "\u001b[1m1/1\u001b[0m \u001b[32m━━━━━━━━━━━━━━━━━━━━\u001b[0m\u001b[37m\u001b[0m \u001b[1m41s\u001b[0m 41s/step - loss: 150077.1875 - val_loss: 194821.5312\n",
      "Epoch 2/20\n",
      "\u001b[1m1/1\u001b[0m \u001b[32m━━━━━━━━━━━━━━━━━━━━\u001b[0m\u001b[37m\u001b[0m \u001b[1m38s\u001b[0m 38s/step - loss: 150047.7031 - val_loss: 194787.1875\n",
      "Epoch 3/20\n",
      "\u001b[1m1/1\u001b[0m \u001b[32m━━━━━━━━━━━━━━━━━━━━\u001b[0m\u001b[37m\u001b[0m \u001b[1m38s\u001b[0m 38s/step - loss: 150014.8281 - val_loss: 194743.4062\n",
      "Epoch 4/20\n",
      "\u001b[1m1/1\u001b[0m \u001b[32m━━━━━━━━━━━━━━━━━━━━\u001b[0m\u001b[37m\u001b[0m \u001b[1m38s\u001b[0m 38s/step - loss: 149973.0781 - val_loss: 194682.1875\n",
      "Epoch 5/20\n",
      "\u001b[1m1/1\u001b[0m \u001b[32m━━━━━━━━━━━━━━━━━━━━\u001b[0m\u001b[37m\u001b[0m \u001b[1m38s\u001b[0m 38s/step - loss: 149914.2031 - val_loss: 194585.2812\n",
      "Epoch 6/20\n",
      "\u001b[1m1/1\u001b[0m \u001b[32m━━━━━━━━━━━━━━━━━━━━\u001b[0m\u001b[37m\u001b[0m \u001b[1m38s\u001b[0m 38s/step - loss: 149821.2656 - val_loss: 194410.4844\n",
      "Epoch 7/20\n",
      "\u001b[1m1/1\u001b[0m \u001b[32m━━━━━━━━━━━━━━━━━━━━\u001b[0m\u001b[37m\u001b[0m \u001b[1m38s\u001b[0m 38s/step - loss: 149653.0156 - val_loss: 194025.3281\n",
      "\u001b[1m1/1\u001b[0m \u001b[32m━━━━━━━━━━━━━━━━━━━━\u001b[0m\u001b[37m\u001b[0m \u001b[1m39s\u001b[0m 39s/step - loss: 148241.2500 - val_loss: 192039.0000\n",
      "Epoch 10/20\n",
      "\u001b[1m1/1\u001b[0m \u001b[32m━━━━━━━━━━━━━━━━━━━━\u001b[0m\u001b[37m\u001b[0m \u001b[1m39s\u001b[0m 39s/step - loss: 147360.8594 - val_loss: 191561.0000\n",
      "Epoch 11/20\n",
      "\u001b[1m1/1\u001b[0m \u001b[32m━━━━━━━━━━━━━━━━━━━━\u001b[0m\u001b[37m\u001b[0m \u001b[1m39s\u001b[0m 39s/step - loss: 146898.9375 - val_loss: 191151.4375\n",
      "Epoch 12/20\n",
      "\u001b[1m1/1\u001b[0m \u001b[32m━━━━━━━━━━━━━━━━━━━━\u001b[0m\u001b[37m\u001b[0m \u001b[1m39s\u001b[0m 39s/step - loss: 146503.3125 - val_loss: 190741.4375\n",
      "Epoch 13/20\n",
      "\u001b[1m1/1\u001b[0m \u001b[32m━━━━━━━━━━━━━━━━━━━━\u001b[0m\u001b[37m\u001b[0m \u001b[1m39s\u001b[0m 39s/step - loss: 146107.3906 - val_loss: 190328.7656\n",
      "\u001b[1m1/1\u001b[0m \u001b[32m━━━━━━━━━━━━━━━━━━━━\u001b[0m\u001b[37m\u001b[0m \u001b[1m39s\u001b[0m 39s/step - loss: 144904.8438 - val_loss: 189071.3906\n",
      "Epoch 17/20\n",
      "\u001b[1m1/1\u001b[0m \u001b[32m━━━━━━━━━━━━━━━━━━━━\u001b[0m\u001b[37m\u001b[0m \u001b[1m39s\u001b[0m 39s/step - loss: 144495.9688 - val_loss: 188646.5156\n",
      "Epoch 18/20\n",
      "\u001b[1m1/1\u001b[0m \u001b[32m━━━━━━━━━━━━━━━━━━━━\u001b[0m\u001b[37m\u001b[0m \u001b[1m39s\u001b[0m 39s/step - loss: 144086.1562 - val_loss: 188225.1250\n",
      "Epoch 19/20\n",
      "\u001b[1m1/1\u001b[0m \u001b[32m━━━━━━━━━━━━━━━━━━━━\u001b[0m\u001b[37m\u001b[0m \u001b[1m39s\u001b[0m 39s/step - loss: 143679.5625 - val_loss: 187810.0312\n",
      "Epoch 20/20\n",
      "\u001b[1m1/1\u001b[0m \u001b[32m━━━━━━━━━━━━━━━━━━━━\u001b[0m\u001b[37m\u001b[0m \u001b[1m39s\u001b[0m 39s/step - loss: 143279.1406 - val_loss: 187402.2031\n"
     ]
    }
   ],
   "source": [
    "model.fit(x_train, y_train, epochs=20, batch_size=128, validation_data=(x_test, y_test))\n",
    "\n"
   ]
  },
  {
   "cell_type": "code",
   "execution_count": null,
   "metadata": {
    "execution": {
     "iopub.status.busy": "2024-09-01T11:22:53.434495Z",
     "iopub.status.idle": "2024-09-01T11:22:53.434918Z",
     "shell.execute_reply": "2024-09-01T11:22:53.434725Z",
     "shell.execute_reply.started": "2024-09-01T11:22:53.434704Z"
    }
   },
   "outputs": [],
   "source": [
    "val_loss = model.evaluate(x_test, y_test)"
   ]
  },
  {
   "cell_type": "code",
   "execution_count": 262,
   "metadata": {
    "execution": {
     "iopub.execute_input": "2024-09-01T11:24:53.022224Z",
     "iopub.status.busy": "2024-09-01T11:24:53.021461Z",
     "iopub.status.idle": "2024-09-01T11:24:53.027564Z",
     "shell.execute_reply": "2024-09-01T11:24:53.026484Z",
     "shell.execute_reply.started": "2024-09-01T11:24:53.022177Z"
    }
   },
   "outputs": [
    {
     "name": "stdout",
     "output_type": "stream",
     "text": [
      "Validation Loss: 77812.25\n"
     ]
    }
   ],
   "source": [
    "print(f'Validation Loss: {val_loss}')"
   ]
  },
  {
   "cell_type": "code",
   "execution_count": 261,
   "metadata": {
    "execution": {
     "iopub.execute_input": "2024-09-01T11:22:55.077909Z",
     "iopub.status.busy": "2024-09-01T11:22:55.077513Z",
     "iopub.status.idle": "2024-09-01T11:24:53.019409Z",
     "shell.execute_reply": "2024-09-01T11:24:53.018335Z",
     "shell.execute_reply.started": "2024-09-01T11:22:55.077872Z"
    }
   },
   "outputs": [
    {
     "name": "stdout",
     "output_type": "stream",
     "text": [
      "\u001b[1m14256/14256\u001b[0m \u001b[32m━━━━━━━━━━━━━━━━━━━━\u001b[0m\u001b[37m\u001b[0m \u001b[1m108s\u001b[0m 8ms/step\n"
     ]
    }
   ],
   "source": [
    "y_pred = model.predict(x_test)"
   ]
  },
  {
   "cell_type": "code",
   "execution_count": 263,
   "metadata": {
    "execution": {
     "iopub.execute_input": "2024-09-01T11:25:06.168667Z",
     "iopub.status.busy": "2024-09-01T11:25:06.167567Z",
     "iopub.status.idle": "2024-09-01T11:25:06.191897Z",
     "shell.execute_reply": "2024-09-01T11:25:06.190860Z",
     "shell.execute_reply.started": "2024-09-01T11:25:06.168621Z"
    }
   },
   "outputs": [
    {
     "name": "stdout",
     "output_type": "stream",
     "text": [
      "Mean Squared Error: 187402.26362551443\n",
      "Mean Absolute Error: 243.29277810709308\n",
      "r2_score: -0.460850695681182\n",
      "mean_absolute_percentage_error:0.7821908882818097\n"
     ]
    }
   ],
   "source": [
    "mse = mean_squared_error(y_test, y_pred)\n",
    "mae = mean_absolute_error(y_test, y_pred)\n",
    "r2_score=r2_score(y_test, y_pred)\n",
    "mape=mean_absolute_percentage_error(y_test, y_pred)\n",
    "print(f'Mean Squared Error: {mse}')\n",
    "print(f'Mean Absolute Error: {mae}')\n",
    "print(f'r2_score: {r2_score}')\n",
    "print(f'mean_absolute_percentage_error:{mape}')"
   ]
  },
  {
   "cell_type": "markdown",
   "metadata": {},
   "source": [
    "### LSTM"
   ]
  },
  {
   "cell_type": "code",
   "execution_count": 412,
   "metadata": {
    "execution": {
     "iopub.execute_input": "2024-09-01T12:21:50.150604Z",
     "iopub.status.busy": "2024-09-01T12:21:50.150217Z",
     "iopub.status.idle": "2024-09-01T12:21:50.180331Z",
     "shell.execute_reply": "2024-09-01T12:21:50.179450Z",
     "shell.execute_reply.started": "2024-09-01T12:21:50.150567Z"
    }
   },
   "outputs": [],
   "source": [
    "df4=df4[df4['num_orders']<5000]"
   ]
  },
  {
   "cell_type": "code",
   "execution_count": 413,
   "metadata": {
    "execution": {
     "iopub.execute_input": "2024-09-01T12:21:50.845430Z",
     "iopub.status.busy": "2024-09-01T12:21:50.845079Z",
     "iopub.status.idle": "2024-09-01T12:21:52.726279Z",
     "shell.execute_reply": "2024-09-01T12:21:52.725242Z",
     "shell.execute_reply.started": "2024-09-01T12:21:50.845397Z"
    }
   },
   "outputs": [],
   "source": [
    "df4[\"meal_profitability\"] = df4[\"base_price\"] - df4[\"checkout_price\"]\n",
    "df4[\"meal_profitability\"] = df4[\"meal_profitability\"].astype(\"int\")\n",
    "\n",
    "df4[\"meal_profitability_percentage\"] = (df4[\"meal_profitability\"] / df4[\"base_price\"]) * 100\n",
    "df4[\"meal_profitability_percentage\"] = df4[\"meal_profitability_percentage\"].astype(\"int\")\n",
    "\n",
    "df4[\"category_cuisine\"] = df4[\"category\"].astype(str) + \"_\" + df4[\"cuisine\"].astype(str)\n",
    "df4[\"center_id_category\"] = df4[\"center_id\"].astype(str) + \"_\" + df4[\"category\"].astype(str)\n",
    "\n",
    "df4[\"food_price_trend\"] = df4.groupby(\"meal_id\")[\"base_price\"].transform(lambda x: x.diff())\n",
    "df4[\"food_price_trend\"] = df4[\"food_price_trend\"].fillna(0)\n",
    "df4[\"food_price_trend\"] = df4[\"food_price_trend\"].astype(\"int\")\n",
    "\n",
    "df4[\"featured_shown\"] = df4[\"emailer_for_promotion\"].astype(str) + \"_\" + df4[\"homepage_featured\"].astype(str)\n",
    "\n",
    "# Initialize LabelEncoder\n",
    "label_encoder = LabelEncoder()\n",
    "\n",
    "# Apply LabelEncoder to specified columns\n",
    "for col in [\"category_cuisine\", \"center_id_category\", \"featured_shown\"]:\n",
    "    df4[col] = label_encoder.fit_transform(df4[col])\n",
    "\n",
    "# Now, 'df4' is your DataFrame containing all the new features\n"
   ]
  },
  {
   "cell_type": "code",
   "execution_count": 414,
   "metadata": {
    "execution": {
     "iopub.execute_input": "2024-09-01T12:21:52.728359Z",
     "iopub.status.busy": "2024-09-01T12:21:52.728047Z",
     "iopub.status.idle": "2024-09-01T12:21:52.734487Z",
     "shell.execute_reply": "2024-09-01T12:21:52.733642Z",
     "shell.execute_reply.started": "2024-09-01T12:21:52.728328Z"
    }
   },
   "outputs": [],
   "source": [
    "df4.set_index('week',inplace=True)"
   ]
  },
  {
   "cell_type": "code",
   "execution_count": 415,
   "metadata": {
    "execution": {
     "iopub.execute_input": "2024-09-01T12:21:52.890844Z",
     "iopub.status.busy": "2024-09-01T12:21:52.890472Z",
     "iopub.status.idle": "2024-09-01T12:21:52.911886Z",
     "shell.execute_reply": "2024-09-01T12:21:52.911004Z",
     "shell.execute_reply.started": "2024-09-01T12:21:52.890809Z"
    }
   },
   "outputs": [
    {
     "data": {
      "text/html": [
       "<div>\n",
       "<style scoped>\n",
       "    .dataframe tbody tr th:only-of-type {\n",
       "        vertical-align: middle;\n",
       "    }\n",
       "\n",
       "    .dataframe tbody tr th {\n",
       "        vertical-align: top;\n",
       "    }\n",
       "\n",
       "    .dataframe thead th {\n",
       "        text-align: right;\n",
       "    }\n",
       "</style>\n",
       "<table border=\"1\" class=\"dataframe\">\n",
       "  <thead>\n",
       "    <tr style=\"text-align: right;\">\n",
       "      <th></th>\n",
       "      <th>center_id</th>\n",
       "      <th>meal_id</th>\n",
       "      <th>checkout_price</th>\n",
       "      <th>base_price</th>\n",
       "      <th>emailer_for_promotion</th>\n",
       "      <th>homepage_featured</th>\n",
       "      <th>num_orders</th>\n",
       "      <th>city_code</th>\n",
       "      <th>region_code</th>\n",
       "      <th>center_type</th>\n",
       "      <th>op_area</th>\n",
       "      <th>category</th>\n",
       "      <th>cuisine</th>\n",
       "      <th>meal_profitability</th>\n",
       "      <th>meal_profitability_percentage</th>\n",
       "      <th>category_cuisine</th>\n",
       "      <th>center_id_category</th>\n",
       "      <th>food_price_trend</th>\n",
       "      <th>featured_shown</th>\n",
       "    </tr>\n",
       "    <tr>\n",
       "      <th>week</th>\n",
       "      <th></th>\n",
       "      <th></th>\n",
       "      <th></th>\n",
       "      <th></th>\n",
       "      <th></th>\n",
       "      <th></th>\n",
       "      <th></th>\n",
       "      <th></th>\n",
       "      <th></th>\n",
       "      <th></th>\n",
       "      <th></th>\n",
       "      <th></th>\n",
       "      <th></th>\n",
       "      <th></th>\n",
       "      <th></th>\n",
       "      <th></th>\n",
       "      <th></th>\n",
       "      <th></th>\n",
       "      <th></th>\n",
       "    </tr>\n",
       "  </thead>\n",
       "  <tbody>\n",
       "    <tr>\n",
       "      <th>1</th>\n",
       "      <td>93</td>\n",
       "      <td>1971</td>\n",
       "      <td>261</td>\n",
       "      <td>289</td>\n",
       "      <td>1</td>\n",
       "      <td>0</td>\n",
       "      <td>528</td>\n",
       "      <td>461</td>\n",
       "      <td>34</td>\n",
       "      <td>0</td>\n",
       "      <td>3.9</td>\n",
       "      <td>10</td>\n",
       "      <td>2</td>\n",
       "      <td>28</td>\n",
       "      <td>9</td>\n",
       "      <td>4</td>\n",
       "      <td>935</td>\n",
       "      <td>0</td>\n",
       "      <td>2</td>\n",
       "    </tr>\n",
       "    <tr>\n",
       "      <th>1</th>\n",
       "      <td>83</td>\n",
       "      <td>1248</td>\n",
       "      <td>152</td>\n",
       "      <td>240</td>\n",
       "      <td>0</td>\n",
       "      <td>0</td>\n",
       "      <td>107</td>\n",
       "      <td>659</td>\n",
       "      <td>77</td>\n",
       "      <td>0</td>\n",
       "      <td>5.3</td>\n",
       "      <td>0</td>\n",
       "      <td>1</td>\n",
       "      <td>88</td>\n",
       "      <td>36</td>\n",
       "      <td>1</td>\n",
       "      <td>858</td>\n",
       "      <td>0</td>\n",
       "      <td>0</td>\n",
       "    </tr>\n",
       "    <tr>\n",
       "      <th>1</th>\n",
       "      <td>67</td>\n",
       "      <td>1248</td>\n",
       "      <td>251</td>\n",
       "      <td>253</td>\n",
       "      <td>0</td>\n",
       "      <td>0</td>\n",
       "      <td>26</td>\n",
       "      <td>638</td>\n",
       "      <td>56</td>\n",
       "      <td>1</td>\n",
       "      <td>7.0</td>\n",
       "      <td>0</td>\n",
       "      <td>1</td>\n",
       "      <td>2</td>\n",
       "      <td>0</td>\n",
       "      <td>1</td>\n",
       "      <td>732</td>\n",
       "      <td>13</td>\n",
       "      <td>0</td>\n",
       "    </tr>\n",
       "    <tr>\n",
       "      <th>1</th>\n",
       "      <td>17</td>\n",
       "      <td>1902</td>\n",
       "      <td>387</td>\n",
       "      <td>446</td>\n",
       "      <td>0</td>\n",
       "      <td>0</td>\n",
       "      <td>55</td>\n",
       "      <td>517</td>\n",
       "      <td>56</td>\n",
       "      <td>0</td>\n",
       "      <td>3.2</td>\n",
       "      <td>1</td>\n",
       "      <td>1</td>\n",
       "      <td>59</td>\n",
       "      <td>13</td>\n",
       "      <td>8</td>\n",
       "      <td>373</td>\n",
       "      <td>0</td>\n",
       "      <td>0</td>\n",
       "    </tr>\n",
       "    <tr>\n",
       "      <th>1</th>\n",
       "      <td>139</td>\n",
       "      <td>2581</td>\n",
       "      <td>584</td>\n",
       "      <td>613</td>\n",
       "      <td>1</td>\n",
       "      <td>1</td>\n",
       "      <td>149</td>\n",
       "      <td>693</td>\n",
       "      <td>34</td>\n",
       "      <td>2</td>\n",
       "      <td>2.8</td>\n",
       "      <td>7</td>\n",
       "      <td>0</td>\n",
       "      <td>29</td>\n",
       "      <td>4</td>\n",
       "      <td>14</td>\n",
       "      <td>207</td>\n",
       "      <td>0</td>\n",
       "      <td>3</td>\n",
       "    </tr>\n",
       "    <tr>\n",
       "      <th>...</th>\n",
       "      <td>...</td>\n",
       "      <td>...</td>\n",
       "      <td>...</td>\n",
       "      <td>...</td>\n",
       "      <td>...</td>\n",
       "      <td>...</td>\n",
       "      <td>...</td>\n",
       "      <td>...</td>\n",
       "      <td>...</td>\n",
       "      <td>...</td>\n",
       "      <td>...</td>\n",
       "      <td>...</td>\n",
       "      <td>...</td>\n",
       "      <td>...</td>\n",
       "      <td>...</td>\n",
       "      <td>...</td>\n",
       "      <td>...</td>\n",
       "      <td>...</td>\n",
       "      <td>...</td>\n",
       "    </tr>\n",
       "    <tr>\n",
       "      <th>145</th>\n",
       "      <td>24</td>\n",
       "      <td>1885</td>\n",
       "      <td>159</td>\n",
       "      <td>159</td>\n",
       "      <td>0</td>\n",
       "      <td>0</td>\n",
       "      <td>1890</td>\n",
       "      <td>614</td>\n",
       "      <td>85</td>\n",
       "      <td>1</td>\n",
       "      <td>3.6</td>\n",
       "      <td>0</td>\n",
       "      <td>3</td>\n",
       "      <td>0</td>\n",
       "      <td>0</td>\n",
       "      <td>3</td>\n",
       "      <td>426</td>\n",
       "      <td>20</td>\n",
       "      <td>0</td>\n",
       "    </tr>\n",
       "    <tr>\n",
       "      <th>145</th>\n",
       "      <td>83</td>\n",
       "      <td>1247</td>\n",
       "      <td>447</td>\n",
       "      <td>445</td>\n",
       "      <td>0</td>\n",
       "      <td>0</td>\n",
       "      <td>28</td>\n",
       "      <td>659</td>\n",
       "      <td>77</td>\n",
       "      <td>0</td>\n",
       "      <td>5.3</td>\n",
       "      <td>1</td>\n",
       "      <td>1</td>\n",
       "      <td>-2</td>\n",
       "      <td>0</td>\n",
       "      <td>8</td>\n",
       "      <td>859</td>\n",
       "      <td>-1</td>\n",
       "      <td>0</td>\n",
       "    </tr>\n",
       "    <tr>\n",
       "      <th>145</th>\n",
       "      <td>68</td>\n",
       "      <td>2104</td>\n",
       "      <td>582</td>\n",
       "      <td>581</td>\n",
       "      <td>0</td>\n",
       "      <td>0</td>\n",
       "      <td>40</td>\n",
       "      <td>676</td>\n",
       "      <td>34</td>\n",
       "      <td>1</td>\n",
       "      <td>4.1</td>\n",
       "      <td>4</td>\n",
       "      <td>0</td>\n",
       "      <td>-1</td>\n",
       "      <td>0</td>\n",
       "      <td>11</td>\n",
       "      <td>752</td>\n",
       "      <td>0</td>\n",
       "      <td>0</td>\n",
       "    </tr>\n",
       "    <tr>\n",
       "      <th>145</th>\n",
       "      <td>59</td>\n",
       "      <td>1558</td>\n",
       "      <td>563</td>\n",
       "      <td>563</td>\n",
       "      <td>0</td>\n",
       "      <td>0</td>\n",
       "      <td>67</td>\n",
       "      <td>456</td>\n",
       "      <td>56</td>\n",
       "      <td>0</td>\n",
       "      <td>4.2</td>\n",
       "      <td>7</td>\n",
       "      <td>0</td>\n",
       "      <td>0</td>\n",
       "      <td>0</td>\n",
       "      <td>14</td>\n",
       "      <td>681</td>\n",
       "      <td>52</td>\n",
       "      <td>0</td>\n",
       "    </tr>\n",
       "    <tr>\n",
       "      <th>145</th>\n",
       "      <td>76</td>\n",
       "      <td>1558</td>\n",
       "      <td>563</td>\n",
       "      <td>562</td>\n",
       "      <td>0</td>\n",
       "      <td>0</td>\n",
       "      <td>95</td>\n",
       "      <td>614</td>\n",
       "      <td>85</td>\n",
       "      <td>0</td>\n",
       "      <td>3.0</td>\n",
       "      <td>7</td>\n",
       "      <td>0</td>\n",
       "      <td>-1</td>\n",
       "      <td>0</td>\n",
       "      <td>14</td>\n",
       "      <td>817</td>\n",
       "      <td>-1</td>\n",
       "      <td>0</td>\n",
       "    </tr>\n",
       "  </tbody>\n",
       "</table>\n",
       "<p>456285 rows × 19 columns</p>\n",
       "</div>"
      ],
      "text/plain": [
       "      center_id  meal_id  checkout_price  base_price  emailer_for_promotion  \\\n",
       "week                                                                          \n",
       "1            93     1971             261         289                      1   \n",
       "1            83     1248             152         240                      0   \n",
       "1            67     1248             251         253                      0   \n",
       "1            17     1902             387         446                      0   \n",
       "1           139     2581             584         613                      1   \n",
       "...         ...      ...             ...         ...                    ...   \n",
       "145          24     1885             159         159                      0   \n",
       "145          83     1247             447         445                      0   \n",
       "145          68     2104             582         581                      0   \n",
       "145          59     1558             563         563                      0   \n",
       "145          76     1558             563         562                      0   \n",
       "\n",
       "      homepage_featured  num_orders  city_code  region_code  center_type  \\\n",
       "week                                                                       \n",
       "1                     0         528        461           34            0   \n",
       "1                     0         107        659           77            0   \n",
       "1                     0          26        638           56            1   \n",
       "1                     0          55        517           56            0   \n",
       "1                     1         149        693           34            2   \n",
       "...                 ...         ...        ...          ...          ...   \n",
       "145                   0        1890        614           85            1   \n",
       "145                   0          28        659           77            0   \n",
       "145                   0          40        676           34            1   \n",
       "145                   0          67        456           56            0   \n",
       "145                   0          95        614           85            0   \n",
       "\n",
       "      op_area  category  cuisine  meal_profitability  \\\n",
       "week                                                   \n",
       "1         3.9        10        2                  28   \n",
       "1         5.3         0        1                  88   \n",
       "1         7.0         0        1                   2   \n",
       "1         3.2         1        1                  59   \n",
       "1         2.8         7        0                  29   \n",
       "...       ...       ...      ...                 ...   \n",
       "145       3.6         0        3                   0   \n",
       "145       5.3         1        1                  -2   \n",
       "145       4.1         4        0                  -1   \n",
       "145       4.2         7        0                   0   \n",
       "145       3.0         7        0                  -1   \n",
       "\n",
       "      meal_profitability_percentage  category_cuisine  center_id_category  \\\n",
       "week                                                                        \n",
       "1                                 9                 4                 935   \n",
       "1                                36                 1                 858   \n",
       "1                                 0                 1                 732   \n",
       "1                                13                 8                 373   \n",
       "1                                 4                14                 207   \n",
       "...                             ...               ...                 ...   \n",
       "145                               0                 3                 426   \n",
       "145                               0                 8                 859   \n",
       "145                               0                11                 752   \n",
       "145                               0                14                 681   \n",
       "145                               0                14                 817   \n",
       "\n",
       "      food_price_trend  featured_shown  \n",
       "week                                    \n",
       "1                    0               2  \n",
       "1                    0               0  \n",
       "1                   13               0  \n",
       "1                    0               0  \n",
       "1                    0               3  \n",
       "...                ...             ...  \n",
       "145                 20               0  \n",
       "145                 -1               0  \n",
       "145                  0               0  \n",
       "145                 52               0  \n",
       "145                 -1               0  \n",
       "\n",
       "[456285 rows x 19 columns]"
      ]
     },
     "execution_count": 415,
     "metadata": {},
     "output_type": "execute_result"
    }
   ],
   "source": [
    "df4"
   ]
  },
  {
   "cell_type": "code",
   "execution_count": 416,
   "metadata": {
    "execution": {
     "iopub.execute_input": "2024-09-01T12:21:54.340883Z",
     "iopub.status.busy": "2024-09-01T12:21:54.340094Z",
     "iopub.status.idle": "2024-09-01T12:21:54.360285Z",
     "shell.execute_reply": "2024-09-01T12:21:54.359450Z",
     "shell.execute_reply.started": "2024-09-01T12:21:54.340843Z"
    }
   },
   "outputs": [],
   "source": [
    "df4.drop(['cuisine','emailer_for_promotion','homepage_featured','base_price'],axis=1,inplace=True)"
   ]
  },
  {
   "cell_type": "code",
   "execution_count": 417,
   "metadata": {
    "execution": {
     "iopub.execute_input": "2024-09-01T12:21:54.750431Z",
     "iopub.status.busy": "2024-09-01T12:21:54.749764Z",
     "iopub.status.idle": "2024-09-01T12:21:54.766604Z",
     "shell.execute_reply": "2024-09-01T12:21:54.765621Z",
     "shell.execute_reply.started": "2024-09-01T12:21:54.750392Z"
    }
   },
   "outputs": [
    {
     "data": {
      "text/html": [
       "<div>\n",
       "<style scoped>\n",
       "    .dataframe tbody tr th:only-of-type {\n",
       "        vertical-align: middle;\n",
       "    }\n",
       "\n",
       "    .dataframe tbody tr th {\n",
       "        vertical-align: top;\n",
       "    }\n",
       "\n",
       "    .dataframe thead th {\n",
       "        text-align: right;\n",
       "    }\n",
       "</style>\n",
       "<table border=\"1\" class=\"dataframe\">\n",
       "  <thead>\n",
       "    <tr style=\"text-align: right;\">\n",
       "      <th></th>\n",
       "      <th>center_id</th>\n",
       "      <th>meal_id</th>\n",
       "      <th>checkout_price</th>\n",
       "      <th>num_orders</th>\n",
       "      <th>city_code</th>\n",
       "      <th>region_code</th>\n",
       "      <th>center_type</th>\n",
       "      <th>op_area</th>\n",
       "      <th>category</th>\n",
       "      <th>meal_profitability</th>\n",
       "      <th>meal_profitability_percentage</th>\n",
       "      <th>category_cuisine</th>\n",
       "      <th>center_id_category</th>\n",
       "      <th>food_price_trend</th>\n",
       "      <th>featured_shown</th>\n",
       "    </tr>\n",
       "    <tr>\n",
       "      <th>week</th>\n",
       "      <th></th>\n",
       "      <th></th>\n",
       "      <th></th>\n",
       "      <th></th>\n",
       "      <th></th>\n",
       "      <th></th>\n",
       "      <th></th>\n",
       "      <th></th>\n",
       "      <th></th>\n",
       "      <th></th>\n",
       "      <th></th>\n",
       "      <th></th>\n",
       "      <th></th>\n",
       "      <th></th>\n",
       "      <th></th>\n",
       "    </tr>\n",
       "  </thead>\n",
       "  <tbody>\n",
       "    <tr>\n",
       "      <th>1</th>\n",
       "      <td>93</td>\n",
       "      <td>1971</td>\n",
       "      <td>261</td>\n",
       "      <td>528</td>\n",
       "      <td>461</td>\n",
       "      <td>34</td>\n",
       "      <td>0</td>\n",
       "      <td>3.9</td>\n",
       "      <td>10</td>\n",
       "      <td>28</td>\n",
       "      <td>9</td>\n",
       "      <td>4</td>\n",
       "      <td>935</td>\n",
       "      <td>0</td>\n",
       "      <td>2</td>\n",
       "    </tr>\n",
       "    <tr>\n",
       "      <th>1</th>\n",
       "      <td>83</td>\n",
       "      <td>1248</td>\n",
       "      <td>152</td>\n",
       "      <td>107</td>\n",
       "      <td>659</td>\n",
       "      <td>77</td>\n",
       "      <td>0</td>\n",
       "      <td>5.3</td>\n",
       "      <td>0</td>\n",
       "      <td>88</td>\n",
       "      <td>36</td>\n",
       "      <td>1</td>\n",
       "      <td>858</td>\n",
       "      <td>0</td>\n",
       "      <td>0</td>\n",
       "    </tr>\n",
       "    <tr>\n",
       "      <th>1</th>\n",
       "      <td>67</td>\n",
       "      <td>1248</td>\n",
       "      <td>251</td>\n",
       "      <td>26</td>\n",
       "      <td>638</td>\n",
       "      <td>56</td>\n",
       "      <td>1</td>\n",
       "      <td>7.0</td>\n",
       "      <td>0</td>\n",
       "      <td>2</td>\n",
       "      <td>0</td>\n",
       "      <td>1</td>\n",
       "      <td>732</td>\n",
       "      <td>13</td>\n",
       "      <td>0</td>\n",
       "    </tr>\n",
       "    <tr>\n",
       "      <th>1</th>\n",
       "      <td>17</td>\n",
       "      <td>1902</td>\n",
       "      <td>387</td>\n",
       "      <td>55</td>\n",
       "      <td>517</td>\n",
       "      <td>56</td>\n",
       "      <td>0</td>\n",
       "      <td>3.2</td>\n",
       "      <td>1</td>\n",
       "      <td>59</td>\n",
       "      <td>13</td>\n",
       "      <td>8</td>\n",
       "      <td>373</td>\n",
       "      <td>0</td>\n",
       "      <td>0</td>\n",
       "    </tr>\n",
       "    <tr>\n",
       "      <th>1</th>\n",
       "      <td>139</td>\n",
       "      <td>2581</td>\n",
       "      <td>584</td>\n",
       "      <td>149</td>\n",
       "      <td>693</td>\n",
       "      <td>34</td>\n",
       "      <td>2</td>\n",
       "      <td>2.8</td>\n",
       "      <td>7</td>\n",
       "      <td>29</td>\n",
       "      <td>4</td>\n",
       "      <td>14</td>\n",
       "      <td>207</td>\n",
       "      <td>0</td>\n",
       "      <td>3</td>\n",
       "    </tr>\n",
       "  </tbody>\n",
       "</table>\n",
       "</div>"
      ],
      "text/plain": [
       "      center_id  meal_id  checkout_price  num_orders  city_code  region_code  \\\n",
       "week                                                                           \n",
       "1            93     1971             261         528        461           34   \n",
       "1            83     1248             152         107        659           77   \n",
       "1            67     1248             251          26        638           56   \n",
       "1            17     1902             387          55        517           56   \n",
       "1           139     2581             584         149        693           34   \n",
       "\n",
       "      center_type  op_area  category  meal_profitability  \\\n",
       "week                                                       \n",
       "1               0      3.9        10                  28   \n",
       "1               0      5.3         0                  88   \n",
       "1               1      7.0         0                   2   \n",
       "1               0      3.2         1                  59   \n",
       "1               2      2.8         7                  29   \n",
       "\n",
       "      meal_profitability_percentage  category_cuisine  center_id_category  \\\n",
       "week                                                                        \n",
       "1                                 9                 4                 935   \n",
       "1                                36                 1                 858   \n",
       "1                                 0                 1                 732   \n",
       "1                                13                 8                 373   \n",
       "1                                 4                14                 207   \n",
       "\n",
       "      food_price_trend  featured_shown  \n",
       "week                                    \n",
       "1                    0               2  \n",
       "1                    0               0  \n",
       "1                   13               0  \n",
       "1                    0               0  \n",
       "1                    0               3  "
      ]
     },
     "execution_count": 417,
     "metadata": {},
     "output_type": "execute_result"
    }
   ],
   "source": [
    "df4.head()"
   ]
  },
  {
   "cell_type": "code",
   "execution_count": 418,
   "metadata": {
    "execution": {
     "iopub.execute_input": "2024-09-01T12:21:55.189818Z",
     "iopub.status.busy": "2024-09-01T12:21:55.189444Z",
     "iopub.status.idle": "2024-09-01T12:21:55.199253Z",
     "shell.execute_reply": "2024-09-01T12:21:55.198187Z",
     "shell.execute_reply.started": "2024-09-01T12:21:55.189785Z"
    }
   },
   "outputs": [],
   "source": [
    "train_df4=df4.loc[:118]\n",
    "test_df4=df4.loc[119:]"
   ]
  },
  {
   "cell_type": "code",
   "execution_count": 419,
   "metadata": {
    "execution": {
     "iopub.execute_input": "2024-09-01T12:21:56.110646Z",
     "iopub.status.busy": "2024-09-01T12:21:56.110270Z",
     "iopub.status.idle": "2024-09-01T12:21:56.131632Z",
     "shell.execute_reply": "2024-09-01T12:21:56.130878Z",
     "shell.execute_reply.started": "2024-09-01T12:21:56.110611Z"
    }
   },
   "outputs": [],
   "source": [
    "x_train,y_train=train_df4.drop('num_orders',axis=1),train_df4['num_orders']\n",
    "x_test,y_test=test_df4.drop('num_orders',axis=1),test_df4['num_orders']"
   ]
  },
  {
   "cell_type": "code",
   "execution_count": 420,
   "metadata": {
    "execution": {
     "iopub.execute_input": "2024-09-01T12:21:56.690989Z",
     "iopub.status.busy": "2024-09-01T12:21:56.690209Z",
     "iopub.status.idle": "2024-09-01T12:21:56.758645Z",
     "shell.execute_reply": "2024-09-01T12:21:56.757725Z",
     "shell.execute_reply.started": "2024-09-01T12:21:56.690950Z"
    }
   },
   "outputs": [
    {
     "name": "stderr",
     "output_type": "stream",
     "text": [
      "/opt/conda/lib/python3.10/site-packages/keras/src/layers/rnn/rnn.py:204: UserWarning: Do not pass an `input_shape`/`input_dim` argument to a layer. When using Sequential models, prefer using an `Input(shape)` object as the first layer in the model instead.\n",
      "  super().__init__(**kwargs)\n"
     ]
    }
   ],
   "source": [
    "model=Sequential()\n",
    "model.add(LSTM(128,return_sequences=True,input_shape=(x_train.shape[1],1)))\n",
    "model.add(LSTM(64,return_sequences=False))\n",
    "model.add(Dense(25))\n",
    "model.add(Dense(1))"
   ]
  },
  {
   "cell_type": "code",
   "execution_count": 421,
   "metadata": {
    "execution": {
     "iopub.execute_input": "2024-09-01T12:21:57.213684Z",
     "iopub.status.busy": "2024-09-01T12:21:57.213285Z",
     "iopub.status.idle": "2024-09-01T12:21:57.233958Z",
     "shell.execute_reply": "2024-09-01T12:21:57.233101Z",
     "shell.execute_reply.started": "2024-09-01T12:21:57.213650Z"
    }
   },
   "outputs": [
    {
     "data": {
      "text/html": [
       "<pre style=\"white-space:pre;overflow-x:auto;line-height:normal;font-family:Menlo,'DejaVu Sans Mono',consolas,'Courier New',monospace\"><span style=\"font-weight: bold\">Model: \"sequential_8\"</span>\n",
       "</pre>\n"
      ],
      "text/plain": [
       "\u001b[1mModel: \"sequential_8\"\u001b[0m\n"
      ]
     },
     "metadata": {},
     "output_type": "display_data"
    },
    {
     "data": {
      "text/html": [
       "<pre style=\"white-space:pre;overflow-x:auto;line-height:normal;font-family:Menlo,'DejaVu Sans Mono',consolas,'Courier New',monospace\">┏━━━━━━━━━━━━━━━━━━━━━━━━━━━━━━━━━┳━━━━━━━━━━━━━━━━━━━━━━━━┳━━━━━━━━━━━━━━━┓\n",
       "┃<span style=\"font-weight: bold\"> Layer (type)                    </span>┃<span style=\"font-weight: bold\"> Output Shape           </span>┃<span style=\"font-weight: bold\">       Param # </span>┃\n",
       "┡━━━━━━━━━━━━━━━━━━━━━━━━━━━━━━━━━╇━━━━━━━━━━━━━━━━━━━━━━━━╇━━━━━━━━━━━━━━━┩\n",
       "│ lstm_16 (<span style=\"color: #0087ff; text-decoration-color: #0087ff\">LSTM</span>)                  │ (<span style=\"color: #00d7ff; text-decoration-color: #00d7ff\">None</span>, <span style=\"color: #00af00; text-decoration-color: #00af00\">14</span>, <span style=\"color: #00af00; text-decoration-color: #00af00\">128</span>)        │        <span style=\"color: #00af00; text-decoration-color: #00af00\">66,560</span> │\n",
       "├─────────────────────────────────┼────────────────────────┼───────────────┤\n",
       "│ lstm_17 (<span style=\"color: #0087ff; text-decoration-color: #0087ff\">LSTM</span>)                  │ (<span style=\"color: #00d7ff; text-decoration-color: #00d7ff\">None</span>, <span style=\"color: #00af00; text-decoration-color: #00af00\">64</span>)             │        <span style=\"color: #00af00; text-decoration-color: #00af00\">49,408</span> │\n",
       "├─────────────────────────────────┼────────────────────────┼───────────────┤\n",
       "│ dense_16 (<span style=\"color: #0087ff; text-decoration-color: #0087ff\">Dense</span>)                │ (<span style=\"color: #00d7ff; text-decoration-color: #00d7ff\">None</span>, <span style=\"color: #00af00; text-decoration-color: #00af00\">25</span>)             │         <span style=\"color: #00af00; text-decoration-color: #00af00\">1,625</span> │\n",
       "├─────────────────────────────────┼────────────────────────┼───────────────┤\n",
       "│ dense_17 (<span style=\"color: #0087ff; text-decoration-color: #0087ff\">Dense</span>)                │ (<span style=\"color: #00d7ff; text-decoration-color: #00d7ff\">None</span>, <span style=\"color: #00af00; text-decoration-color: #00af00\">1</span>)              │            <span style=\"color: #00af00; text-decoration-color: #00af00\">26</span> │\n",
       "└─────────────────────────────────┴────────────────────────┴───────────────┘\n",
       "</pre>\n"
      ],
      "text/plain": [
       "┏━━━━━━━━━━━━━━━━━━━━━━━━━━━━━━━━━┳━━━━━━━━━━━━━━━━━━━━━━━━┳━━━━━━━━━━━━━━━┓\n",
       "┃\u001b[1m \u001b[0m\u001b[1mLayer (type)                   \u001b[0m\u001b[1m \u001b[0m┃\u001b[1m \u001b[0m\u001b[1mOutput Shape          \u001b[0m\u001b[1m \u001b[0m┃\u001b[1m \u001b[0m\u001b[1m      Param #\u001b[0m\u001b[1m \u001b[0m┃\n",
       "┡━━━━━━━━━━━━━━━━━━━━━━━━━━━━━━━━━╇━━━━━━━━━━━━━━━━━━━━━━━━╇━━━━━━━━━━━━━━━┩\n",
       "│ lstm_16 (\u001b[38;5;33mLSTM\u001b[0m)                  │ (\u001b[38;5;45mNone\u001b[0m, \u001b[38;5;34m14\u001b[0m, \u001b[38;5;34m128\u001b[0m)        │        \u001b[38;5;34m66,560\u001b[0m │\n",
       "├─────────────────────────────────┼────────────────────────┼───────────────┤\n",
       "│ lstm_17 (\u001b[38;5;33mLSTM\u001b[0m)                  │ (\u001b[38;5;45mNone\u001b[0m, \u001b[38;5;34m64\u001b[0m)             │        \u001b[38;5;34m49,408\u001b[0m │\n",
       "├─────────────────────────────────┼────────────────────────┼───────────────┤\n",
       "│ dense_16 (\u001b[38;5;33mDense\u001b[0m)                │ (\u001b[38;5;45mNone\u001b[0m, \u001b[38;5;34m25\u001b[0m)             │         \u001b[38;5;34m1,625\u001b[0m │\n",
       "├─────────────────────────────────┼────────────────────────┼───────────────┤\n",
       "│ dense_17 (\u001b[38;5;33mDense\u001b[0m)                │ (\u001b[38;5;45mNone\u001b[0m, \u001b[38;5;34m1\u001b[0m)              │            \u001b[38;5;34m26\u001b[0m │\n",
       "└─────────────────────────────────┴────────────────────────┴───────────────┘\n"
      ]
     },
     "metadata": {},
     "output_type": "display_data"
    },
    {
     "data": {
      "text/html": [
       "<pre style=\"white-space:pre;overflow-x:auto;line-height:normal;font-family:Menlo,'DejaVu Sans Mono',consolas,'Courier New',monospace\"><span style=\"font-weight: bold\"> Total params: </span><span style=\"color: #00af00; text-decoration-color: #00af00\">117,619</span> (459.45 KB)\n",
       "</pre>\n"
      ],
      "text/plain": [
       "\u001b[1m Total params: \u001b[0m\u001b[38;5;34m117,619\u001b[0m (459.45 KB)\n"
      ]
     },
     "metadata": {},
     "output_type": "display_data"
    },
    {
     "data": {
      "text/html": [
       "<pre style=\"white-space:pre;overflow-x:auto;line-height:normal;font-family:Menlo,'DejaVu Sans Mono',consolas,'Courier New',monospace\"><span style=\"font-weight: bold\"> Trainable params: </span><span style=\"color: #00af00; text-decoration-color: #00af00\">117,619</span> (459.45 KB)\n",
       "</pre>\n"
      ],
      "text/plain": [
       "\u001b[1m Trainable params: \u001b[0m\u001b[38;5;34m117,619\u001b[0m (459.45 KB)\n"
      ]
     },
     "metadata": {},
     "output_type": "display_data"
    },
    {
     "data": {
      "text/html": [
       "<pre style=\"white-space:pre;overflow-x:auto;line-height:normal;font-family:Menlo,'DejaVu Sans Mono',consolas,'Courier New',monospace\"><span style=\"font-weight: bold\"> Non-trainable params: </span><span style=\"color: #00af00; text-decoration-color: #00af00\">0</span> (0.00 B)\n",
       "</pre>\n"
      ],
      "text/plain": [
       "\u001b[1m Non-trainable params: \u001b[0m\u001b[38;5;34m0\u001b[0m (0.00 B)\n"
      ]
     },
     "metadata": {},
     "output_type": "display_data"
    }
   ],
   "source": [
    "model.summary()"
   ]
  },
  {
   "cell_type": "code",
   "execution_count": 422,
   "metadata": {
    "execution": {
     "iopub.execute_input": "2024-09-01T12:21:58.050347Z",
     "iopub.status.busy": "2024-09-01T12:21:58.049612Z",
     "iopub.status.idle": "2024-09-01T12:21:58.058896Z",
     "shell.execute_reply": "2024-09-01T12:21:58.057946Z",
     "shell.execute_reply.started": "2024-09-01T12:21:58.050309Z"
    }
   },
   "outputs": [],
   "source": [
    "model.compile(optimizer='adam', loss='mean_squared_error')\n"
   ]
  },
  {
   "cell_type": "code",
   "execution_count": 423,
   "metadata": {
    "execution": {
     "iopub.execute_input": "2024-09-01T12:21:58.365212Z",
     "iopub.status.busy": "2024-09-01T12:21:58.364774Z",
     "iopub.status.idle": "2024-09-01T12:28:01.501129Z",
     "shell.execute_reply": "2024-09-01T12:28:01.499792Z",
     "shell.execute_reply.started": "2024-09-01T12:21:58.365161Z"
    }
   },
   "outputs": [
    {
     "name": "stdout",
     "output_type": "stream",
     "text": [
      "Epoch 1/20\n",
      "\u001b[1m2873/2873\u001b[0m \u001b[32m━━━━━━━━━━━━━━━━━━━━\u001b[0m\u001b[37m\u001b[0m \u001b[1m19s\u001b[0m 6ms/step - loss: 119399.8359 - val_loss: 53623.6523\n",
      "Epoch 2/20\n",
      "\u001b[1m2873/2873\u001b[0m \u001b[32m━━━━━━━━━━━━━━━━━━━━\u001b[0m\u001b[37m\u001b[0m \u001b[1m17s\u001b[0m 6ms/step - loss: 51384.8281 - val_loss: 46154.4102\n",
      "Epoch 3/20\n",
      "\u001b[1m2873/2873\u001b[0m \u001b[32m━━━━━━━━━━━━━━━━━━━━\u001b[0m\u001b[37m\u001b[0m \u001b[1m17s\u001b[0m 6ms/step - loss: 45577.3516 - val_loss: 42586.0312\n",
      "Epoch 4/20\n",
      "\u001b[1m2873/2873\u001b[0m \u001b[32m━━━━━━━━━━━━━━━━━━━━\u001b[0m\u001b[37m\u001b[0m \u001b[1m18s\u001b[0m 6ms/step - loss: 43166.8867 - val_loss: 40162.8242\n",
      "Epoch 5/20\n",
      "\u001b[1m2873/2873\u001b[0m \u001b[32m━━━━━━━━━━━━━━━━━━━━\u001b[0m\u001b[37m\u001b[0m \u001b[1m19s\u001b[0m 7ms/step - loss: 40102.9258 - val_loss: 38840.1445\n",
      "Epoch 6/20\n",
      "\u001b[1m2873/2873\u001b[0m \u001b[32m━━━━━━━━━━━━━━━━━━━━\u001b[0m\u001b[37m\u001b[0m \u001b[1m18s\u001b[0m 6ms/step - loss: 39495.3945 - val_loss: 36128.8594\n",
      "Epoch 7/20\n",
      "\u001b[1m2873/2873\u001b[0m \u001b[32m━━━━━━━━━━━━━━━━━━━━\u001b[0m\u001b[37m\u001b[0m \u001b[1m18s\u001b[0m 6ms/step - loss: 37660.4062 - val_loss: 36933.8438\n",
      "Epoch 8/20\n",
      "\u001b[1m2873/2873\u001b[0m \u001b[32m━━━━━━━━━━━━━━━━━━━━\u001b[0m\u001b[37m\u001b[0m \u001b[1m18s\u001b[0m 6ms/step - loss: 36907.1719 - val_loss: 34834.7031\n",
      "Epoch 9/20\n",
      "\u001b[1m2873/2873\u001b[0m \u001b[32m━━━━━━━━━━━━━━━━━━━━\u001b[0m\u001b[37m\u001b[0m \u001b[1m18s\u001b[0m 6ms/step - loss: 36233.5195 - val_loss: 35642.2539\n",
      "Epoch 10/20\n",
      "\u001b[1m2873/2873\u001b[0m \u001b[32m━━━━━━━━━━━━━━━━━━━━\u001b[0m\u001b[37m\u001b[0m \u001b[1m18s\u001b[0m 6ms/step - loss: 35566.4531 - val_loss: 35497.7344\n",
      "Epoch 11/20\n",
      "\u001b[1m2873/2873\u001b[0m \u001b[32m━━━━━━━━━━━━━━━━━━━━\u001b[0m\u001b[37m\u001b[0m \u001b[1m17s\u001b[0m 6ms/step - loss: 34187.8594 - val_loss: 35325.0703\n",
      "Epoch 12/20\n",
      "\u001b[1m2873/2873\u001b[0m \u001b[32m━━━━━━━━━━━━━━━━━━━━\u001b[0m\u001b[37m\u001b[0m \u001b[1m18s\u001b[0m 6ms/step - loss: 34840.1719 - val_loss: 36831.4062\n",
      "Epoch 13/20\n",
      "\u001b[1m2873/2873\u001b[0m \u001b[32m━━━━━━━━━━━━━━━━━━━━\u001b[0m\u001b[37m\u001b[0m \u001b[1m18s\u001b[0m 6ms/step - loss: 33148.5977 - val_loss: 33487.5625\n",
      "Epoch 14/20\n",
      "\u001b[1m2873/2873\u001b[0m \u001b[32m━━━━━━━━━━━━━━━━━━━━\u001b[0m\u001b[37m\u001b[0m \u001b[1m18s\u001b[0m 6ms/step - loss: 33494.9297 - val_loss: 32533.1289\n",
      "Epoch 15/20\n",
      "\u001b[1m2873/2873\u001b[0m \u001b[32m━━━━━━━━━━━━━━━━━━━━\u001b[0m\u001b[37m\u001b[0m \u001b[1m18s\u001b[0m 6ms/step - loss: 31826.1582 - val_loss: 35348.9062\n",
      "Epoch 16/20\n",
      "\u001b[1m2873/2873\u001b[0m \u001b[32m━━━━━━━━━━━━━━━━━━━━\u001b[0m\u001b[37m\u001b[0m \u001b[1m18s\u001b[0m 6ms/step - loss: 31748.7930 - val_loss: 34185.1562\n",
      "Epoch 17/20\n",
      "\u001b[1m2873/2873\u001b[0m \u001b[32m━━━━━━━━━━━━━━━━━━━━\u001b[0m\u001b[37m\u001b[0m \u001b[1m18s\u001b[0m 6ms/step - loss: 30932.9883 - val_loss: 37210.6602\n",
      "Epoch 18/20\n",
      "\u001b[1m2873/2873\u001b[0m \u001b[32m━━━━━━━━━━━━━━━━━━━━\u001b[0m\u001b[37m\u001b[0m \u001b[1m18s\u001b[0m 6ms/step - loss: 31103.1074 - val_loss: 33936.3906\n",
      "Epoch 19/20\n",
      "\u001b[1m2873/2873\u001b[0m \u001b[32m━━━━━━━━━━━━━━━━━━━━\u001b[0m\u001b[37m\u001b[0m \u001b[1m19s\u001b[0m 7ms/step - loss: 30523.1777 - val_loss: 34832.1953\n",
      "Epoch 20/20\n",
      "\u001b[1m2873/2873\u001b[0m \u001b[32m━━━━━━━━━━━━━━━━━━━━\u001b[0m\u001b[37m\u001b[0m \u001b[1m19s\u001b[0m 7ms/step - loss: 29625.7344 - val_loss: 33526.3984\n"
     ]
    },
    {
     "data": {
      "text/plain": [
       "<keras.src.callbacks.history.History at 0x7e46ab13a020>"
      ]
     },
     "execution_count": 423,
     "metadata": {},
     "output_type": "execute_result"
    }
   ],
   "source": [
    "model.fit(x_train, y_train, epochs=20, batch_size=128, validation_data=(x_test, y_test))\n",
    "\n"
   ]
  },
  {
   "cell_type": "code",
   "execution_count": 424,
   "metadata": {
    "execution": {
     "iopub.execute_input": "2024-09-01T12:28:01.504379Z",
     "iopub.status.busy": "2024-09-01T12:28:01.503521Z",
     "iopub.status.idle": "2024-09-01T12:28:08.498144Z",
     "shell.execute_reply": "2024-09-01T12:28:08.497272Z",
     "shell.execute_reply.started": "2024-09-01T12:28:01.504324Z"
    }
   },
   "outputs": [
    {
     "name": "stdout",
     "output_type": "stream",
     "text": [
      "\u001b[1m2769/2769\u001b[0m \u001b[32m━━━━━━━━━━━━━━━━━━━━\u001b[0m\u001b[37m\u001b[0m \u001b[1m7s\u001b[0m 2ms/step - loss: 34086.5078\n"
     ]
    }
   ],
   "source": [
    "val_loss = model.evaluate(x_test, y_test)"
   ]
  },
  {
   "cell_type": "code",
   "execution_count": null,
   "metadata": {},
   "outputs": [],
   "source": [
    "print(f'Validation Loss: {val_loss}')"
   ]
  },
  {
   "cell_type": "code",
   "execution_count": 426,
   "metadata": {
    "execution": {
     "iopub.execute_input": "2024-09-01T12:28:08.509600Z",
     "iopub.status.busy": "2024-09-01T12:28:08.508858Z",
     "iopub.status.idle": "2024-09-01T12:28:15.754319Z",
     "shell.execute_reply": "2024-09-01T12:28:15.753322Z",
     "shell.execute_reply.started": "2024-09-01T12:28:08.509548Z"
    }
   },
   "outputs": [
    {
     "name": "stdout",
     "output_type": "stream",
     "text": [
      "\u001b[1m2769/2769\u001b[0m \u001b[32m━━━━━━━━━━━━━━━━━━━━\u001b[0m\u001b[37m\u001b[0m \u001b[1m6s\u001b[0m 2ms/step\n"
     ]
    }
   ],
   "source": [
    "y_pred = model.predict(x_test)"
   ]
  },
  {
   "cell_type": "code",
   "execution_count": 427,
   "metadata": {
    "execution": {
     "iopub.execute_input": "2024-09-01T12:28:15.756145Z",
     "iopub.status.busy": "2024-09-01T12:28:15.755771Z",
     "iopub.status.idle": "2024-09-01T12:28:15.768944Z",
     "shell.execute_reply": "2024-09-01T12:28:15.767864Z",
     "shell.execute_reply.started": "2024-09-01T12:28:15.756106Z"
    }
   },
   "outputs": [
    {
     "name": "stdout",
     "output_type": "stream",
     "text": [
      "Mean Squared Error: 33526.39719796279\n",
      "Mean Absolute Error: 100.72358141443785\n",
      "r2_score: 0.7093522616804815\n",
      "mean_absolute_percentage_error:0.7998702257820434\n"
     ]
    }
   ],
   "source": [
    "mse = mean_squared_error(y_test, y_pred)\n",
    "mae = mean_absolute_error(y_test, y_pred)\n",
    "r2_score=r2_score(y_test, y_pred)\n",
    "mape=mean_absolute_percentage_error(y_test, y_pred)\n",
    "print(f'Mean Squared Error: {mse}')\n",
    "print(f'Mean Absolute Error: {mae}')\n",
    "print(f'r2_score: {r2_score}')\n",
    "print(f'mean_absolute_percentage_error:{mape}')"
   ]
  },
  {
   "cell_type": "markdown",
   "metadata": {},
   "source": [
    "## Lstm"
   ]
  },
  {
   "cell_type": "code",
   "execution_count": 454,
   "metadata": {
    "execution": {
     "iopub.execute_input": "2024-09-01T12:59:49.929581Z",
     "iopub.status.busy": "2024-09-01T12:59:49.929203Z",
     "iopub.status.idle": "2024-09-01T12:59:49.945105Z",
     "shell.execute_reply": "2024-09-01T12:59:49.944085Z",
     "shell.execute_reply.started": "2024-09-01T12:59:49.929546Z"
    }
   },
   "outputs": [
    {
     "data": {
      "text/html": [
       "<div>\n",
       "<style scoped>\n",
       "    .dataframe tbody tr th:only-of-type {\n",
       "        vertical-align: middle;\n",
       "    }\n",
       "\n",
       "    .dataframe tbody tr th {\n",
       "        vertical-align: top;\n",
       "    }\n",
       "\n",
       "    .dataframe thead th {\n",
       "        text-align: right;\n",
       "    }\n",
       "</style>\n",
       "<table border=\"1\" class=\"dataframe\">\n",
       "  <thead>\n",
       "    <tr style=\"text-align: right;\">\n",
       "      <th></th>\n",
       "      <th>week</th>\n",
       "      <th>center_id</th>\n",
       "      <th>meal_id</th>\n",
       "      <th>checkout_price</th>\n",
       "      <th>base_price</th>\n",
       "      <th>emailer_for_promotion</th>\n",
       "      <th>homepage_featured</th>\n",
       "      <th>num_orders</th>\n",
       "      <th>city_code</th>\n",
       "      <th>region_code</th>\n",
       "      <th>center_type</th>\n",
       "      <th>op_area</th>\n",
       "      <th>category</th>\n",
       "      <th>cuisine</th>\n",
       "    </tr>\n",
       "  </thead>\n",
       "  <tbody>\n",
       "    <tr>\n",
       "      <th>0</th>\n",
       "      <td>1</td>\n",
       "      <td>93</td>\n",
       "      <td>1971</td>\n",
       "      <td>261</td>\n",
       "      <td>289</td>\n",
       "      <td>1</td>\n",
       "      <td>0</td>\n",
       "      <td>528</td>\n",
       "      <td>461</td>\n",
       "      <td>34</td>\n",
       "      <td>0</td>\n",
       "      <td>3.9</td>\n",
       "      <td>10</td>\n",
       "      <td>2</td>\n",
       "    </tr>\n",
       "    <tr>\n",
       "      <th>1</th>\n",
       "      <td>1</td>\n",
       "      <td>83</td>\n",
       "      <td>1248</td>\n",
       "      <td>152</td>\n",
       "      <td>240</td>\n",
       "      <td>0</td>\n",
       "      <td>0</td>\n",
       "      <td>107</td>\n",
       "      <td>659</td>\n",
       "      <td>77</td>\n",
       "      <td>0</td>\n",
       "      <td>5.3</td>\n",
       "      <td>0</td>\n",
       "      <td>1</td>\n",
       "    </tr>\n",
       "    <tr>\n",
       "      <th>2</th>\n",
       "      <td>1</td>\n",
       "      <td>67</td>\n",
       "      <td>1248</td>\n",
       "      <td>251</td>\n",
       "      <td>253</td>\n",
       "      <td>0</td>\n",
       "      <td>0</td>\n",
       "      <td>26</td>\n",
       "      <td>638</td>\n",
       "      <td>56</td>\n",
       "      <td>1</td>\n",
       "      <td>7.0</td>\n",
       "      <td>0</td>\n",
       "      <td>1</td>\n",
       "    </tr>\n",
       "    <tr>\n",
       "      <th>3</th>\n",
       "      <td>1</td>\n",
       "      <td>17</td>\n",
       "      <td>1902</td>\n",
       "      <td>387</td>\n",
       "      <td>446</td>\n",
       "      <td>0</td>\n",
       "      <td>0</td>\n",
       "      <td>55</td>\n",
       "      <td>517</td>\n",
       "      <td>56</td>\n",
       "      <td>0</td>\n",
       "      <td>3.2</td>\n",
       "      <td>1</td>\n",
       "      <td>1</td>\n",
       "    </tr>\n",
       "    <tr>\n",
       "      <th>4</th>\n",
       "      <td>1</td>\n",
       "      <td>139</td>\n",
       "      <td>2581</td>\n",
       "      <td>584</td>\n",
       "      <td>613</td>\n",
       "      <td>1</td>\n",
       "      <td>1</td>\n",
       "      <td>149</td>\n",
       "      <td>693</td>\n",
       "      <td>34</td>\n",
       "      <td>2</td>\n",
       "      <td>2.8</td>\n",
       "      <td>7</td>\n",
       "      <td>0</td>\n",
       "    </tr>\n",
       "  </tbody>\n",
       "</table>\n",
       "</div>"
      ],
      "text/plain": [
       "   week  center_id  meal_id  checkout_price  base_price  \\\n",
       "0     1         93     1971             261         289   \n",
       "1     1         83     1248             152         240   \n",
       "2     1         67     1248             251         253   \n",
       "3     1         17     1902             387         446   \n",
       "4     1        139     2581             584         613   \n",
       "\n",
       "   emailer_for_promotion  homepage_featured  num_orders  city_code  \\\n",
       "0                      1                  0         528        461   \n",
       "1                      0                  0         107        659   \n",
       "2                      0                  0          26        638   \n",
       "3                      0                  0          55        517   \n",
       "4                      1                  1         149        693   \n",
       "\n",
       "   region_code  center_type  op_area  category  cuisine  \n",
       "0           34            0      3.9        10        2  \n",
       "1           77            0      5.3         0        1  \n",
       "2           56            1      7.0         0        1  \n",
       "3           56            0      3.2         1        1  \n",
       "4           34            2      2.8         7        0  "
      ]
     },
     "execution_count": 454,
     "metadata": {},
     "output_type": "execute_result"
    }
   ],
   "source": [
    "df3.head()"
   ]
  },
  {
   "cell_type": "code",
   "execution_count": 478,
   "metadata": {
    "execution": {
     "iopub.execute_input": "2024-09-01T13:03:54.668146Z",
     "iopub.status.busy": "2024-09-01T13:03:54.667189Z",
     "iopub.status.idle": "2024-09-01T13:03:54.699674Z",
     "shell.execute_reply": "2024-09-01T13:03:54.698803Z",
     "shell.execute_reply.started": "2024-09-01T13:03:54.668102Z"
    }
   },
   "outputs": [],
   "source": [
    "df3=df3[df3['num_orders']<5000]"
   ]
  },
  {
   "cell_type": "code",
   "execution_count": 479,
   "metadata": {
    "execution": {
     "iopub.execute_input": "2024-09-01T13:03:55.037499Z",
     "iopub.status.busy": "2024-09-01T13:03:55.037130Z",
     "iopub.status.idle": "2024-09-01T13:03:55.042987Z",
     "shell.execute_reply": "2024-09-01T13:03:55.041891Z",
     "shell.execute_reply.started": "2024-09-01T13:03:55.037463Z"
    }
   },
   "outputs": [],
   "source": [
    "df3.set_index('week',inplace=True)"
   ]
  },
  {
   "cell_type": "code",
   "execution_count": 480,
   "metadata": {
    "execution": {
     "iopub.execute_input": "2024-09-01T13:04:10.496516Z",
     "iopub.status.busy": "2024-09-01T13:04:10.495393Z",
     "iopub.status.idle": "2024-09-01T13:04:10.514204Z",
     "shell.execute_reply": "2024-09-01T13:04:10.513018Z",
     "shell.execute_reply.started": "2024-09-01T13:04:10.496441Z"
    }
   },
   "outputs": [],
   "source": [
    "X=df3.drop('num_orders',axis=1)\n",
    "y=df3['num_orders']"
   ]
  },
  {
   "cell_type": "code",
   "execution_count": 481,
   "metadata": {
    "execution": {
     "iopub.execute_input": "2024-09-01T13:04:10.516377Z",
     "iopub.status.busy": "2024-09-01T13:04:10.516037Z",
     "iopub.status.idle": "2024-09-01T13:04:10.528048Z",
     "shell.execute_reply": "2024-09-01T13:04:10.527003Z",
     "shell.execute_reply.started": "2024-09-01T13:04:10.516343Z"
    }
   },
   "outputs": [
    {
     "data": {
      "text/plain": [
       "367692"
      ]
     },
     "execution_count": 481,
     "metadata": {},
     "output_type": "execute_result"
    }
   ],
   "source": [
    "len(X.loc[:118])"
   ]
  },
  {
   "cell_type": "code",
   "execution_count": 518,
   "metadata": {
    "execution": {
     "iopub.execute_input": "2024-09-01T13:14:42.373907Z",
     "iopub.status.busy": "2024-09-01T13:14:42.373600Z",
     "iopub.status.idle": "2024-09-01T13:14:42.383838Z",
     "shell.execute_reply": "2024-09-01T13:14:42.382787Z",
     "shell.execute_reply.started": "2024-09-01T13:14:42.373875Z"
    }
   },
   "outputs": [
    {
     "data": {
      "text/plain": [
       "367692"
      ]
     },
     "execution_count": 518,
     "metadata": {},
     "output_type": "execute_result"
    }
   ],
   "source": [
    "len(y.loc[:118])"
   ]
  },
  {
   "cell_type": "code",
   "execution_count": 482,
   "metadata": {
    "execution": {
     "iopub.execute_input": "2024-09-01T13:04:10.529984Z",
     "iopub.status.busy": "2024-09-01T13:04:10.529350Z",
     "iopub.status.idle": "2024-09-01T13:04:10.534573Z",
     "shell.execute_reply": "2024-09-01T13:04:10.533457Z",
     "shell.execute_reply.started": "2024-09-01T13:04:10.529937Z"
    }
   },
   "outputs": [],
   "source": [
    "from sklearn.preprocessing import StandardScaler"
   ]
  },
  {
   "cell_type": "code",
   "execution_count": 483,
   "metadata": {
    "execution": {
     "iopub.execute_input": "2024-09-01T13:04:10.535975Z",
     "iopub.status.busy": "2024-09-01T13:04:10.535694Z",
     "iopub.status.idle": "2024-09-01T13:04:10.645873Z",
     "shell.execute_reply": "2024-09-01T13:04:10.644829Z",
     "shell.execute_reply.started": "2024-09-01T13:04:10.535944Z"
    }
   },
   "outputs": [],
   "source": [
    "scaler = StandardScaler()\n",
    "scaled_x=scaler.fit_transform(X)"
   ]
  },
  {
   "cell_type": "code",
   "execution_count": 520,
   "metadata": {
    "execution": {
     "iopub.execute_input": "2024-09-01T13:15:52.230169Z",
     "iopub.status.busy": "2024-09-01T13:15:52.229759Z",
     "iopub.status.idle": "2024-09-01T13:15:52.235744Z",
     "shell.execute_reply": "2024-09-01T13:15:52.234613Z",
     "shell.execute_reply.started": "2024-09-01T13:15:52.230131Z"
    }
   },
   "outputs": [],
   "source": [
    "x_train=scaled_x[:367692]\n",
    "x_test=scaled_x[367692:]\n",
    "y_train=y.loc[:118]\n",
    "y_test=y.loc[119:]"
   ]
  },
  {
   "cell_type": "code",
   "execution_count": null,
   "metadata": {},
   "outputs": [],
   "source": []
  },
  {
   "cell_type": "code",
   "execution_count": 521,
   "metadata": {
    "execution": {
     "iopub.execute_input": "2024-09-01T13:16:07.809428Z",
     "iopub.status.busy": "2024-09-01T13:16:07.809025Z",
     "iopub.status.idle": "2024-09-01T13:16:07.878436Z",
     "shell.execute_reply": "2024-09-01T13:16:07.877419Z",
     "shell.execute_reply.started": "2024-09-01T13:16:07.809391Z"
    }
   },
   "outputs": [
    {
     "name": "stderr",
     "output_type": "stream",
     "text": [
      "/opt/conda/lib/python3.10/site-packages/keras/src/layers/rnn/rnn.py:204: UserWarning: Do not pass an `input_shape`/`input_dim` argument to a layer. When using Sequential models, prefer using an `Input(shape)` object as the first layer in the model instead.\n",
      "  super().__init__(**kwargs)\n"
     ]
    }
   ],
   "source": [
    "model=Sequential()\n",
    "model.add(LSTM(128,return_sequences=True,input_shape=(x_train.shape[1],1)))\n",
    "model.add(LSTM(64,return_sequences=False))\n",
    "model.add(Dense(25))\n",
    "model.add(Dense(1))"
   ]
  },
  {
   "cell_type": "code",
   "execution_count": 522,
   "metadata": {
    "execution": {
     "iopub.execute_input": "2024-09-01T13:16:08.386126Z",
     "iopub.status.busy": "2024-09-01T13:16:08.385718Z",
     "iopub.status.idle": "2024-09-01T13:16:08.406108Z",
     "shell.execute_reply": "2024-09-01T13:16:08.405075Z",
     "shell.execute_reply.started": "2024-09-01T13:16:08.386084Z"
    }
   },
   "outputs": [
    {
     "data": {
      "text/html": [
       "<pre style=\"white-space:pre;overflow-x:auto;line-height:normal;font-family:Menlo,'DejaVu Sans Mono',consolas,'Courier New',monospace\"><span style=\"font-weight: bold\">Model: \"sequential_14\"</span>\n",
       "</pre>\n"
      ],
      "text/plain": [
       "\u001b[1mModel: \"sequential_14\"\u001b[0m\n"
      ]
     },
     "metadata": {},
     "output_type": "display_data"
    },
    {
     "data": {
      "text/html": [
       "<pre style=\"white-space:pre;overflow-x:auto;line-height:normal;font-family:Menlo,'DejaVu Sans Mono',consolas,'Courier New',monospace\">┏━━━━━━━━━━━━━━━━━━━━━━━━━━━━━━━━━┳━━━━━━━━━━━━━━━━━━━━━━━━┳━━━━━━━━━━━━━━━┓\n",
       "┃<span style=\"font-weight: bold\"> Layer (type)                    </span>┃<span style=\"font-weight: bold\"> Output Shape           </span>┃<span style=\"font-weight: bold\">       Param # </span>┃\n",
       "┡━━━━━━━━━━━━━━━━━━━━━━━━━━━━━━━━━╇━━━━━━━━━━━━━━━━━━━━━━━━╇━━━━━━━━━━━━━━━┩\n",
       "│ lstm_28 (<span style=\"color: #0087ff; text-decoration-color: #0087ff\">LSTM</span>)                  │ (<span style=\"color: #00d7ff; text-decoration-color: #00d7ff\">None</span>, <span style=\"color: #00af00; text-decoration-color: #00af00\">12</span>, <span style=\"color: #00af00; text-decoration-color: #00af00\">128</span>)        │        <span style=\"color: #00af00; text-decoration-color: #00af00\">66,560</span> │\n",
       "├─────────────────────────────────┼────────────────────────┼───────────────┤\n",
       "│ lstm_29 (<span style=\"color: #0087ff; text-decoration-color: #0087ff\">LSTM</span>)                  │ (<span style=\"color: #00d7ff; text-decoration-color: #00d7ff\">None</span>, <span style=\"color: #00af00; text-decoration-color: #00af00\">64</span>)             │        <span style=\"color: #00af00; text-decoration-color: #00af00\">49,408</span> │\n",
       "├─────────────────────────────────┼────────────────────────┼───────────────┤\n",
       "│ dense_28 (<span style=\"color: #0087ff; text-decoration-color: #0087ff\">Dense</span>)                │ (<span style=\"color: #00d7ff; text-decoration-color: #00d7ff\">None</span>, <span style=\"color: #00af00; text-decoration-color: #00af00\">25</span>)             │         <span style=\"color: #00af00; text-decoration-color: #00af00\">1,625</span> │\n",
       "├─────────────────────────────────┼────────────────────────┼───────────────┤\n",
       "│ dense_29 (<span style=\"color: #0087ff; text-decoration-color: #0087ff\">Dense</span>)                │ (<span style=\"color: #00d7ff; text-decoration-color: #00d7ff\">None</span>, <span style=\"color: #00af00; text-decoration-color: #00af00\">1</span>)              │            <span style=\"color: #00af00; text-decoration-color: #00af00\">26</span> │\n",
       "└─────────────────────────────────┴────────────────────────┴───────────────┘\n",
       "</pre>\n"
      ],
      "text/plain": [
       "┏━━━━━━━━━━━━━━━━━━━━━━━━━━━━━━━━━┳━━━━━━━━━━━━━━━━━━━━━━━━┳━━━━━━━━━━━━━━━┓\n",
       "┃\u001b[1m \u001b[0m\u001b[1mLayer (type)                   \u001b[0m\u001b[1m \u001b[0m┃\u001b[1m \u001b[0m\u001b[1mOutput Shape          \u001b[0m\u001b[1m \u001b[0m┃\u001b[1m \u001b[0m\u001b[1m      Param #\u001b[0m\u001b[1m \u001b[0m┃\n",
       "┡━━━━━━━━━━━━━━━━━━━━━━━━━━━━━━━━━╇━━━━━━━━━━━━━━━━━━━━━━━━╇━━━━━━━━━━━━━━━┩\n",
       "│ lstm_28 (\u001b[38;5;33mLSTM\u001b[0m)                  │ (\u001b[38;5;45mNone\u001b[0m, \u001b[38;5;34m12\u001b[0m, \u001b[38;5;34m128\u001b[0m)        │        \u001b[38;5;34m66,560\u001b[0m │\n",
       "├─────────────────────────────────┼────────────────────────┼───────────────┤\n",
       "│ lstm_29 (\u001b[38;5;33mLSTM\u001b[0m)                  │ (\u001b[38;5;45mNone\u001b[0m, \u001b[38;5;34m64\u001b[0m)             │        \u001b[38;5;34m49,408\u001b[0m │\n",
       "├─────────────────────────────────┼────────────────────────┼───────────────┤\n",
       "│ dense_28 (\u001b[38;5;33mDense\u001b[0m)                │ (\u001b[38;5;45mNone\u001b[0m, \u001b[38;5;34m25\u001b[0m)             │         \u001b[38;5;34m1,625\u001b[0m │\n",
       "├─────────────────────────────────┼────────────────────────┼───────────────┤\n",
       "│ dense_29 (\u001b[38;5;33mDense\u001b[0m)                │ (\u001b[38;5;45mNone\u001b[0m, \u001b[38;5;34m1\u001b[0m)              │            \u001b[38;5;34m26\u001b[0m │\n",
       "└─────────────────────────────────┴────────────────────────┴───────────────┘\n"
      ]
     },
     "metadata": {},
     "output_type": "display_data"
    },
    {
     "data": {
      "text/html": [
       "<pre style=\"white-space:pre;overflow-x:auto;line-height:normal;font-family:Menlo,'DejaVu Sans Mono',consolas,'Courier New',monospace\"><span style=\"font-weight: bold\"> Total params: </span><span style=\"color: #00af00; text-decoration-color: #00af00\">117,619</span> (459.45 KB)\n",
       "</pre>\n"
      ],
      "text/plain": [
       "\u001b[1m Total params: \u001b[0m\u001b[38;5;34m117,619\u001b[0m (459.45 KB)\n"
      ]
     },
     "metadata": {},
     "output_type": "display_data"
    },
    {
     "data": {
      "text/html": [
       "<pre style=\"white-space:pre;overflow-x:auto;line-height:normal;font-family:Menlo,'DejaVu Sans Mono',consolas,'Courier New',monospace\"><span style=\"font-weight: bold\"> Trainable params: </span><span style=\"color: #00af00; text-decoration-color: #00af00\">117,619</span> (459.45 KB)\n",
       "</pre>\n"
      ],
      "text/plain": [
       "\u001b[1m Trainable params: \u001b[0m\u001b[38;5;34m117,619\u001b[0m (459.45 KB)\n"
      ]
     },
     "metadata": {},
     "output_type": "display_data"
    },
    {
     "data": {
      "text/html": [
       "<pre style=\"white-space:pre;overflow-x:auto;line-height:normal;font-family:Menlo,'DejaVu Sans Mono',consolas,'Courier New',monospace\"><span style=\"font-weight: bold\"> Non-trainable params: </span><span style=\"color: #00af00; text-decoration-color: #00af00\">0</span> (0.00 B)\n",
       "</pre>\n"
      ],
      "text/plain": [
       "\u001b[1m Non-trainable params: \u001b[0m\u001b[38;5;34m0\u001b[0m (0.00 B)\n"
      ]
     },
     "metadata": {},
     "output_type": "display_data"
    }
   ],
   "source": [
    "model.summary()"
   ]
  },
  {
   "cell_type": "code",
   "execution_count": 523,
   "metadata": {
    "execution": {
     "iopub.execute_input": "2024-09-01T13:16:09.032556Z",
     "iopub.status.busy": "2024-09-01T13:16:09.031825Z",
     "iopub.status.idle": "2024-09-01T13:16:09.041801Z",
     "shell.execute_reply": "2024-09-01T13:16:09.040928Z",
     "shell.execute_reply.started": "2024-09-01T13:16:09.032514Z"
    }
   },
   "outputs": [],
   "source": [
    "model.compile(optimizer='adam', loss='mean_squared_error')\n"
   ]
  },
  {
   "cell_type": "code",
   "execution_count": 524,
   "metadata": {
    "execution": {
     "iopub.execute_input": "2024-09-01T13:16:10.803800Z",
     "iopub.status.busy": "2024-09-01T13:16:10.803403Z",
     "iopub.status.idle": "2024-09-01T13:21:54.613936Z",
     "shell.execute_reply": "2024-09-01T13:21:54.612957Z",
     "shell.execute_reply.started": "2024-09-01T13:16:10.803764Z"
    }
   },
   "outputs": [
    {
     "name": "stdout",
     "output_type": "stream",
     "text": [
      "Epoch 1/20\n",
      "\u001b[1m2873/2873\u001b[0m \u001b[32m━━━━━━━━━━━━━━━━━━━━\u001b[0m\u001b[37m\u001b[0m \u001b[1m19s\u001b[0m 6ms/step - loss: 140695.0000 - val_loss: 83939.0703\n",
      "Epoch 2/20\n",
      "\u001b[1m2873/2873\u001b[0m \u001b[32m━━━━━━━━━━━━━━━━━━━━\u001b[0m\u001b[37m\u001b[0m \u001b[1m17s\u001b[0m 6ms/step - loss: 70372.2031 - val_loss: 41082.5547\n",
      "Epoch 3/20\n",
      "\u001b[1m2873/2873\u001b[0m \u001b[32m━━━━━━━━━━━━━━━━━━━━\u001b[0m\u001b[37m\u001b[0m \u001b[1m17s\u001b[0m 6ms/step - loss: 42439.5156 - val_loss: 34457.4375\n",
      "Epoch 4/20\n",
      "\u001b[1m2873/2873\u001b[0m \u001b[32m━━━━━━━━━━━━━━━━━━━━\u001b[0m\u001b[37m\u001b[0m \u001b[1m17s\u001b[0m 6ms/step - loss: 37575.2305 - val_loss: 30420.0684\n",
      "Epoch 5/20\n",
      "\u001b[1m2873/2873\u001b[0m \u001b[32m━━━━━━━━━━━━━━━━━━━━\u001b[0m\u001b[37m\u001b[0m \u001b[1m17s\u001b[0m 6ms/step - loss: 34237.9531 - val_loss: 29300.6719\n",
      "Epoch 6/20\n",
      "\u001b[1m2873/2873\u001b[0m \u001b[32m━━━━━━━━━━━━━━━━━━━━\u001b[0m\u001b[37m\u001b[0m \u001b[1m17s\u001b[0m 6ms/step - loss: 31672.4961 - val_loss: 28513.7148\n",
      "Epoch 7/20\n",
      "\u001b[1m2873/2873\u001b[0m \u001b[32m━━━━━━━━━━━━━━━━━━━━\u001b[0m\u001b[37m\u001b[0m \u001b[1m17s\u001b[0m 6ms/step - loss: 30031.8027 - val_loss: 27743.8398\n",
      "Epoch 8/20\n",
      "\u001b[1m2873/2873\u001b[0m \u001b[32m━━━━━━━━━━━━━━━━━━━━\u001b[0m\u001b[37m\u001b[0m \u001b[1m17s\u001b[0m 6ms/step - loss: 28480.8301 - val_loss: 26180.1309\n",
      "Epoch 9/20\n",
      "\u001b[1m2873/2873\u001b[0m \u001b[32m━━━━━━━━━━━━━━━━━━━━\u001b[0m\u001b[37m\u001b[0m \u001b[1m17s\u001b[0m 6ms/step - loss: 27853.8301 - val_loss: 26179.5410\n",
      "Epoch 10/20\n",
      "\u001b[1m2873/2873\u001b[0m \u001b[32m━━━━━━━━━━━━━━━━━━━━\u001b[0m\u001b[37m\u001b[0m \u001b[1m17s\u001b[0m 6ms/step - loss: 26393.6816 - val_loss: 26587.9082\n",
      "Epoch 11/20\n",
      "\u001b[1m2873/2873\u001b[0m \u001b[32m━━━━━━━━━━━━━━━━━━━━\u001b[0m\u001b[37m\u001b[0m \u001b[1m18s\u001b[0m 6ms/step - loss: 25712.3906 - val_loss: 23884.8047\n",
      "Epoch 12/20\n",
      "\u001b[1m2873/2873\u001b[0m \u001b[32m━━━━━━━━━━━━━━━━━━━━\u001b[0m\u001b[37m\u001b[0m \u001b[1m17s\u001b[0m 6ms/step - loss: 25012.5527 - val_loss: 25495.9023\n",
      "Epoch 13/20\n",
      "\u001b[1m2873/2873\u001b[0m \u001b[32m━━━━━━━━━━━━━━━━━━━━\u001b[0m\u001b[37m\u001b[0m \u001b[1m17s\u001b[0m 6ms/step - loss: 24362.4336 - val_loss: 24618.0938\n",
      "Epoch 14/20\n",
      "\u001b[1m2873/2873\u001b[0m \u001b[32m━━━━━━━━━━━━━━━━━━━━\u001b[0m\u001b[37m\u001b[0m \u001b[1m17s\u001b[0m 6ms/step - loss: 23909.5117 - val_loss: 24322.4277\n",
      "Epoch 15/20\n",
      "\u001b[1m2873/2873\u001b[0m \u001b[32m━━━━━━━━━━━━━━━━━━━━\u001b[0m\u001b[37m\u001b[0m \u001b[1m17s\u001b[0m 6ms/step - loss: 23622.7305 - val_loss: 23210.4922\n",
      "Epoch 16/20\n",
      "\u001b[1m2873/2873\u001b[0m \u001b[32m━━━━━━━━━━━━━━━━━━━━\u001b[0m\u001b[37m\u001b[0m \u001b[1m17s\u001b[0m 6ms/step - loss: 22446.2461 - val_loss: 24684.7832\n",
      "Epoch 17/20\n",
      "\u001b[1m2873/2873\u001b[0m \u001b[32m━━━━━━━━━━━━━━━━━━━━\u001b[0m\u001b[37m\u001b[0m \u001b[1m17s\u001b[0m 6ms/step - loss: 22007.1914 - val_loss: 23497.7637\n",
      "Epoch 18/20\n",
      "\u001b[1m2873/2873\u001b[0m \u001b[32m━━━━━━━━━━━━━━━━━━━━\u001b[0m\u001b[37m\u001b[0m \u001b[1m17s\u001b[0m 6ms/step - loss: 21889.5781 - val_loss: 23708.4395\n",
      "Epoch 19/20\n",
      "\u001b[1m2873/2873\u001b[0m \u001b[32m━━━━━━━━━━━━━━━━━━━━\u001b[0m\u001b[37m\u001b[0m \u001b[1m17s\u001b[0m 6ms/step - loss: 21865.2520 - val_loss: 23822.9785\n",
      "Epoch 20/20\n",
      "\u001b[1m2873/2873\u001b[0m \u001b[32m━━━━━━━━━━━━━━━━━━━━\u001b[0m\u001b[37m\u001b[0m \u001b[1m17s\u001b[0m 6ms/step - loss: 21398.6094 - val_loss: 24172.1133\n"
     ]
    },
    {
     "data": {
      "text/plain": [
       "<keras.src.callbacks.history.History at 0x7e46abd1add0>"
      ]
     },
     "execution_count": 524,
     "metadata": {},
     "output_type": "execute_result"
    }
   ],
   "source": [
    "model.fit(x_train, y_train, epochs=20, batch_size=128, validation_data=(x_test, y_test))\n",
    "\n"
   ]
  },
  {
   "cell_type": "code",
   "execution_count": 525,
   "metadata": {
    "execution": {
     "iopub.execute_input": "2024-09-01T13:21:54.616086Z",
     "iopub.status.busy": "2024-09-01T13:21:54.615672Z",
     "iopub.status.idle": "2024-09-01T13:22:00.948383Z",
     "shell.execute_reply": "2024-09-01T13:22:00.947520Z",
     "shell.execute_reply.started": "2024-09-01T13:21:54.616021Z"
    }
   },
   "outputs": [
    {
     "name": "stdout",
     "output_type": "stream",
     "text": [
      "\u001b[1m2769/2769\u001b[0m \u001b[32m━━━━━━━━━━━━━━━━━━━━\u001b[0m\u001b[37m\u001b[0m \u001b[1m6s\u001b[0m 2ms/step - loss: 24286.6953\n"
     ]
    }
   ],
   "source": [
    "val_loss = model.evaluate(x_test, y_test)"
   ]
  },
  {
   "cell_type": "code",
   "execution_count": 526,
   "metadata": {
    "execution": {
     "iopub.execute_input": "2024-09-01T13:22:00.949962Z",
     "iopub.status.busy": "2024-09-01T13:22:00.949649Z",
     "iopub.status.idle": "2024-09-01T13:22:00.954781Z",
     "shell.execute_reply": "2024-09-01T13:22:00.953890Z",
     "shell.execute_reply.started": "2024-09-01T13:22:00.949929Z"
    }
   },
   "outputs": [
    {
     "name": "stdout",
     "output_type": "stream",
     "text": [
      "Validation Loss: 24172.12109375\n"
     ]
    }
   ],
   "source": [
    "print(f'Validation Loss: {val_loss}')"
   ]
  },
  {
   "cell_type": "code",
   "execution_count": 527,
   "metadata": {
    "execution": {
     "iopub.execute_input": "2024-09-01T13:22:00.957927Z",
     "iopub.status.busy": "2024-09-01T13:22:00.957201Z",
     "iopub.status.idle": "2024-09-01T13:22:07.621772Z",
     "shell.execute_reply": "2024-09-01T13:22:07.620337Z",
     "shell.execute_reply.started": "2024-09-01T13:22:00.957881Z"
    }
   },
   "outputs": [
    {
     "name": "stdout",
     "output_type": "stream",
     "text": [
      "\u001b[1m2769/2769\u001b[0m \u001b[32m━━━━━━━━━━━━━━━━━━━━\u001b[0m\u001b[37m\u001b[0m \u001b[1m6s\u001b[0m 2ms/step\n"
     ]
    }
   ],
   "source": [
    "y_pred = model.predict(x_test)"
   ]
  },
  {
   "cell_type": "code",
   "execution_count": 528,
   "metadata": {
    "execution": {
     "iopub.execute_input": "2024-09-01T13:22:07.623913Z",
     "iopub.status.busy": "2024-09-01T13:22:07.623464Z",
     "iopub.status.idle": "2024-09-01T13:22:07.637409Z",
     "shell.execute_reply": "2024-09-01T13:22:07.636381Z",
     "shell.execute_reply.started": "2024-09-01T13:22:07.623861Z"
    }
   },
   "outputs": [
    {
     "name": "stdout",
     "output_type": "stream",
     "text": [
      "Mean Squared Error: 24172.095449128356\n",
      "Mean Absolute Error: 87.49222002199514\n",
      "r2_score: 0.7904467685194762\n",
      "mean_absolute_percentage_error:0.6878457999371526\n"
     ]
    }
   ],
   "source": [
    "mse = mean_squared_error(y_test, y_pred)\n",
    "mae = mean_absolute_error(y_test, y_pred)\n",
    "r2_score=r2_score(y_test, y_pred)\n",
    "mape=mean_absolute_percentage_error(y_test, y_pred)\n",
    "print(f'Mean Squared Error: {mse}')\n",
    "print(f'Mean Absolute Error: {mae}')\n",
    "print(f'r2_score: {r2_score}')\n",
    "print(f'mean_absolute_percentage_error:{mape}')"
   ]
  },
  {
   "cell_type": "markdown",
   "metadata": {},
   "source": [
    "### LSTM"
   ]
  },
  {
   "cell_type": "code",
   "execution_count": 538,
   "metadata": {
    "execution": {
     "iopub.execute_input": "2024-09-01T14:47:24.831187Z",
     "iopub.status.busy": "2024-09-01T14:47:24.830314Z",
     "iopub.status.idle": "2024-09-01T14:47:24.860211Z",
     "shell.execute_reply": "2024-09-01T14:47:24.859380Z",
     "shell.execute_reply.started": "2024-09-01T14:47:24.831149Z"
    }
   },
   "outputs": [],
   "source": [
    "df5=df5[df5['num_orders']<5000]"
   ]
  },
  {
   "cell_type": "code",
   "execution_count": 539,
   "metadata": {
    "execution": {
     "iopub.execute_input": "2024-09-01T14:47:47.252634Z",
     "iopub.status.busy": "2024-09-01T14:47:47.251791Z",
     "iopub.status.idle": "2024-09-01T14:47:47.422157Z",
     "shell.execute_reply": "2024-09-01T14:47:47.421122Z",
     "shell.execute_reply.started": "2024-09-01T14:47:47.252596Z"
    }
   },
   "outputs": [
    {
     "name": "stdout",
     "output_type": "stream",
     "text": [
      "          checkout_price_5th  checkout_price_95th  base_price_5th  \\\n",
      "category                                                            \n",
      "0                       97.0                389.0           117.0   \n",
      "1                      387.0                486.0           418.0   \n",
      "2                      293.0                514.0           388.0   \n",
      "3                      129.0                223.0           161.0   \n",
      "4                      437.0                631.0           581.0   \n",
      "5                      195.0                319.0           231.0   \n",
      "6                      242.0                533.0           336.0   \n",
      "7                      438.0                680.0           549.0   \n",
      "8                      210.0                447.0           257.0   \n",
      "9                      207.0                338.0           243.0   \n",
      "10                     196.0                329.0           273.0   \n",
      "11                     436.0                728.0           609.0   \n",
      "12                     194.0                256.0           194.0   \n",
      "13                     215.0                320.0           242.0   \n",
      "\n",
      "          base_price_95th  \n",
      "category                   \n",
      "0                   455.0  \n",
      "1                   486.0  \n",
      "2                   524.0  \n",
      "3                   320.0  \n",
      "4                   631.0  \n",
      "5                   320.0  \n",
      "6                   551.0  \n",
      "7                   697.0  \n",
      "8                   447.0  \n",
      "9                   340.0  \n",
      "10                  330.0  \n",
      "11                  728.0  \n",
      "12                  271.0  \n",
      "13                  320.0  \n",
      "          count_above_95th_cp  count_below_5th_cp  count_above_95th_bp  \\\n",
      "category                                                                 \n",
      "0                        5861                6352                 6127   \n",
      "1                           1                 344                    7   \n",
      "2                        1355                1238                 1448   \n",
      "3                         670                 651                  461   \n",
      "4                          65                 369                   64   \n",
      "5                        1430                1464                  920   \n",
      "6                        1239                 516                  979   \n",
      "7                        1349                1642                 1501   \n",
      "8                        1041                1654                 1174   \n",
      "9                        1420                1427                 1192   \n",
      "10                       1500                1581                 1531   \n",
      "11                        674                1169                  917   \n",
      "12                        538                  19                  399   \n",
      "13                        876                1460                  896   \n",
      "\n",
      "          count_below_5th_bp  \n",
      "category                      \n",
      "0                       5975  \n",
      "1                        801  \n",
      "2                       1453  \n",
      "3                        630  \n",
      "4                         59  \n",
      "5                       1158  \n",
      "6                       1332  \n",
      "7                       1528  \n",
      "8                       1578  \n",
      "9                       1404  \n",
      "10                      1625  \n",
      "11                      1220  \n",
      "12                         4  \n",
      "13                       812  \n"
     ]
    },
    {
     "name": "stderr",
     "output_type": "stream",
     "text": [
      "/tmp/ipykernel_36/1239596613.py:10: DeprecationWarning: DataFrameGroupBy.apply operated on the grouping columns. This behavior is deprecated, and in a future version of pandas the grouping columns will be excluded from the operation. Either pass `include_groups=False` to exclude the groupings or explicitly select the grouping columns after groupby to silence this warning.\n",
      "  counts = df5.groupby('category').apply(\n"
     ]
    }
   ],
   "source": [
    "# Compute 5th and 95th percentiles for each category\n",
    "percentiles = df5.groupby('category').agg(\n",
    "    checkout_price_5th=('checkout_price', lambda x: x.quantile(0.05)),\n",
    "    checkout_price_95th=('checkout_price', lambda x: x.quantile(0.95)),\n",
    "    base_price_5th=('base_price', lambda x: x.quantile(0.05)),\n",
    "    base_price_95th=('base_price', lambda x: x.quantile(0.95))\n",
    ")\n",
    "\n",
    "# Count values above the 90th percentile and below the 10th percentile for each category\n",
    "counts = df5.groupby('category').apply(\n",
    "    lambda x: pd.Series({\n",
    "        'count_above_95th_cp': (x['checkout_price'] > percentiles.loc[x.name, 'checkout_price_95th']).sum(),\n",
    "        'count_below_5th_cp': (x['checkout_price'] < percentiles.loc[x.name, 'checkout_price_5th']).sum(),\n",
    "        'count_above_95th_bp': (x['base_price'] > percentiles.loc[x.name, 'base_price_95th']).sum(),\n",
    "        'count_below_5th_bp': (x['base_price'] < percentiles.loc[x.name, 'base_price_5th']).sum()\n",
    "    })\n",
    ")\n",
    "\n",
    "print(percentiles)\n",
    "print(counts)\n"
   ]
  },
  {
   "cell_type": "code",
   "execution_count": 541,
   "metadata": {
    "execution": {
     "iopub.execute_input": "2024-09-01T14:48:32.821881Z",
     "iopub.status.busy": "2024-09-01T14:48:32.821239Z",
     "iopub.status.idle": "2024-09-01T14:48:32.879193Z",
     "shell.execute_reply": "2024-09-01T14:48:32.878116Z",
     "shell.execute_reply.started": "2024-09-01T14:48:32.821839Z"
    }
   },
   "outputs": [],
   "source": [
    "filtered_df = df5.copy()\n",
    "\n",
    "# Apply filters to remove outliers\n",
    "filtered_df = filtered_df[\n",
    "    (filtered_df['checkout_price'] >= filtered_df['category'].map(percentiles['checkout_price_5th'])) &\n",
    "    (filtered_df['checkout_price'] <= filtered_df['category'].map(percentiles['checkout_price_95th'])) &\n",
    "    (filtered_df['base_price'] >= filtered_df['category'].map(percentiles['base_price_5th'])) &\n",
    "    (filtered_df['base_price'] <= filtered_df['category'].map(percentiles['base_price_95th']))\n",
    "]"
   ]
  },
  {
   "cell_type": "code",
   "execution_count": 542,
   "metadata": {
    "execution": {
     "iopub.execute_input": "2024-09-01T14:49:34.442153Z",
     "iopub.status.busy": "2024-09-01T14:49:34.441741Z",
     "iopub.status.idle": "2024-09-01T14:49:34.448486Z",
     "shell.execute_reply": "2024-09-01T14:49:34.447499Z",
     "shell.execute_reply.started": "2024-09-01T14:49:34.442116Z"
    }
   },
   "outputs": [
    {
     "data": {
      "text/plain": [
       "(395462, 14)"
      ]
     },
     "execution_count": 542,
     "metadata": {},
     "output_type": "execute_result"
    }
   ],
   "source": [
    "filtered_df.shape"
   ]
  },
  {
   "cell_type": "code",
   "execution_count": 544,
   "metadata": {
    "execution": {
     "iopub.execute_input": "2024-09-01T14:50:14.199870Z",
     "iopub.status.busy": "2024-09-01T14:50:14.199506Z",
     "iopub.status.idle": "2024-09-01T14:50:14.209371Z",
     "shell.execute_reply": "2024-09-01T14:50:14.207946Z",
     "shell.execute_reply.started": "2024-09-01T14:50:14.199836Z"
    }
   },
   "outputs": [],
   "source": [
    "filtered_df.set_index('week',inplace=True)"
   ]
  },
  {
   "cell_type": "code",
   "execution_count": 545,
   "metadata": {
    "execution": {
     "iopub.execute_input": "2024-09-01T14:50:20.656409Z",
     "iopub.status.busy": "2024-09-01T14:50:20.656017Z",
     "iopub.status.idle": "2024-09-01T14:50:20.673437Z",
     "shell.execute_reply": "2024-09-01T14:50:20.672402Z",
     "shell.execute_reply.started": "2024-09-01T14:50:20.656373Z"
    }
   },
   "outputs": [
    {
     "data": {
      "text/html": [
       "<div>\n",
       "<style scoped>\n",
       "    .dataframe tbody tr th:only-of-type {\n",
       "        vertical-align: middle;\n",
       "    }\n",
       "\n",
       "    .dataframe tbody tr th {\n",
       "        vertical-align: top;\n",
       "    }\n",
       "\n",
       "    .dataframe thead th {\n",
       "        text-align: right;\n",
       "    }\n",
       "</style>\n",
       "<table border=\"1\" class=\"dataframe\">\n",
       "  <thead>\n",
       "    <tr style=\"text-align: right;\">\n",
       "      <th></th>\n",
       "      <th>center_id</th>\n",
       "      <th>meal_id</th>\n",
       "      <th>checkout_price</th>\n",
       "      <th>base_price</th>\n",
       "      <th>emailer_for_promotion</th>\n",
       "      <th>homepage_featured</th>\n",
       "      <th>num_orders</th>\n",
       "      <th>city_code</th>\n",
       "      <th>region_code</th>\n",
       "      <th>center_type</th>\n",
       "      <th>op_area</th>\n",
       "      <th>category</th>\n",
       "      <th>cuisine</th>\n",
       "    </tr>\n",
       "    <tr>\n",
       "      <th>week</th>\n",
       "      <th></th>\n",
       "      <th></th>\n",
       "      <th></th>\n",
       "      <th></th>\n",
       "      <th></th>\n",
       "      <th></th>\n",
       "      <th></th>\n",
       "      <th></th>\n",
       "      <th></th>\n",
       "      <th></th>\n",
       "      <th></th>\n",
       "      <th></th>\n",
       "      <th></th>\n",
       "    </tr>\n",
       "  </thead>\n",
       "  <tbody>\n",
       "    <tr>\n",
       "      <th>1</th>\n",
       "      <td>93</td>\n",
       "      <td>1971</td>\n",
       "      <td>261</td>\n",
       "      <td>289</td>\n",
       "      <td>1</td>\n",
       "      <td>0</td>\n",
       "      <td>528</td>\n",
       "      <td>461</td>\n",
       "      <td>34</td>\n",
       "      <td>0</td>\n",
       "      <td>3.9</td>\n",
       "      <td>10</td>\n",
       "      <td>2</td>\n",
       "    </tr>\n",
       "    <tr>\n",
       "      <th>1</th>\n",
       "      <td>83</td>\n",
       "      <td>1248</td>\n",
       "      <td>152</td>\n",
       "      <td>240</td>\n",
       "      <td>0</td>\n",
       "      <td>0</td>\n",
       "      <td>107</td>\n",
       "      <td>659</td>\n",
       "      <td>77</td>\n",
       "      <td>0</td>\n",
       "      <td>5.3</td>\n",
       "      <td>0</td>\n",
       "      <td>1</td>\n",
       "    </tr>\n",
       "    <tr>\n",
       "      <th>1</th>\n",
       "      <td>67</td>\n",
       "      <td>1248</td>\n",
       "      <td>251</td>\n",
       "      <td>253</td>\n",
       "      <td>0</td>\n",
       "      <td>0</td>\n",
       "      <td>26</td>\n",
       "      <td>638</td>\n",
       "      <td>56</td>\n",
       "      <td>1</td>\n",
       "      <td>7.0</td>\n",
       "      <td>0</td>\n",
       "      <td>1</td>\n",
       "    </tr>\n",
       "    <tr>\n",
       "      <th>1</th>\n",
       "      <td>17</td>\n",
       "      <td>1902</td>\n",
       "      <td>387</td>\n",
       "      <td>446</td>\n",
       "      <td>0</td>\n",
       "      <td>0</td>\n",
       "      <td>55</td>\n",
       "      <td>517</td>\n",
       "      <td>56</td>\n",
       "      <td>0</td>\n",
       "      <td>3.2</td>\n",
       "      <td>1</td>\n",
       "      <td>1</td>\n",
       "    </tr>\n",
       "    <tr>\n",
       "      <th>1</th>\n",
       "      <td>139</td>\n",
       "      <td>2581</td>\n",
       "      <td>584</td>\n",
       "      <td>613</td>\n",
       "      <td>1</td>\n",
       "      <td>1</td>\n",
       "      <td>149</td>\n",
       "      <td>693</td>\n",
       "      <td>34</td>\n",
       "      <td>2</td>\n",
       "      <td>2.8</td>\n",
       "      <td>7</td>\n",
       "      <td>0</td>\n",
       "    </tr>\n",
       "    <tr>\n",
       "      <th>...</th>\n",
       "      <td>...</td>\n",
       "      <td>...</td>\n",
       "      <td>...</td>\n",
       "      <td>...</td>\n",
       "      <td>...</td>\n",
       "      <td>...</td>\n",
       "      <td>...</td>\n",
       "      <td>...</td>\n",
       "      <td>...</td>\n",
       "      <td>...</td>\n",
       "      <td>...</td>\n",
       "      <td>...</td>\n",
       "      <td>...</td>\n",
       "    </tr>\n",
       "    <tr>\n",
       "      <th>145</th>\n",
       "      <td>24</td>\n",
       "      <td>1885</td>\n",
       "      <td>159</td>\n",
       "      <td>159</td>\n",
       "      <td>0</td>\n",
       "      <td>0</td>\n",
       "      <td>1890</td>\n",
       "      <td>614</td>\n",
       "      <td>85</td>\n",
       "      <td>1</td>\n",
       "      <td>3.6</td>\n",
       "      <td>0</td>\n",
       "      <td>3</td>\n",
       "    </tr>\n",
       "    <tr>\n",
       "      <th>145</th>\n",
       "      <td>83</td>\n",
       "      <td>1247</td>\n",
       "      <td>447</td>\n",
       "      <td>445</td>\n",
       "      <td>0</td>\n",
       "      <td>0</td>\n",
       "      <td>28</td>\n",
       "      <td>659</td>\n",
       "      <td>77</td>\n",
       "      <td>0</td>\n",
       "      <td>5.3</td>\n",
       "      <td>1</td>\n",
       "      <td>1</td>\n",
       "    </tr>\n",
       "    <tr>\n",
       "      <th>145</th>\n",
       "      <td>68</td>\n",
       "      <td>2104</td>\n",
       "      <td>582</td>\n",
       "      <td>581</td>\n",
       "      <td>0</td>\n",
       "      <td>0</td>\n",
       "      <td>40</td>\n",
       "      <td>676</td>\n",
       "      <td>34</td>\n",
       "      <td>1</td>\n",
       "      <td>4.1</td>\n",
       "      <td>4</td>\n",
       "      <td>0</td>\n",
       "    </tr>\n",
       "    <tr>\n",
       "      <th>145</th>\n",
       "      <td>59</td>\n",
       "      <td>1558</td>\n",
       "      <td>563</td>\n",
       "      <td>563</td>\n",
       "      <td>0</td>\n",
       "      <td>0</td>\n",
       "      <td>67</td>\n",
       "      <td>456</td>\n",
       "      <td>56</td>\n",
       "      <td>0</td>\n",
       "      <td>4.2</td>\n",
       "      <td>7</td>\n",
       "      <td>0</td>\n",
       "    </tr>\n",
       "    <tr>\n",
       "      <th>145</th>\n",
       "      <td>76</td>\n",
       "      <td>1558</td>\n",
       "      <td>563</td>\n",
       "      <td>562</td>\n",
       "      <td>0</td>\n",
       "      <td>0</td>\n",
       "      <td>95</td>\n",
       "      <td>614</td>\n",
       "      <td>85</td>\n",
       "      <td>0</td>\n",
       "      <td>3.0</td>\n",
       "      <td>7</td>\n",
       "      <td>0</td>\n",
       "    </tr>\n",
       "  </tbody>\n",
       "</table>\n",
       "<p>395462 rows × 13 columns</p>\n",
       "</div>"
      ],
      "text/plain": [
       "      center_id  meal_id  checkout_price  base_price  emailer_for_promotion  \\\n",
       "week                                                                          \n",
       "1            93     1971             261         289                      1   \n",
       "1            83     1248             152         240                      0   \n",
       "1            67     1248             251         253                      0   \n",
       "1            17     1902             387         446                      0   \n",
       "1           139     2581             584         613                      1   \n",
       "...         ...      ...             ...         ...                    ...   \n",
       "145          24     1885             159         159                      0   \n",
       "145          83     1247             447         445                      0   \n",
       "145          68     2104             582         581                      0   \n",
       "145          59     1558             563         563                      0   \n",
       "145          76     1558             563         562                      0   \n",
       "\n",
       "      homepage_featured  num_orders  city_code  region_code  center_type  \\\n",
       "week                                                                       \n",
       "1                     0         528        461           34            0   \n",
       "1                     0         107        659           77            0   \n",
       "1                     0          26        638           56            1   \n",
       "1                     0          55        517           56            0   \n",
       "1                     1         149        693           34            2   \n",
       "...                 ...         ...        ...          ...          ...   \n",
       "145                   0        1890        614           85            1   \n",
       "145                   0          28        659           77            0   \n",
       "145                   0          40        676           34            1   \n",
       "145                   0          67        456           56            0   \n",
       "145                   0          95        614           85            0   \n",
       "\n",
       "      op_area  category  cuisine  \n",
       "week                              \n",
       "1         3.9        10        2  \n",
       "1         5.3         0        1  \n",
       "1         7.0         0        1  \n",
       "1         3.2         1        1  \n",
       "1         2.8         7        0  \n",
       "...       ...       ...      ...  \n",
       "145       3.6         0        3  \n",
       "145       5.3         1        1  \n",
       "145       4.1         4        0  \n",
       "145       4.2         7        0  \n",
       "145       3.0         7        0  \n",
       "\n",
       "[395462 rows x 13 columns]"
      ]
     },
     "execution_count": 545,
     "metadata": {},
     "output_type": "execute_result"
    }
   ],
   "source": [
    "filtered_df"
   ]
  },
  {
   "cell_type": "code",
   "execution_count": 548,
   "metadata": {
    "execution": {
     "iopub.execute_input": "2024-09-01T14:51:29.869713Z",
     "iopub.status.busy": "2024-09-01T14:51:29.869334Z",
     "iopub.status.idle": "2024-09-01T14:51:29.889271Z",
     "shell.execute_reply": "2024-09-01T14:51:29.888395Z",
     "shell.execute_reply.started": "2024-09-01T14:51:29.869677Z"
    }
   },
   "outputs": [],
   "source": [
    "X=filtered_df.drop('num_orders',axis=1)\n",
    "y=filtered_df['num_orders']"
   ]
  },
  {
   "cell_type": "code",
   "execution_count": 554,
   "metadata": {
    "execution": {
     "iopub.execute_input": "2024-09-01T14:53:16.993685Z",
     "iopub.status.busy": "2024-09-01T14:53:16.993310Z",
     "iopub.status.idle": "2024-09-01T14:53:17.001417Z",
     "shell.execute_reply": "2024-09-01T14:53:17.000330Z",
     "shell.execute_reply.started": "2024-09-01T14:53:16.993649Z"
    }
   },
   "outputs": [
    {
     "data": {
      "text/plain": [
       "322278"
      ]
     },
     "execution_count": 554,
     "metadata": {},
     "output_type": "execute_result"
    }
   ],
   "source": [
    "len(X.loc[:118])"
   ]
  },
  {
   "cell_type": "code",
   "execution_count": 555,
   "metadata": {
    "execution": {
     "iopub.execute_input": "2024-09-01T14:54:02.178861Z",
     "iopub.status.busy": "2024-09-01T14:54:02.178466Z",
     "iopub.status.idle": "2024-09-01T14:54:02.185434Z",
     "shell.execute_reply": "2024-09-01T14:54:02.184486Z",
     "shell.execute_reply.started": "2024-09-01T14:54:02.178823Z"
    }
   },
   "outputs": [
    {
     "data": {
      "text/plain": [
       "322278"
      ]
     },
     "execution_count": 555,
     "metadata": {},
     "output_type": "execute_result"
    }
   ],
   "source": [
    "len(y.loc[:118])"
   ]
  },
  {
   "cell_type": "code",
   "execution_count": 556,
   "metadata": {
    "execution": {
     "iopub.execute_input": "2024-09-01T14:54:07.134576Z",
     "iopub.status.busy": "2024-09-01T14:54:07.133733Z",
     "iopub.status.idle": "2024-09-01T14:54:07.228101Z",
     "shell.execute_reply": "2024-09-01T14:54:07.227204Z",
     "shell.execute_reply.started": "2024-09-01T14:54:07.134534Z"
    }
   },
   "outputs": [],
   "source": [
    "scaler = StandardScaler()\n",
    "scaled_x=scaler.fit_transform(X)"
   ]
  },
  {
   "cell_type": "code",
   "execution_count": 557,
   "metadata": {
    "execution": {
     "iopub.execute_input": "2024-09-01T14:54:40.175615Z",
     "iopub.status.busy": "2024-09-01T14:54:40.174760Z",
     "iopub.status.idle": "2024-09-01T14:54:40.180726Z",
     "shell.execute_reply": "2024-09-01T14:54:40.179733Z",
     "shell.execute_reply.started": "2024-09-01T14:54:40.175576Z"
    }
   },
   "outputs": [],
   "source": [
    "x_train=scaled_x[:322278]\n",
    "x_test=scaled_x[322278:]\n",
    "y_train=y.loc[:118]\n",
    "y_test=y.loc[119:]"
   ]
  },
  {
   "cell_type": "code",
   "execution_count": 558,
   "metadata": {
    "execution": {
     "iopub.execute_input": "2024-09-01T14:55:07.189942Z",
     "iopub.status.busy": "2024-09-01T14:55:07.189081Z",
     "iopub.status.idle": "2024-09-01T14:55:07.264096Z",
     "shell.execute_reply": "2024-09-01T14:55:07.263034Z",
     "shell.execute_reply.started": "2024-09-01T14:55:07.189904Z"
    }
   },
   "outputs": [
    {
     "name": "stderr",
     "output_type": "stream",
     "text": [
      "/opt/conda/lib/python3.10/site-packages/keras/src/layers/rnn/rnn.py:204: UserWarning: Do not pass an `input_shape`/`input_dim` argument to a layer. When using Sequential models, prefer using an `Input(shape)` object as the first layer in the model instead.\n",
      "  super().__init__(**kwargs)\n"
     ]
    }
   ],
   "source": [
    "model=Sequential()\n",
    "model.add(LSTM(128,return_sequences=True,input_shape=(x_train.shape[1],1)))\n",
    "model.add(LSTM(64,return_sequences=False))\n",
    "model.add(Dense(25))\n",
    "model.add(Dense(1))"
   ]
  },
  {
   "cell_type": "code",
   "execution_count": 559,
   "metadata": {
    "execution": {
     "iopub.execute_input": "2024-09-01T14:55:37.845683Z",
     "iopub.status.busy": "2024-09-01T14:55:37.844902Z",
     "iopub.status.idle": "2024-09-01T14:55:37.864817Z",
     "shell.execute_reply": "2024-09-01T14:55:37.863747Z",
     "shell.execute_reply.started": "2024-09-01T14:55:37.845642Z"
    }
   },
   "outputs": [
    {
     "data": {
      "text/html": [
       "<pre style=\"white-space:pre;overflow-x:auto;line-height:normal;font-family:Menlo,'DejaVu Sans Mono',consolas,'Courier New',monospace\"><span style=\"font-weight: bold\">Model: \"sequential_15\"</span>\n",
       "</pre>\n"
      ],
      "text/plain": [
       "\u001b[1mModel: \"sequential_15\"\u001b[0m\n"
      ]
     },
     "metadata": {},
     "output_type": "display_data"
    },
    {
     "data": {
      "text/html": [
       "<pre style=\"white-space:pre;overflow-x:auto;line-height:normal;font-family:Menlo,'DejaVu Sans Mono',consolas,'Courier New',monospace\">┏━━━━━━━━━━━━━━━━━━━━━━━━━━━━━━━━━┳━━━━━━━━━━━━━━━━━━━━━━━━┳━━━━━━━━━━━━━━━┓\n",
       "┃<span style=\"font-weight: bold\"> Layer (type)                    </span>┃<span style=\"font-weight: bold\"> Output Shape           </span>┃<span style=\"font-weight: bold\">       Param # </span>┃\n",
       "┡━━━━━━━━━━━━━━━━━━━━━━━━━━━━━━━━━╇━━━━━━━━━━━━━━━━━━━━━━━━╇━━━━━━━━━━━━━━━┩\n",
       "│ lstm_30 (<span style=\"color: #0087ff; text-decoration-color: #0087ff\">LSTM</span>)                  │ (<span style=\"color: #00d7ff; text-decoration-color: #00d7ff\">None</span>, <span style=\"color: #00af00; text-decoration-color: #00af00\">12</span>, <span style=\"color: #00af00; text-decoration-color: #00af00\">128</span>)        │        <span style=\"color: #00af00; text-decoration-color: #00af00\">66,560</span> │\n",
       "├─────────────────────────────────┼────────────────────────┼───────────────┤\n",
       "│ lstm_31 (<span style=\"color: #0087ff; text-decoration-color: #0087ff\">LSTM</span>)                  │ (<span style=\"color: #00d7ff; text-decoration-color: #00d7ff\">None</span>, <span style=\"color: #00af00; text-decoration-color: #00af00\">64</span>)             │        <span style=\"color: #00af00; text-decoration-color: #00af00\">49,408</span> │\n",
       "├─────────────────────────────────┼────────────────────────┼───────────────┤\n",
       "│ dense_30 (<span style=\"color: #0087ff; text-decoration-color: #0087ff\">Dense</span>)                │ (<span style=\"color: #00d7ff; text-decoration-color: #00d7ff\">None</span>, <span style=\"color: #00af00; text-decoration-color: #00af00\">25</span>)             │         <span style=\"color: #00af00; text-decoration-color: #00af00\">1,625</span> │\n",
       "├─────────────────────────────────┼────────────────────────┼───────────────┤\n",
       "│ dense_31 (<span style=\"color: #0087ff; text-decoration-color: #0087ff\">Dense</span>)                │ (<span style=\"color: #00d7ff; text-decoration-color: #00d7ff\">None</span>, <span style=\"color: #00af00; text-decoration-color: #00af00\">1</span>)              │            <span style=\"color: #00af00; text-decoration-color: #00af00\">26</span> │\n",
       "└─────────────────────────────────┴────────────────────────┴───────────────┘\n",
       "</pre>\n"
      ],
      "text/plain": [
       "┏━━━━━━━━━━━━━━━━━━━━━━━━━━━━━━━━━┳━━━━━━━━━━━━━━━━━━━━━━━━┳━━━━━━━━━━━━━━━┓\n",
       "┃\u001b[1m \u001b[0m\u001b[1mLayer (type)                   \u001b[0m\u001b[1m \u001b[0m┃\u001b[1m \u001b[0m\u001b[1mOutput Shape          \u001b[0m\u001b[1m \u001b[0m┃\u001b[1m \u001b[0m\u001b[1m      Param #\u001b[0m\u001b[1m \u001b[0m┃\n",
       "┡━━━━━━━━━━━━━━━━━━━━━━━━━━━━━━━━━╇━━━━━━━━━━━━━━━━━━━━━━━━╇━━━━━━━━━━━━━━━┩\n",
       "│ lstm_30 (\u001b[38;5;33mLSTM\u001b[0m)                  │ (\u001b[38;5;45mNone\u001b[0m, \u001b[38;5;34m12\u001b[0m, \u001b[38;5;34m128\u001b[0m)        │        \u001b[38;5;34m66,560\u001b[0m │\n",
       "├─────────────────────────────────┼────────────────────────┼───────────────┤\n",
       "│ lstm_31 (\u001b[38;5;33mLSTM\u001b[0m)                  │ (\u001b[38;5;45mNone\u001b[0m, \u001b[38;5;34m64\u001b[0m)             │        \u001b[38;5;34m49,408\u001b[0m │\n",
       "├─────────────────────────────────┼────────────────────────┼───────────────┤\n",
       "│ dense_30 (\u001b[38;5;33mDense\u001b[0m)                │ (\u001b[38;5;45mNone\u001b[0m, \u001b[38;5;34m25\u001b[0m)             │         \u001b[38;5;34m1,625\u001b[0m │\n",
       "├─────────────────────────────────┼────────────────────────┼───────────────┤\n",
       "│ dense_31 (\u001b[38;5;33mDense\u001b[0m)                │ (\u001b[38;5;45mNone\u001b[0m, \u001b[38;5;34m1\u001b[0m)              │            \u001b[38;5;34m26\u001b[0m │\n",
       "└─────────────────────────────────┴────────────────────────┴───────────────┘\n"
      ]
     },
     "metadata": {},
     "output_type": "display_data"
    },
    {
     "data": {
      "text/html": [
       "<pre style=\"white-space:pre;overflow-x:auto;line-height:normal;font-family:Menlo,'DejaVu Sans Mono',consolas,'Courier New',monospace\"><span style=\"font-weight: bold\"> Total params: </span><span style=\"color: #00af00; text-decoration-color: #00af00\">117,619</span> (459.45 KB)\n",
       "</pre>\n"
      ],
      "text/plain": [
       "\u001b[1m Total params: \u001b[0m\u001b[38;5;34m117,619\u001b[0m (459.45 KB)\n"
      ]
     },
     "metadata": {},
     "output_type": "display_data"
    },
    {
     "data": {
      "text/html": [
       "<pre style=\"white-space:pre;overflow-x:auto;line-height:normal;font-family:Menlo,'DejaVu Sans Mono',consolas,'Courier New',monospace\"><span style=\"font-weight: bold\"> Trainable params: </span><span style=\"color: #00af00; text-decoration-color: #00af00\">117,619</span> (459.45 KB)\n",
       "</pre>\n"
      ],
      "text/plain": [
       "\u001b[1m Trainable params: \u001b[0m\u001b[38;5;34m117,619\u001b[0m (459.45 KB)\n"
      ]
     },
     "metadata": {},
     "output_type": "display_data"
    },
    {
     "data": {
      "text/html": [
       "<pre style=\"white-space:pre;overflow-x:auto;line-height:normal;font-family:Menlo,'DejaVu Sans Mono',consolas,'Courier New',monospace\"><span style=\"font-weight: bold\"> Non-trainable params: </span><span style=\"color: #00af00; text-decoration-color: #00af00\">0</span> (0.00 B)\n",
       "</pre>\n"
      ],
      "text/plain": [
       "\u001b[1m Non-trainable params: \u001b[0m\u001b[38;5;34m0\u001b[0m (0.00 B)\n"
      ]
     },
     "metadata": {},
     "output_type": "display_data"
    }
   ],
   "source": [
    "model.summary()"
   ]
  },
  {
   "cell_type": "code",
   "execution_count": 560,
   "metadata": {
    "execution": {
     "iopub.execute_input": "2024-09-01T14:55:41.143215Z",
     "iopub.status.busy": "2024-09-01T14:55:41.142439Z",
     "iopub.status.idle": "2024-09-01T14:55:41.153133Z",
     "shell.execute_reply": "2024-09-01T14:55:41.152204Z",
     "shell.execute_reply.started": "2024-09-01T14:55:41.143173Z"
    }
   },
   "outputs": [],
   "source": [
    "model.compile(optimizer='adam', loss='mean_squared_error')\n"
   ]
  },
  {
   "cell_type": "code",
   "execution_count": 561,
   "metadata": {
    "execution": {
     "iopub.execute_input": "2024-09-01T14:55:53.809713Z",
     "iopub.status.busy": "2024-09-01T14:55:53.808969Z",
     "iopub.status.idle": "2024-09-01T15:00:53.533316Z",
     "shell.execute_reply": "2024-09-01T15:00:53.532334Z",
     "shell.execute_reply.started": "2024-09-01T14:55:53.809676Z"
    }
   },
   "outputs": [
    {
     "name": "stdout",
     "output_type": "stream",
     "text": [
      "Epoch 1/20\n",
      "\u001b[1m2518/2518\u001b[0m \u001b[32m━━━━━━━━━━━━━━━━━━━━\u001b[0m\u001b[37m\u001b[0m \u001b[1m17s\u001b[0m 6ms/step - loss: 117603.7656 - val_loss: 103486.2266\n",
      "Epoch 2/20\n",
      "\u001b[1m2518/2518\u001b[0m \u001b[32m━━━━━━━━━━━━━━━━━━━━\u001b[0m\u001b[37m\u001b[0m \u001b[1m15s\u001b[0m 6ms/step - loss: 79584.5000 - val_loss: 32671.5488\n",
      "Epoch 3/20\n",
      "\u001b[1m2518/2518\u001b[0m \u001b[32m━━━━━━━━━━━━━━━━━━━━\u001b[0m\u001b[37m\u001b[0m \u001b[1m15s\u001b[0m 6ms/step - loss: 29948.8906 - val_loss: 27252.2969\n",
      "Epoch 4/20\n",
      "\u001b[1m2518/2518\u001b[0m \u001b[32m━━━━━━━━━━━━━━━━━━━━\u001b[0m\u001b[37m\u001b[0m \u001b[1m15s\u001b[0m 6ms/step - loss: 24917.9629 - val_loss: 24698.0234\n",
      "Epoch 5/20\n",
      "\u001b[1m2518/2518\u001b[0m \u001b[32m━━━━━━━━━━━━━━━━━━━━\u001b[0m\u001b[37m\u001b[0m \u001b[1m16s\u001b[0m 6ms/step - loss: 22782.2930 - val_loss: 23971.4688\n",
      "Epoch 6/20\n",
      "\u001b[1m2518/2518\u001b[0m \u001b[32m━━━━━━━━━━━━━━━━━━━━\u001b[0m\u001b[37m\u001b[0m \u001b[1m15s\u001b[0m 6ms/step - loss: 22194.7559 - val_loss: 23453.6582\n",
      "Epoch 7/20\n",
      "\u001b[1m2518/2518\u001b[0m \u001b[32m━━━━━━━━━━━━━━━━━━━━\u001b[0m\u001b[37m\u001b[0m \u001b[1m15s\u001b[0m 6ms/step - loss: 20898.8594 - val_loss: 22464.8555\n",
      "Epoch 8/20\n",
      "\u001b[1m2518/2518\u001b[0m \u001b[32m━━━━━━━━━━━━━━━━━━━━\u001b[0m\u001b[37m\u001b[0m \u001b[1m14s\u001b[0m 6ms/step - loss: 20021.7793 - val_loss: 21200.0742\n",
      "Epoch 9/20\n",
      "\u001b[1m2518/2518\u001b[0m \u001b[32m━━━━━━━━━━━━━━━━━━━━\u001b[0m\u001b[37m\u001b[0m \u001b[1m15s\u001b[0m 6ms/step - loss: 19558.6895 - val_loss: 21681.1270\n",
      "Epoch 10/20\n",
      "\u001b[1m2518/2518\u001b[0m \u001b[32m━━━━━━━━━━━━━━━━━━━━\u001b[0m\u001b[37m\u001b[0m \u001b[1m15s\u001b[0m 6ms/step - loss: 18801.8828 - val_loss: 22034.2012\n",
      "Epoch 11/20\n",
      "\u001b[1m2518/2518\u001b[0m \u001b[32m━━━━━━━━━━━━━━━━━━━━\u001b[0m\u001b[37m\u001b[0m \u001b[1m15s\u001b[0m 6ms/step - loss: 18254.6211 - val_loss: 21183.7324\n",
      "Epoch 12/20\n",
      "\u001b[1m2518/2518\u001b[0m \u001b[32m━━━━━━━━━━━━━━━━━━━━\u001b[0m\u001b[37m\u001b[0m \u001b[1m15s\u001b[0m 6ms/step - loss: 17833.0918 - val_loss: 21276.9551\n",
      "Epoch 13/20\n",
      "\u001b[1m2518/2518\u001b[0m \u001b[32m━━━━━━━━━━━━━━━━━━━━\u001b[0m\u001b[37m\u001b[0m \u001b[1m15s\u001b[0m 6ms/step - loss: 17758.7051 - val_loss: 21703.5820\n",
      "Epoch 14/20\n",
      "\u001b[1m2518/2518\u001b[0m \u001b[32m━━━━━━━━━━━━━━━━━━━━\u001b[0m\u001b[37m\u001b[0m \u001b[1m15s\u001b[0m 6ms/step - loss: 17413.8867 - val_loss: 22925.5488\n",
      "Epoch 15/20\n",
      "\u001b[1m2518/2518\u001b[0m \u001b[32m━━━━━━━━━━━━━━━━━━━━\u001b[0m\u001b[37m\u001b[0m \u001b[1m15s\u001b[0m 6ms/step - loss: 17288.6699 - val_loss: 20759.9746\n",
      "Epoch 16/20\n",
      "\u001b[1m2518/2518\u001b[0m \u001b[32m━━━━━━━━━━━━━━━━━━━━\u001b[0m\u001b[37m\u001b[0m \u001b[1m15s\u001b[0m 6ms/step - loss: 16616.9082 - val_loss: 21055.3887\n",
      "Epoch 17/20\n",
      "\u001b[1m2518/2518\u001b[0m \u001b[32m━━━━━━━━━━━━━━━━━━━━\u001b[0m\u001b[37m\u001b[0m \u001b[1m15s\u001b[0m 6ms/step - loss: 16584.0176 - val_loss: 20935.5684\n",
      "Epoch 18/20\n",
      "\u001b[1m2518/2518\u001b[0m \u001b[32m━━━━━━━━━━━━━━━━━━━━\u001b[0m\u001b[37m\u001b[0m \u001b[1m15s\u001b[0m 6ms/step - loss: 16625.7109 - val_loss: 20193.7422\n",
      "Epoch 19/20\n",
      "\u001b[1m2518/2518\u001b[0m \u001b[32m━━━━━━━━━━━━━━━━━━━━\u001b[0m\u001b[37m\u001b[0m \u001b[1m15s\u001b[0m 6ms/step - loss: 16423.1133 - val_loss: 20743.7695\n",
      "Epoch 20/20\n",
      "\u001b[1m2518/2518\u001b[0m \u001b[32m━━━━━━━━━━━━━━━━━━━━\u001b[0m\u001b[37m\u001b[0m \u001b[1m15s\u001b[0m 6ms/step - loss: 16577.5098 - val_loss: 20129.3418\n"
     ]
    },
    {
     "data": {
      "text/plain": [
       "<keras.src.callbacks.history.History at 0x7e46852cdf00>"
      ]
     },
     "execution_count": 561,
     "metadata": {},
     "output_type": "execute_result"
    }
   ],
   "source": [
    "model.fit(x_train, y_train, epochs=20, batch_size=128, validation_data=(x_test, y_test))\n"
   ]
  },
  {
   "cell_type": "code",
   "execution_count": 562,
   "metadata": {
    "execution": {
     "iopub.execute_input": "2024-09-01T15:00:53.536342Z",
     "iopub.status.busy": "2024-09-01T15:00:53.535430Z",
     "iopub.status.idle": "2024-09-01T15:00:58.680669Z",
     "shell.execute_reply": "2024-09-01T15:00:58.679853Z",
     "shell.execute_reply.started": "2024-09-01T15:00:53.536292Z"
    }
   },
   "outputs": [
    {
     "name": "stdout",
     "output_type": "stream",
     "text": [
      "\u001b[1m2287/2287\u001b[0m \u001b[32m━━━━━━━━━━━━━━━━━━━━\u001b[0m\u001b[37m\u001b[0m \u001b[1m5s\u001b[0m 2ms/step - loss: 20523.3281\n"
     ]
    }
   ],
   "source": [
    "val_loss = model.evaluate(x_test, y_test)"
   ]
  },
  {
   "cell_type": "code",
   "execution_count": 563,
   "metadata": {
    "execution": {
     "iopub.execute_input": "2024-09-01T15:00:58.682614Z",
     "iopub.status.busy": "2024-09-01T15:00:58.682152Z",
     "iopub.status.idle": "2024-09-01T15:00:58.687536Z",
     "shell.execute_reply": "2024-09-01T15:00:58.686660Z",
     "shell.execute_reply.started": "2024-09-01T15:00:58.682569Z"
    }
   },
   "outputs": [
    {
     "name": "stdout",
     "output_type": "stream",
     "text": [
      "Validation Loss: 20129.357421875\n"
     ]
    }
   ],
   "source": [
    "print(f'Validation Loss: {val_loss}')"
   ]
  },
  {
   "cell_type": "code",
   "execution_count": 564,
   "metadata": {
    "execution": {
     "iopub.execute_input": "2024-09-01T15:00:58.689774Z",
     "iopub.status.busy": "2024-09-01T15:00:58.689437Z",
     "iopub.status.idle": "2024-09-01T15:01:04.349819Z",
     "shell.execute_reply": "2024-09-01T15:01:04.348807Z",
     "shell.execute_reply.started": "2024-09-01T15:00:58.689739Z"
    }
   },
   "outputs": [
    {
     "name": "stdout",
     "output_type": "stream",
     "text": [
      "\u001b[1m2287/2287\u001b[0m \u001b[32m━━━━━━━━━━━━━━━━━━━━\u001b[0m\u001b[37m\u001b[0m \u001b[1m4s\u001b[0m 2ms/step\n"
     ]
    }
   ],
   "source": [
    "y_pred = model.predict(x_test)"
   ]
  },
  {
   "cell_type": "code",
   "execution_count": 568,
   "metadata": {
    "execution": {
     "iopub.execute_input": "2024-09-01T15:01:39.097494Z",
     "iopub.status.busy": "2024-09-01T15:01:39.097081Z",
     "iopub.status.idle": "2024-09-01T15:01:39.110120Z",
     "shell.execute_reply": "2024-09-01T15:01:39.109019Z",
     "shell.execute_reply.started": "2024-09-01T15:01:39.097455Z"
    }
   },
   "outputs": [
    {
     "name": "stdout",
     "output_type": "stream",
     "text": [
      "Mean Squared Error: 20129.329771968114\n",
      "Mean Absolute Error: 79.39582052619686\n",
      "r2_score: 0.8053720428639154\n",
      "mean_absolute_percentage_error:0.6068022248791368\n"
     ]
    }
   ],
   "source": [
    "mse = mean_squared_error(y_test, y_pred)\n",
    "mae = mean_absolute_error(y_test, y_pred)\n",
    "r2_score=r2_score(y_test, y_pred)\n",
    "mape=mean_absolute_percentage_error(y_test, y_pred)\n",
    "print(f'Mean Squared Error: {mse}')\n",
    "print(f'Mean Absolute Error: {mae}')\n",
    "print(f'r2_score: {r2_score}')\n",
    "print(f'mean_absolute_percentage_error:{mape}')"
   ]
  },
  {
   "cell_type": "code",
   "execution_count": null,
   "metadata": {},
   "outputs": [],
   "source": []
  }
 ],
 "metadata": {
  "kaggle": {
   "accelerator": "gpu",
   "dataSources": [
    {
     "datasetId": 5622882,
     "sourceId": 9288477,
     "sourceType": "datasetVersion"
    }
   ],
   "dockerImageVersionId": 30762,
   "isGpuEnabled": true,
   "isInternetEnabled": true,
   "language": "python",
   "sourceType": "notebook"
  },
  "kernelspec": {
   "display_name": "Python 3 (ipykernel)",
   "language": "python",
   "name": "python3"
  },
  "language_info": {
   "codemirror_mode": {
    "name": "ipython",
    "version": 3
   },
   "file_extension": ".py",
   "mimetype": "text/x-python",
   "name": "python",
   "nbconvert_exporter": "python",
   "pygments_lexer": "ipython3",
   "version": "3.11.7"
  }
 },
 "nbformat": 4,
 "nbformat_minor": 4
}
